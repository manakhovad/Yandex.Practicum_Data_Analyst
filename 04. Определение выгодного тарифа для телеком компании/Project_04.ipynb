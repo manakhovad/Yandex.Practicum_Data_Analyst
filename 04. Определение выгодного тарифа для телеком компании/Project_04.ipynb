{
 "cells": [
  {
   "cell_type": "markdown",
   "metadata": {},
   "source": [
    "<div style=\"border-radius: 15px; border: 3px solid indigo; padding: 15px;\">\n",
    "<b> Комментарий ревьюера</b>\n",
    "    \n",
    "Привет! Меня зовут Светлана Носова, я проверяла твой прошлый проект и буду проверять этот. \n",
    "    \n",
    "Снова **ответы на мои комментарии или доработки по моим рекомендациям попрошу выделить каким-нибудь цветом, кроме трех перечисленных.**\n",
    "Также я попрошу тебя **не менять и не передвигать мои комментарии**, чтобы при последующей проверке мне было проще ориентироваться.\n",
    "    \n",
    " \n",
    "        \n",
    "<hr>\n",
    "    \n",
    "**По проекту:** эта работа тоже классно получилась. У меня есть рекомендации по улучшению, я их описала в комментариях. И кое-что надо будет подправить. \n",
    "</div>"
   ]
  },
  {
   "cell_type": "markdown",
   "metadata": {},
   "source": [
    ">**<span style=\"color:blue\">Привет! Я очень рада снова вместе поработать!)))</span>**\n",
    ">\n",
    ">**<span style=\"color:blue\">Спасибо за твою оценку! И особенно за комментарии. Не скажу, что сразу знаю как надо исправить: приходится думать и копаться в информации. Но, в этом же и смысл обучения.) </span>**\n",
    ">\n",
    ">**<span style=\"color:blue\">Писать буду так же синим.</span>**\n",
    ">\n",
    ">\n",
    ">**<span style=\"color:blue\">Было бы здорово, поработать вместе и на сборном проекте. У меня иногда прям руки опускаются, от того, как долго я соображаю, что нужно. И иногда кажется, что уж прям совсем не моё. А твои рекомендации дают мне надежду, что я не совсем потеряна для этой дисциплины.</span>**"
   ]
  },
  {
   "cell_type": "markdown",
   "metadata": {},
   "source": [
    "<div style=\"border-radius: 15px; border: 3px solid indigo; padding: 15px;\">\n",
    "<b> Комментарий ревьюера 2</b>\n",
    "    \n",
    "Ты себя недооцениваешь :) Возможно, и сборный проект буду проверять я. Тут уж как получится. А в этой работе остался один момент: округление производишь не тем методом.\n",
    "</div>"
   ]
  },
  {
   "cell_type": "markdown",
   "metadata": {},
   "source": [
    "<div style=\"border-radius: 15px; border: 3px solid indigo; padding: 15px;\">\n",
    "<b> Комментарий ревьюера 3</b>\n",
    "    \n",
    "Супер! Работу могу принять :) Удачи :)\n",
    "</div>"
   ]
  },
  {
   "cell_type": "markdown",
   "metadata": {},
   "source": [
    "# Определение перспективного тарифа для телеком компании"
   ]
  },
  {
   "cell_type": "markdown",
   "metadata": {},
   "source": [
    "Вы аналитик компании «Мегалайн» — федерального оператора сотовой связи. Клиентам предлагают два тарифных плана: «Смарт» и «Ультра». Чтобы скорректировать рекламный бюджет, коммерческий департамент хочет понять, какой тариф приносит больше денег.\n",
    "Вам предстоит сделать предварительный анализ тарифов на небольшой выборке клиентов. В вашем распоряжении данные 500 пользователей «Мегалайна»: кто они, откуда, каким тарифом пользуются, сколько звонков и сообщений каждый отправил за 2018 год. Нужно проанализировать поведение клиентов и сделать вывод — какой тариф лучше."
   ]
  },
  {
   "cell_type": "markdown",
   "metadata": {},
   "source": [
    "### Описание тарифов"
   ]
  },
  {
   "cell_type": "markdown",
   "metadata": {},
   "source": [
    "#### Тариф «Смарт»"
   ]
  },
  {
   "cell_type": "markdown",
   "metadata": {},
   "source": [
    "1. Ежемесячная плата: 550 рублей\n",
    "2. Включено 500 минут разговора, 50 сообщений и 15 Гб интернет-трафика\n",
    "3. Стоимость услуг сверх тарифного пакета:\n",
    "    * минута разговора: 3 рубля\n",
    "    * сообщение: 3 рубля\n",
    "    * 1 Гб интернет-трафика: 200 рублей"
   ]
  },
  {
   "cell_type": "markdown",
   "metadata": {},
   "source": [
    "#### Тариф «Ультра»"
   ]
  },
  {
   "cell_type": "markdown",
   "metadata": {},
   "source": [
    "1. Ежемесячная плата: 1950 рублей\n",
    "2. Включено 3000 минут разговора, 1000 сообщений и 30 Гб интернет-трафика\n",
    "3. Стоимость услуг сверх тарифного пакета:\n",
    "    * минута разговора: 1 рубль\n",
    "    * сообщение: 1 рубль\n",
    "    * 1 Гб интернет-трафика: 150 рублей"
   ]
  },
  {
   "cell_type": "markdown",
   "metadata": {},
   "source": [
    "**Примечание**: «Мегалайн» всегда округляет вверх значения минут и мегабайтов. Если пользователь проговорил всего 1 секунду, в тарифе засчитывается целая минута."
   ]
  },
  {
   "cell_type": "markdown",
   "metadata": {},
   "source": [
    "### Шаг 1. Откройте файл с данными и изучите общую информацию"
   ]
  },
  {
   "cell_type": "markdown",
   "metadata": {},
   "source": [
    "Импортируем все необходимые для решения поставленных задач библиотеки."
   ]
  },
  {
   "cell_type": "code",
   "execution_count": 1,
   "metadata": {},
   "outputs": [],
   "source": [
    "# <импорт библиотеки numpy>\n",
    "import numpy as np\n",
    "\n",
    "# <импорт библиотеки pandas>\n",
    "import pandas as pd\n",
    "\n",
    "# <импорт библиотеки matplotlib для работы с графиками>\n",
    "import matplotlib.pyplot as plt\n",
    "\n",
    "# <импорт библиотеки scipy>\n",
    "from scipy import stats as st\n",
    "\n",
    "pd.options.mode.chained_assignment = None"
   ]
  },
  {
   "cell_type": "markdown",
   "metadata": {},
   "source": [
    "Прочитаем все файлы .csv и сохраним их в переменные *'***_df'*."
   ]
  },
  {
   "cell_type": "code",
   "execution_count": 2,
   "metadata": {},
   "outputs": [],
   "source": [
    "# <чтение файлов с данными о звонках и сохранением в calls_df>\n",
    "calls_df = pd.read_csv('/datasets/calls.csv')\n",
    "\n",
    "# <чтение файлов с данными об интернет-сессиях и сохранением в internet_df>\n",
    "internet_df = pd.read_csv('/datasets/internet.csv')\n",
    "\n",
    "# <чтение файлов с данными о сообщениях и сохранением в messages_df>\n",
    "messages_df = pd.read_csv('/datasets/messages.csv')\n",
    "\n",
    "# <чтение файлов с данными о тарифах и сохранением в tariffs_df>\n",
    "tariffs_df = pd.read_csv('/datasets/tariffs.csv')\n",
    "\n",
    "# <чтение файлов с данными о пользователях и сохранением в users_df>\n",
    "users_df = pd.read_csv('/datasets/users.csv')"
   ]
  },
  {
   "cell_type": "markdown",
   "metadata": {},
   "source": [
    "Рассмотрим каждый из датасетов по отдельности.\n",
    "\n",
    "Начнем с данных о **пользователях** (*users_df*)."
   ]
  },
  {
   "cell_type": "code",
   "execution_count": 3,
   "metadata": {},
   "outputs": [
    {
     "data": {
      "text/html": [
       "<div>\n",
       "<style scoped>\n",
       "    .dataframe tbody tr th:only-of-type {\n",
       "        vertical-align: middle;\n",
       "    }\n",
       "\n",
       "    .dataframe tbody tr th {\n",
       "        vertical-align: top;\n",
       "    }\n",
       "\n",
       "    .dataframe thead th {\n",
       "        text-align: right;\n",
       "    }\n",
       "</style>\n",
       "<table border=\"1\" class=\"dataframe\">\n",
       "  <thead>\n",
       "    <tr style=\"text-align: right;\">\n",
       "      <th></th>\n",
       "      <th>user_id</th>\n",
       "      <th>age</th>\n",
       "      <th>churn_date</th>\n",
       "      <th>city</th>\n",
       "      <th>first_name</th>\n",
       "      <th>last_name</th>\n",
       "      <th>reg_date</th>\n",
       "      <th>tariff</th>\n",
       "    </tr>\n",
       "  </thead>\n",
       "  <tbody>\n",
       "    <tr>\n",
       "      <td>0</td>\n",
       "      <td>1000</td>\n",
       "      <td>52</td>\n",
       "      <td>NaN</td>\n",
       "      <td>Краснодар</td>\n",
       "      <td>Рафаил</td>\n",
       "      <td>Верещагин</td>\n",
       "      <td>2018-05-25</td>\n",
       "      <td>ultra</td>\n",
       "    </tr>\n",
       "    <tr>\n",
       "      <td>1</td>\n",
       "      <td>1001</td>\n",
       "      <td>41</td>\n",
       "      <td>NaN</td>\n",
       "      <td>Москва</td>\n",
       "      <td>Иван</td>\n",
       "      <td>Ежов</td>\n",
       "      <td>2018-11-01</td>\n",
       "      <td>smart</td>\n",
       "    </tr>\n",
       "    <tr>\n",
       "      <td>2</td>\n",
       "      <td>1002</td>\n",
       "      <td>59</td>\n",
       "      <td>NaN</td>\n",
       "      <td>Стерлитамак</td>\n",
       "      <td>Евгений</td>\n",
       "      <td>Абрамович</td>\n",
       "      <td>2018-06-17</td>\n",
       "      <td>smart</td>\n",
       "    </tr>\n",
       "    <tr>\n",
       "      <td>3</td>\n",
       "      <td>1003</td>\n",
       "      <td>23</td>\n",
       "      <td>NaN</td>\n",
       "      <td>Москва</td>\n",
       "      <td>Белла</td>\n",
       "      <td>Белякова</td>\n",
       "      <td>2018-08-17</td>\n",
       "      <td>ultra</td>\n",
       "    </tr>\n",
       "    <tr>\n",
       "      <td>4</td>\n",
       "      <td>1004</td>\n",
       "      <td>68</td>\n",
       "      <td>NaN</td>\n",
       "      <td>Новокузнецк</td>\n",
       "      <td>Татьяна</td>\n",
       "      <td>Авдеенко</td>\n",
       "      <td>2018-05-14</td>\n",
       "      <td>ultra</td>\n",
       "    </tr>\n",
       "  </tbody>\n",
       "</table>\n",
       "</div>"
      ],
      "text/plain": [
       "   user_id  age churn_date         city first_name  last_name    reg_date  \\\n",
       "0     1000   52        NaN    Краснодар     Рафаил  Верещагин  2018-05-25   \n",
       "1     1001   41        NaN       Москва       Иван       Ежов  2018-11-01   \n",
       "2     1002   59        NaN  Стерлитамак    Евгений  Абрамович  2018-06-17   \n",
       "3     1003   23        NaN       Москва      Белла   Белякова  2018-08-17   \n",
       "4     1004   68        NaN  Новокузнецк    Татьяна   Авдеенко  2018-05-14   \n",
       "\n",
       "  tariff  \n",
       "0  ultra  \n",
       "1  smart  \n",
       "2  smart  \n",
       "3  ultra  \n",
       "4  ultra  "
      ]
     },
     "execution_count": 3,
     "metadata": {},
     "output_type": "execute_result"
    }
   ],
   "source": [
    "# <получение первых 5 строк таблицы df>\n",
    "users_df.head()"
   ]
  },
  {
   "cell_type": "code",
   "execution_count": 4,
   "metadata": {},
   "outputs": [
    {
     "name": "stdout",
     "output_type": "stream",
     "text": [
      "<class 'pandas.core.frame.DataFrame'>\n",
      "RangeIndex: 500 entries, 0 to 499\n",
      "Data columns (total 8 columns):\n",
      "user_id       500 non-null int64\n",
      "age           500 non-null int64\n",
      "churn_date    38 non-null object\n",
      "city          500 non-null object\n",
      "first_name    500 non-null object\n",
      "last_name     500 non-null object\n",
      "reg_date      500 non-null object\n",
      "tariff        500 non-null object\n",
      "dtypes: int64(2), object(6)\n",
      "memory usage: 31.4+ KB\n"
     ]
    }
   ],
   "source": [
    "# <получение общей информации о данных в таблице users_df>\n",
    "users_df.info()"
   ]
  },
  {
   "cell_type": "code",
   "execution_count": 5,
   "metadata": {},
   "outputs": [
    {
     "data": {
      "text/plain": [
       "user_id         0\n",
       "age             0\n",
       "churn_date    462\n",
       "city            0\n",
       "first_name      0\n",
       "last_name       0\n",
       "reg_date        0\n",
       "tariff          0\n",
       "dtype: int64"
      ]
     },
     "execution_count": 5,
     "metadata": {},
     "output_type": "execute_result"
    }
   ],
   "source": [
    "# <Посчитаем количество пропусков в каждом из столбцов>\n",
    "users_df.isna().sum()"
   ]
  },
  {
   "cell_type": "code",
   "execution_count": 6,
   "metadata": {},
   "outputs": [
    {
     "name": "stdout",
     "output_type": "stream",
     "text": [
      "Количество дубликатов: 0\n"
     ]
    }
   ],
   "source": [
    "# <Посчитаем количество дубликатов в таблице>\n",
    "print('Количество дубликатов: {}'.format(users_df.duplicated().sum()))"
   ]
  },
  {
   "cell_type": "code",
   "execution_count": 7,
   "metadata": {},
   "outputs": [
    {
     "data": {
      "text/plain": [
       "smart    351\n",
       "ultra    149\n",
       "Name: tariff, dtype: int64"
      ]
     },
     "execution_count": 7,
     "metadata": {},
     "output_type": "execute_result"
    }
   ],
   "source": [
    "# <Посмотрим сколько клиентов используют каждый из тарифов>\n",
    "users_df['tariff'].value_counts()"
   ]
  },
  {
   "cell_type": "markdown",
   "metadata": {},
   "source": [
    "Рассмотрим полученную информацию о пользователях подробнее.\n",
    "\n",
    "Всего в таблице 8 столбцов, тип данных двух столбцов - *int64*, остальных шести - *object*.\n",
    "\n",
    "Подробно разберём, какие в *users_df* столбцы и какую информацию они содержат:\n",
    "* *user_id* — уникальный идентификатор пользователя;\n",
    "* *first_name* — имя пользователя;\n",
    "* *last_name* — фамилия пользователя;\n",
    "* *age* — возраст пользователя (годы);\n",
    "* *reg_date* — дата подключения тарифа (день, месяц, год);\n",
    "* *churn_date* — дата прекращения пользования тарифом (если значение пропущено, то тариф ещё действовал на момент выгрузки данных);\n",
    "* *city* — город проживания пользователя;\n",
    "* *tariff* — название тарифного плана.\n",
    "\n",
    "На момент выгрузки данных на мдоступна информация о 500 пользователях:\n",
    "* 351 – \"Смарт\";\n",
    "* 149 – \"Ультра\".\n",
    "\n",
    "462 пользователя всё ещё пользуются своим тарифом.\n",
    "\n",
    "Столбцы *reg_date* (дата подключения тарифа) и *churn_date* (дата прекращения пользования тарифом) нужно перевести из формата *object* в тип данных *DateTime*."
   ]
  },
  {
   "cell_type": "markdown",
   "metadata": {},
   "source": [
    "Исследуем датасет с информацией о **тарифах** (*tariffs_df*)."
   ]
  },
  {
   "cell_type": "code",
   "execution_count": 8,
   "metadata": {},
   "outputs": [
    {
     "data": {
      "text/html": [
       "<div>\n",
       "<style scoped>\n",
       "    .dataframe tbody tr th:only-of-type {\n",
       "        vertical-align: middle;\n",
       "    }\n",
       "\n",
       "    .dataframe tbody tr th {\n",
       "        vertical-align: top;\n",
       "    }\n",
       "\n",
       "    .dataframe thead th {\n",
       "        text-align: right;\n",
       "    }\n",
       "</style>\n",
       "<table border=\"1\" class=\"dataframe\">\n",
       "  <thead>\n",
       "    <tr style=\"text-align: right;\">\n",
       "      <th></th>\n",
       "      <th>messages_included</th>\n",
       "      <th>mb_per_month_included</th>\n",
       "      <th>minutes_included</th>\n",
       "      <th>rub_monthly_fee</th>\n",
       "      <th>rub_per_gb</th>\n",
       "      <th>rub_per_message</th>\n",
       "      <th>rub_per_minute</th>\n",
       "      <th>tariff_name</th>\n",
       "    </tr>\n",
       "  </thead>\n",
       "  <tbody>\n",
       "    <tr>\n",
       "      <td>0</td>\n",
       "      <td>50</td>\n",
       "      <td>15360</td>\n",
       "      <td>500</td>\n",
       "      <td>550</td>\n",
       "      <td>200</td>\n",
       "      <td>3</td>\n",
       "      <td>3</td>\n",
       "      <td>smart</td>\n",
       "    </tr>\n",
       "    <tr>\n",
       "      <td>1</td>\n",
       "      <td>1000</td>\n",
       "      <td>30720</td>\n",
       "      <td>3000</td>\n",
       "      <td>1950</td>\n",
       "      <td>150</td>\n",
       "      <td>1</td>\n",
       "      <td>1</td>\n",
       "      <td>ultra</td>\n",
       "    </tr>\n",
       "  </tbody>\n",
       "</table>\n",
       "</div>"
      ],
      "text/plain": [
       "   messages_included  mb_per_month_included  minutes_included  \\\n",
       "0                 50                  15360               500   \n",
       "1               1000                  30720              3000   \n",
       "\n",
       "   rub_monthly_fee  rub_per_gb  rub_per_message  rub_per_minute tariff_name  \n",
       "0              550         200                3               3       smart  \n",
       "1             1950         150                1               1       ultra  "
      ]
     },
     "execution_count": 8,
     "metadata": {},
     "output_type": "execute_result"
    }
   ],
   "source": [
    "# <получение первых 5 строк таблицы tariffs_df>\n",
    "tariffs_df.head()"
   ]
  },
  {
   "cell_type": "code",
   "execution_count": 9,
   "metadata": {},
   "outputs": [
    {
     "name": "stdout",
     "output_type": "stream",
     "text": [
      "<class 'pandas.core.frame.DataFrame'>\n",
      "RangeIndex: 2 entries, 0 to 1\n",
      "Data columns (total 8 columns):\n",
      "messages_included        2 non-null int64\n",
      "mb_per_month_included    2 non-null int64\n",
      "minutes_included         2 non-null int64\n",
      "rub_monthly_fee          2 non-null int64\n",
      "rub_per_gb               2 non-null int64\n",
      "rub_per_message          2 non-null int64\n",
      "rub_per_minute           2 non-null int64\n",
      "tariff_name              2 non-null object\n",
      "dtypes: int64(7), object(1)\n",
      "memory usage: 256.0+ bytes\n"
     ]
    }
   ],
   "source": [
    "# <получение общей информации о данных в таблице tariffs_df>\n",
    "tariffs_df.info()"
   ]
  },
  {
   "cell_type": "markdown",
   "metadata": {},
   "source": [
    "Рассмотрим полученную информацию о тарифах подробнее.\n",
    "\n",
    "Всего в таблице 8 столбцов с описанием опций каждого из тарифов. Тип данных семи столбцов - *int64*, одного - *object*.\n",
    "\n",
    "Подробно разберём, какие в *tariffs_df* столбцы и какую информацию они содержат:\n",
    "* *tariff_name* — название тарифа;\n",
    "* *rub_monthly_fee* — ежемесячная абонентская плата в рублях;\n",
    "* *minutes_included* — количество минут разговора в месяц, включённых в абонентскую плату;\n",
    "* *messages_included* — количество сообщений в месяц, включённых в абонентскую плату;\n",
    "* *mb_per_month_included* — объём интернет-трафика, включённого в абонентскую плату (в мегабайтах);\n",
    "* *rub_per_minute* — стоимость минуты разговора сверх тарифного пакета (например, если в тарифе 100 минут разговора в месяц, то со 101 минуты будет взиматься плата);\n",
    "* *rub_per_message* — стоимость отправки сообщения сверх тарифного пакета;\n",
    "* *rub_per_gb* — стоимость дополнительного гигабайта интернет-трафика сверх тарифного пакета (1 гигабайт = 1024 мегабайта).\n",
    "\n",
    "В датасете *users_df* также присутствует столбец с наименованием тарифа (*tariff*). Для последующего удобства в работе с двумя датасетами переименуем столбец *tariff_name* в *tariff*."
   ]
  },
  {
   "cell_type": "code",
   "execution_count": 10,
   "metadata": {},
   "outputs": [],
   "source": [
    "# <Поменяем имя столбца 'tariff_name' на 'tariff'>\n",
    "tariffs_df = tariffs_df.rename(columns={'tariff_name': 'tariff'})"
   ]
  },
  {
   "cell_type": "markdown",
   "metadata": {},
   "source": [
    "Что ж, пропусков в этом датасете нет, столбец переименован.\n",
    "\n",
    "Рассмотрим более подробно информацию о **сообщениях** (*messages_df*)."
   ]
  },
  {
   "cell_type": "code",
   "execution_count": 11,
   "metadata": {},
   "outputs": [
    {
     "data": {
      "text/html": [
       "<div>\n",
       "<style scoped>\n",
       "    .dataframe tbody tr th:only-of-type {\n",
       "        vertical-align: middle;\n",
       "    }\n",
       "\n",
       "    .dataframe tbody tr th {\n",
       "        vertical-align: top;\n",
       "    }\n",
       "\n",
       "    .dataframe thead th {\n",
       "        text-align: right;\n",
       "    }\n",
       "</style>\n",
       "<table border=\"1\" class=\"dataframe\">\n",
       "  <thead>\n",
       "    <tr style=\"text-align: right;\">\n",
       "      <th></th>\n",
       "      <th>id</th>\n",
       "      <th>message_date</th>\n",
       "      <th>user_id</th>\n",
       "    </tr>\n",
       "  </thead>\n",
       "  <tbody>\n",
       "    <tr>\n",
       "      <td>0</td>\n",
       "      <td>1000_0</td>\n",
       "      <td>2018-06-27</td>\n",
       "      <td>1000</td>\n",
       "    </tr>\n",
       "    <tr>\n",
       "      <td>1</td>\n",
       "      <td>1000_1</td>\n",
       "      <td>2018-10-08</td>\n",
       "      <td>1000</td>\n",
       "    </tr>\n",
       "    <tr>\n",
       "      <td>2</td>\n",
       "      <td>1000_2</td>\n",
       "      <td>2018-08-04</td>\n",
       "      <td>1000</td>\n",
       "    </tr>\n",
       "    <tr>\n",
       "      <td>3</td>\n",
       "      <td>1000_3</td>\n",
       "      <td>2018-06-16</td>\n",
       "      <td>1000</td>\n",
       "    </tr>\n",
       "    <tr>\n",
       "      <td>4</td>\n",
       "      <td>1000_4</td>\n",
       "      <td>2018-12-05</td>\n",
       "      <td>1000</td>\n",
       "    </tr>\n",
       "  </tbody>\n",
       "</table>\n",
       "</div>"
      ],
      "text/plain": [
       "       id message_date  user_id\n",
       "0  1000_0   2018-06-27     1000\n",
       "1  1000_1   2018-10-08     1000\n",
       "2  1000_2   2018-08-04     1000\n",
       "3  1000_3   2018-06-16     1000\n",
       "4  1000_4   2018-12-05     1000"
      ]
     },
     "execution_count": 11,
     "metadata": {},
     "output_type": "execute_result"
    }
   ],
   "source": [
    "# <получение первых 5 строк таблицы messages_df>\n",
    "messages_df.head()"
   ]
  },
  {
   "cell_type": "code",
   "execution_count": 12,
   "metadata": {},
   "outputs": [
    {
     "name": "stdout",
     "output_type": "stream",
     "text": [
      "<class 'pandas.core.frame.DataFrame'>\n",
      "RangeIndex: 123036 entries, 0 to 123035\n",
      "Data columns (total 3 columns):\n",
      "id              123036 non-null object\n",
      "message_date    123036 non-null object\n",
      "user_id         123036 non-null int64\n",
      "dtypes: int64(1), object(2)\n",
      "memory usage: 2.8+ MB\n"
     ]
    }
   ],
   "source": [
    "# <получение общей информации о данных в таблице messages_df>\n",
    "messages_df.info()"
   ]
  },
  {
   "cell_type": "code",
   "execution_count": 13,
   "metadata": {},
   "outputs": [
    {
     "data": {
      "text/plain": [
       "id              0\n",
       "message_date    0\n",
       "user_id         0\n",
       "dtype: int64"
      ]
     },
     "execution_count": 13,
     "metadata": {},
     "output_type": "execute_result"
    }
   ],
   "source": [
    "# <Посчитаем количество пропусков в каждом из столбцов>\n",
    "messages_df.isna().sum()"
   ]
  },
  {
   "cell_type": "code",
   "execution_count": 14,
   "metadata": {},
   "outputs": [
    {
     "name": "stdout",
     "output_type": "stream",
     "text": [
      "Количество дубликатов: 0\n"
     ]
    }
   ],
   "source": [
    "# <Посчитаем количество дубликатов в таблице>\n",
    "print('Количество дубликатов: {}'.format(messages_df.duplicated().sum()))"
   ]
  },
  {
   "cell_type": "markdown",
   "metadata": {},
   "source": [
    "Всего в таблице 3 столбца: один с типом данных *int64*, два - *object*.\n",
    "\n",
    "Подробно разберём, какие в *messages_df* столбцы и какую информацию они содержат:\n",
    "* *id* — уникальный номер сообщения;\n",
    "* *message_date* — дата сообщения;\n",
    "* *user_id* — идентификатор пользователя, отправившего сообщение.\n",
    "\n",
    "Пропусков, которые нужно заполнить, и дубликатов в датасете нет.\n",
    "\n",
    "Столбец *message_date* (дата сообщения) нужно перевести из формата *object* в тип данных *DateTime*.\n",
    "\n",
    "На очереди датасет с информацией об использовании клиентами **интернет-трафика** (*internet_df*)."
   ]
  },
  {
   "cell_type": "code",
   "execution_count": 15,
   "metadata": {},
   "outputs": [
    {
     "data": {
      "text/html": [
       "<div>\n",
       "<style scoped>\n",
       "    .dataframe tbody tr th:only-of-type {\n",
       "        vertical-align: middle;\n",
       "    }\n",
       "\n",
       "    .dataframe tbody tr th {\n",
       "        vertical-align: top;\n",
       "    }\n",
       "\n",
       "    .dataframe thead th {\n",
       "        text-align: right;\n",
       "    }\n",
       "</style>\n",
       "<table border=\"1\" class=\"dataframe\">\n",
       "  <thead>\n",
       "    <tr style=\"text-align: right;\">\n",
       "      <th></th>\n",
       "      <th>Unnamed: 0</th>\n",
       "      <th>id</th>\n",
       "      <th>mb_used</th>\n",
       "      <th>session_date</th>\n",
       "      <th>user_id</th>\n",
       "    </tr>\n",
       "  </thead>\n",
       "  <tbody>\n",
       "    <tr>\n",
       "      <td>0</td>\n",
       "      <td>0</td>\n",
       "      <td>1000_0</td>\n",
       "      <td>112.95</td>\n",
       "      <td>2018-11-25</td>\n",
       "      <td>1000</td>\n",
       "    </tr>\n",
       "    <tr>\n",
       "      <td>1</td>\n",
       "      <td>1</td>\n",
       "      <td>1000_1</td>\n",
       "      <td>1052.81</td>\n",
       "      <td>2018-09-07</td>\n",
       "      <td>1000</td>\n",
       "    </tr>\n",
       "    <tr>\n",
       "      <td>2</td>\n",
       "      <td>2</td>\n",
       "      <td>1000_2</td>\n",
       "      <td>1197.26</td>\n",
       "      <td>2018-06-25</td>\n",
       "      <td>1000</td>\n",
       "    </tr>\n",
       "    <tr>\n",
       "      <td>3</td>\n",
       "      <td>3</td>\n",
       "      <td>1000_3</td>\n",
       "      <td>550.27</td>\n",
       "      <td>2018-08-22</td>\n",
       "      <td>1000</td>\n",
       "    </tr>\n",
       "    <tr>\n",
       "      <td>4</td>\n",
       "      <td>4</td>\n",
       "      <td>1000_4</td>\n",
       "      <td>302.56</td>\n",
       "      <td>2018-09-24</td>\n",
       "      <td>1000</td>\n",
       "    </tr>\n",
       "  </tbody>\n",
       "</table>\n",
       "</div>"
      ],
      "text/plain": [
       "   Unnamed: 0      id  mb_used session_date  user_id\n",
       "0           0  1000_0   112.95   2018-11-25     1000\n",
       "1           1  1000_1  1052.81   2018-09-07     1000\n",
       "2           2  1000_2  1197.26   2018-06-25     1000\n",
       "3           3  1000_3   550.27   2018-08-22     1000\n",
       "4           4  1000_4   302.56   2018-09-24     1000"
      ]
     },
     "execution_count": 15,
     "metadata": {},
     "output_type": "execute_result"
    }
   ],
   "source": [
    "# <получение первых 5 строк таблицы internet_df>\n",
    "internet_df.head()"
   ]
  },
  {
   "cell_type": "code",
   "execution_count": 16,
   "metadata": {},
   "outputs": [
    {
     "name": "stdout",
     "output_type": "stream",
     "text": [
      "<class 'pandas.core.frame.DataFrame'>\n",
      "RangeIndex: 149396 entries, 0 to 149395\n",
      "Data columns (total 5 columns):\n",
      "Unnamed: 0      149396 non-null int64\n",
      "id              149396 non-null object\n",
      "mb_used         149396 non-null float64\n",
      "session_date    149396 non-null object\n",
      "user_id         149396 non-null int64\n",
      "dtypes: float64(1), int64(2), object(2)\n",
      "memory usage: 5.7+ MB\n"
     ]
    }
   ],
   "source": [
    "# <получение общей информации о данных в таблице internet_df>\n",
    "internet_df.info()"
   ]
  },
  {
   "cell_type": "code",
   "execution_count": 17,
   "metadata": {},
   "outputs": [
    {
     "data": {
      "text/plain": [
       "Unnamed: 0      0\n",
       "id              0\n",
       "mb_used         0\n",
       "session_date    0\n",
       "user_id         0\n",
       "dtype: int64"
      ]
     },
     "execution_count": 17,
     "metadata": {},
     "output_type": "execute_result"
    }
   ],
   "source": [
    "# <Посчитаем количество пропусков в каждом из столбцов>\n",
    "internet_df.isna().sum()"
   ]
  },
  {
   "cell_type": "code",
   "execution_count": 18,
   "metadata": {},
   "outputs": [
    {
     "name": "stdout",
     "output_type": "stream",
     "text": [
      "Количество дубликатов: 0\n"
     ]
    }
   ],
   "source": [
    "# <Посчитаем количество дубликатов в таблице>\n",
    "print('Количество дубликатов: {}'.format(internet_df.duplicated().sum()))"
   ]
  },
  {
   "cell_type": "markdown",
   "metadata": {},
   "source": [
    "Всего в таблице 5 столбцов: один с типом данных *float64*, два - *int64*, два - *object*.\n",
    "\n",
    "Подробно разберём, какие в *internet_df* столбцы и какую информацию они содержат:\n",
    "* *id* — уникальный номер сессии;\n",
    "* *mb_used* — объём потраченного за сессию интернет-трафика (в мегабайтах);\n",
    "* *session_date* — дата интернет-сессии;\n",
    "* *user_id* — идентификатор пользователя.\n",
    "\n",
    "Пропусков, которые нужно заполнить, и дубликатов в датасете нет.\n",
    "\n",
    "Столбец *session_date* (дата интернет-сессии) нужно перевести из формата *object* в тип данных *DateTime*.\n",
    "\n",
    "Объём потраченного за сессию интернет-трафика указан в мегабайтах, в то время, как в тарифе в гигабайтах. Таким образом, если пользователь израсходует объем трафика, предоставленный тарифным планом, для анализа нам потребуется привести дополнительный объём трафика к гигабайтам, чтобы рассчитать стоимость.\n",
    "\n",
    "Проверим сколько сессий с объёмом потраченного трафика меньше, чем 1 Мб."
   ]
  },
  {
   "cell_type": "code",
   "execution_count": 19,
   "metadata": {},
   "outputs": [
    {
     "name": "stdout",
     "output_type": "stream",
     "text": [
      "Количество сессий объема потраченного за сессию интернет-трафика менее 1 Мб и больше 0: 101\n",
      "Количество сессий объема потраченного за сессию интернет-трафика менее 1 Мб: 19699\n"
     ]
    }
   ],
   "source": [
    "print('Количество сессий объема потраченного за сессию интернет-трафика менее 1 Мб и больше 0: {}'\n",
    "      .format(len(internet_df.query('mb_used < 1 and mb_used > 0'))))\n",
    "\n",
    "print('Количество сессий объема потраченного за сессию интернет-трафика менее 1 Мб: {}'\n",
    "      .format(len(internet_df.query('mb_used < 1 '))))"
   ]
  },
  {
   "cell_type": "markdown",
   "metadata": {},
   "source": [
    "19699 сесий имеют объём потраченного интернет-трафика менее 1 Мб. Если сессия зарегестрирована значит трафик был, правда странно если он равен 0. Но исходя из условий - оператор округляет вверх значения мегабайтов. Применим метод np.ceil для приведения всех значений к большему числу, а так же все нули заменим на 1 и после поменяем тип на *int64*.\n",
    "\n",
    "Ознакомимся более подробно с таблицей, содержащую информацию о **звонках** (*calls_df*)."
   ]
  },
  {
   "cell_type": "markdown",
   "metadata": {},
   "source": [
    "<div class=\"alert alert-success\" style=\"border-radius: 15px\">\n",
    "<b> Комментарий ревьюера</b>\n",
    "    \n",
    "Да, с нулями не совсем ясно. Возможно, тут такая же логика, как и с нулевыми длительностями звонков. То есть это могли быть оборвавшиеся сессии.\n",
    "</div>"
   ]
  },
  {
   "cell_type": "code",
   "execution_count": 20,
   "metadata": {},
   "outputs": [
    {
     "data": {
      "text/html": [
       "<div>\n",
       "<style scoped>\n",
       "    .dataframe tbody tr th:only-of-type {\n",
       "        vertical-align: middle;\n",
       "    }\n",
       "\n",
       "    .dataframe tbody tr th {\n",
       "        vertical-align: top;\n",
       "    }\n",
       "\n",
       "    .dataframe thead th {\n",
       "        text-align: right;\n",
       "    }\n",
       "</style>\n",
       "<table border=\"1\" class=\"dataframe\">\n",
       "  <thead>\n",
       "    <tr style=\"text-align: right;\">\n",
       "      <th></th>\n",
       "      <th>id</th>\n",
       "      <th>call_date</th>\n",
       "      <th>duration</th>\n",
       "      <th>user_id</th>\n",
       "    </tr>\n",
       "  </thead>\n",
       "  <tbody>\n",
       "    <tr>\n",
       "      <td>0</td>\n",
       "      <td>1000_0</td>\n",
       "      <td>2018-07-25</td>\n",
       "      <td>0.00</td>\n",
       "      <td>1000</td>\n",
       "    </tr>\n",
       "    <tr>\n",
       "      <td>1</td>\n",
       "      <td>1000_1</td>\n",
       "      <td>2018-08-17</td>\n",
       "      <td>0.00</td>\n",
       "      <td>1000</td>\n",
       "    </tr>\n",
       "    <tr>\n",
       "      <td>2</td>\n",
       "      <td>1000_2</td>\n",
       "      <td>2018-06-11</td>\n",
       "      <td>2.85</td>\n",
       "      <td>1000</td>\n",
       "    </tr>\n",
       "    <tr>\n",
       "      <td>3</td>\n",
       "      <td>1000_3</td>\n",
       "      <td>2018-09-21</td>\n",
       "      <td>13.80</td>\n",
       "      <td>1000</td>\n",
       "    </tr>\n",
       "    <tr>\n",
       "      <td>4</td>\n",
       "      <td>1000_4</td>\n",
       "      <td>2018-12-15</td>\n",
       "      <td>5.18</td>\n",
       "      <td>1000</td>\n",
       "    </tr>\n",
       "  </tbody>\n",
       "</table>\n",
       "</div>"
      ],
      "text/plain": [
       "       id   call_date  duration  user_id\n",
       "0  1000_0  2018-07-25      0.00     1000\n",
       "1  1000_1  2018-08-17      0.00     1000\n",
       "2  1000_2  2018-06-11      2.85     1000\n",
       "3  1000_3  2018-09-21     13.80     1000\n",
       "4  1000_4  2018-12-15      5.18     1000"
      ]
     },
     "execution_count": 20,
     "metadata": {},
     "output_type": "execute_result"
    }
   ],
   "source": [
    "# <получение первых 5 строк таблицы calls_df>\n",
    "calls_df.head()"
   ]
  },
  {
   "cell_type": "code",
   "execution_count": 21,
   "metadata": {},
   "outputs": [
    {
     "name": "stdout",
     "output_type": "stream",
     "text": [
      "<class 'pandas.core.frame.DataFrame'>\n",
      "RangeIndex: 202607 entries, 0 to 202606\n",
      "Data columns (total 4 columns):\n",
      "id           202607 non-null object\n",
      "call_date    202607 non-null object\n",
      "duration     202607 non-null float64\n",
      "user_id      202607 non-null int64\n",
      "dtypes: float64(1), int64(1), object(2)\n",
      "memory usage: 6.2+ MB\n"
     ]
    }
   ],
   "source": [
    "# <получение общей информации о данных в таблице calls_df>\n",
    "calls_df.info()"
   ]
  },
  {
   "cell_type": "code",
   "execution_count": 22,
   "metadata": {},
   "outputs": [
    {
     "data": {
      "text/plain": [
       "id           0\n",
       "call_date    0\n",
       "duration     0\n",
       "user_id      0\n",
       "dtype: int64"
      ]
     },
     "execution_count": 22,
     "metadata": {},
     "output_type": "execute_result"
    }
   ],
   "source": [
    "# <Посчитаем количество пропусков в каждом из столбцов>\n",
    "calls_df.isna().sum()"
   ]
  },
  {
   "cell_type": "markdown",
   "metadata": {},
   "source": [
    "Всего в таблице 4 столбца: один с типом данных *float64*, один - *int64*, два - *object*.\n",
    "\n",
    "Подробно разберём, какие в *calls_df* столбцы и какую информацию они содержат:\n",
    "* *id* — уникальный номер звонка;\n",
    "* *call_date* — дата звонка;\n",
    "* *duration* — длительность звонка в минутах;\n",
    "* *user_id* — идентификатор пользователя, сделавшего звонок.\n",
    "\n",
    "Пропусков, которые нужно заполнить, и дубликатов в датасете нет.\n",
    "\n",
    "Столбец *call_date* (дата звонка) нужно перевести из формата *object* в тип данных *DateTime*.\n",
    "\n",
    "Посмотрим количество звоков длительностью меньше одной минуты."
   ]
  },
  {
   "cell_type": "code",
   "execution_count": 23,
   "metadata": {},
   "outputs": [
    {
     "name": "stdout",
     "output_type": "stream",
     "text": [
      "Количетсво звонков с длительностью звонка менее 1 минуты: 47927\n"
     ]
    }
   ],
   "source": [
    "print('Количетсво звонков с длительностью звонка менее 1 минуты: {}'.format(len(calls_df[calls_df.duration < 1])))"
   ]
  },
  {
   "cell_type": "markdown",
   "metadata": {},
   "source": [
    "47927 звонков было совершено менее минуты.\n",
    "Здесь такая же ситуация и такое же правило, как с интернетом. Поэтому применим метод np.ceil для приведения всех значений к большему числу, а так же все нули заменим на 1 и после поменяем тип на *int64*."
   ]
  },
  {
   "cell_type": "markdown",
   "metadata": {},
   "source": [
    "### Вывод"
   ]
  },
  {
   "cell_type": "markdown",
   "metadata": {},
   "source": [
    "Все датасеты открыты и изучены.\n",
    "Для последующего удобства в работе с датасетами в таблице *tariffs_df* переименован столбец *tariff_name* в *tariff*.\n",
    "**<span style=\"color:blue\">Пропусков, которые нужно обратоботать, в таблице нет. 462 пропуска в столбце *churn_date* (дата прекращения пользования тарифом) в датасете *users_df* говорят нам о том, что тариф ещё используется абонентом. Их наличие никак не повлияет на результаты исследования.</span>**\n",
    "\n",
    "По результатам обзора таблиц необходимо:\n",
    "* ~<span style=\"color:blue\">в датасете *users_df* необходимо заполнить 462 пропуска в столбце *churn_date* (дата прекращения пользования тарифом);</span>~\n",
    "* столбцы *reg_date* (дата подключения тарифа) и *churn_date* (дата прекращения пользования тарифом) в датасете *users_df*, *message_date* (дата сообщения) в таблице *message_df*,  *session_date* (дата интернет-сессии) в датасете *internet_df* и *call_date* (дата звонка) в тавблице *calls_df* нужно перевести из формата *object* в тип данных *DateTime*;\n",
    "* для датасетов *internet_df* и *calls_df* применим метод np.ceil для приведения всех значений к большему числу и после поменяем тип на *int64*."
   ]
  },
  {
   "cell_type": "markdown",
   "metadata": {},
   "source": [
    "### Шаг 2. Подготовьте данные"
   ]
  },
  {
   "cell_type": "markdown",
   "metadata": {},
   "source": [
    "* Приведите данные к нужным типам, найдите и исправьте ошибки в данных"
   ]
  },
  {
   "cell_type": "markdown",
   "metadata": {},
   "source": [
    "Приведем необходимые столбцы в тадафреймах в формат *DateTime*."
   ]
  },
  {
   "cell_type": "code",
   "execution_count": 24,
   "metadata": {},
   "outputs": [],
   "source": [
    "columns_to_datetime = {\"reg_date\":users_df,\n",
    "                       \"message_date\":messages_df,\n",
    "                       \"session_date\":internet_df,\n",
    "                       \"call_date\":calls_df}\n",
    "\n",
    "for column, frame in columns_to_datetime.items():\n",
    "    frame[column] = pd.to_datetime(frame[column],format = '%Y-%m-%d')"
   ]
  },
  {
   "cell_type": "markdown",
   "metadata": {},
   "source": [
    "Прежде чем менять тип данных в *internet_df* и *calls_df* в столбцах с объёмом потраченного за сессию интернет-трафика (в мегабайтах) и длительностью звонков в минутах применим метод *np.ceil* для приведения всех значений к большему числу, а так же все нули заменим на 1."
   ]
  },
  {
   "cell_type": "code",
   "execution_count": 25,
   "metadata": {},
   "outputs": [],
   "source": [
    "# <Интернет-сессии>\n",
    "internet_df['mb_used'] = np.ceil(internet_df['mb_used'])\n",
    "internet_df.loc[internet_df['mb_used'] == 0 ,'mb_used'] = 1\n",
    "\n",
    "# <Звонки>\n",
    "calls_df['duration'] = np.ceil(calls_df['duration'])\n",
    "calls_df.loc[calls_df['duration'] == 0 ,'duration'] = 1"
   ]
  },
  {
   "cell_type": "markdown",
   "metadata": {},
   "source": [
    "<div class=\"alert alert-success\" style=\"border-radius: 15px\">\n",
    "<b> Комментарий ревьюера</b>\n",
    "    \n",
    "Метод **ceil** не нуждает в **apply**. Можно его сразу ко всему столбцу применять.\n",
    "</div>"
   ]
  },
  {
   "cell_type": "markdown",
   "metadata": {},
   "source": [
    "<div class=\"alert alert-success\" style=\"border-radius: 15px\">\n",
    "<b> Комментарий ревьюера 2</b>\n",
    "    \n",
    "Вот так делала? \n",
    "    \n",
    "    \n",
    "    internet_df['mb_used'] = np.ceil(internet_df['mb_used'])\n",
    "</div>"
   ]
  },
  {
   "cell_type": "markdown",
   "metadata": {},
   "source": [
    ">**<span style=\"color:blue\">эм.. видимо, нет. Спасибо. (Как-то  глупо получилось: мне кажется и этот вариант я тоже пробовала.. но раз теперь сработало - тупо говорить, что пробовала.)</span>**"
   ]
  },
  {
   "cell_type": "markdown",
   "metadata": {},
   "source": [
    "<div class=\"alert alert-success\" style=\"border-radius: 15px\">\n",
    "<h2> Комментарий ревьюера 3</h2>\n",
    "    \n",
    "Может, опечатка была. Или про numpy забыла.\n",
    "</div>"
   ]
  },
  {
   "cell_type": "markdown",
   "metadata": {},
   "source": [
    "Приведем столбцы *duration* (из датасета *calls_df*) и *mb_used* (из датасета *internet_df*) в формат *int64*."
   ]
  },
  {
   "cell_type": "code",
   "execution_count": 26,
   "metadata": {},
   "outputs": [],
   "source": [
    "# <Минуты и мегабайты>\n",
    "calls_df['duration'] = calls_df['duration'].astype('int64')\n",
    "internet_df['mb_used'] = internet_df['mb_used'].astype('int64')"
   ]
  },
  {
   "cell_type": "markdown",
   "metadata": {},
   "source": [
    "~<span style=\"color:blue\">Пропуски в таблице users столбец *churn_date* заполним исходя из того, что люди не живут дольше 110 лет, следовательно в этом возрасте человек точно прекратит пользоваться услугами компании. Прибавим к текущей дате разницу между 110 и возрастом абонента и заполним этим значением пропуски.</span>~"
   ]
  },
  {
   "cell_type": "markdown",
   "metadata": {},
   "source": [
    "<div class=\"alert alert-warning\" style=\"border-radius: 15px\">\n",
    "<b> Комментарий ревьюера</b>\n",
    "    \n",
    "Зачем их заполнять? churn_date — дата прекращения пользования тарифом (если значение пропущено, то тариф ещё действовал на момент выгрузки данных). Пускай такой и будет, нам это не мешает же никак. А если и понадобится, то такая замена ведь тоже не будет актульной. \n",
    "</div>\n"
   ]
  },
  {
   "cell_type": "markdown",
   "metadata": {},
   "source": [
    ">**<span style=\"color:blue\">Принято и поправлено в выводе к Шагу 1.</span>**"
   ]
  },
  {
   "cell_type": "markdown",
   "metadata": {},
   "source": [
    "Проверим, всё ли получилось. Для этого соберем всю информацию по датасетам в одну таблицу."
   ]
  },
  {
   "cell_type": "code",
   "execution_count": 27,
   "metadata": {},
   "outputs": [
    {
     "data": {
      "text/html": [
       "<div>\n",
       "<style scoped>\n",
       "    .dataframe tbody tr th:only-of-type {\n",
       "        vertical-align: middle;\n",
       "    }\n",
       "\n",
       "    .dataframe tbody tr th {\n",
       "        vertical-align: top;\n",
       "    }\n",
       "\n",
       "    .dataframe thead th {\n",
       "        text-align: right;\n",
       "    }\n",
       "</style>\n",
       "<table border=\"1\" class=\"dataframe\">\n",
       "  <thead>\n",
       "    <tr style=\"text-align: right;\">\n",
       "      <th></th>\n",
       "      <th></th>\n",
       "      <th></th>\n",
       "      <th>null_values</th>\n",
       "      <th>type</th>\n",
       "    </tr>\n",
       "    <tr>\n",
       "      <th>total</th>\n",
       "      <th>frame</th>\n",
       "      <th>columns</th>\n",
       "      <th></th>\n",
       "      <th></th>\n",
       "    </tr>\n",
       "  </thead>\n",
       "  <tbody>\n",
       "    <tr>\n",
       "      <td rowspan=\"8\" valign=\"top\">2</td>\n",
       "      <td rowspan=\"8\" valign=\"top\">tariffs_df</td>\n",
       "      <td>mb_per_month_included</td>\n",
       "      <td>0</td>\n",
       "      <td>int64</td>\n",
       "    </tr>\n",
       "    <tr>\n",
       "      <td>messages_included</td>\n",
       "      <td>0</td>\n",
       "      <td>int64</td>\n",
       "    </tr>\n",
       "    <tr>\n",
       "      <td>minutes_included</td>\n",
       "      <td>0</td>\n",
       "      <td>int64</td>\n",
       "    </tr>\n",
       "    <tr>\n",
       "      <td>rub_monthly_fee</td>\n",
       "      <td>0</td>\n",
       "      <td>int64</td>\n",
       "    </tr>\n",
       "    <tr>\n",
       "      <td>rub_per_gb</td>\n",
       "      <td>0</td>\n",
       "      <td>int64</td>\n",
       "    </tr>\n",
       "    <tr>\n",
       "      <td>rub_per_message</td>\n",
       "      <td>0</td>\n",
       "      <td>int64</td>\n",
       "    </tr>\n",
       "    <tr>\n",
       "      <td>rub_per_minute</td>\n",
       "      <td>0</td>\n",
       "      <td>int64</td>\n",
       "    </tr>\n",
       "    <tr>\n",
       "      <td>tariff</td>\n",
       "      <td>0</td>\n",
       "      <td>object</td>\n",
       "    </tr>\n",
       "    <tr>\n",
       "      <td rowspan=\"8\" valign=\"top\">500</td>\n",
       "      <td rowspan=\"8\" valign=\"top\">users_df</td>\n",
       "      <td>age</td>\n",
       "      <td>0</td>\n",
       "      <td>int64</td>\n",
       "    </tr>\n",
       "    <tr>\n",
       "      <td>churn_date</td>\n",
       "      <td>462</td>\n",
       "      <td>object</td>\n",
       "    </tr>\n",
       "    <tr>\n",
       "      <td>city</td>\n",
       "      <td>0</td>\n",
       "      <td>object</td>\n",
       "    </tr>\n",
       "    <tr>\n",
       "      <td>first_name</td>\n",
       "      <td>0</td>\n",
       "      <td>object</td>\n",
       "    </tr>\n",
       "    <tr>\n",
       "      <td>last_name</td>\n",
       "      <td>0</td>\n",
       "      <td>object</td>\n",
       "    </tr>\n",
       "    <tr>\n",
       "      <td>reg_date</td>\n",
       "      <td>0</td>\n",
       "      <td>datetime64[ns]</td>\n",
       "    </tr>\n",
       "    <tr>\n",
       "      <td>tariff</td>\n",
       "      <td>0</td>\n",
       "      <td>object</td>\n",
       "    </tr>\n",
       "    <tr>\n",
       "      <td>user_id</td>\n",
       "      <td>0</td>\n",
       "      <td>int64</td>\n",
       "    </tr>\n",
       "    <tr>\n",
       "      <td rowspan=\"3\" valign=\"top\">123036</td>\n",
       "      <td rowspan=\"3\" valign=\"top\">messages_df</td>\n",
       "      <td>id</td>\n",
       "      <td>0</td>\n",
       "      <td>object</td>\n",
       "    </tr>\n",
       "    <tr>\n",
       "      <td>message_date</td>\n",
       "      <td>0</td>\n",
       "      <td>datetime64[ns]</td>\n",
       "    </tr>\n",
       "    <tr>\n",
       "      <td>user_id</td>\n",
       "      <td>0</td>\n",
       "      <td>int64</td>\n",
       "    </tr>\n",
       "    <tr>\n",
       "      <td rowspan=\"5\" valign=\"top\">149396</td>\n",
       "      <td rowspan=\"5\" valign=\"top\">internet_df</td>\n",
       "      <td>Unnamed: 0</td>\n",
       "      <td>0</td>\n",
       "      <td>int64</td>\n",
       "    </tr>\n",
       "    <tr>\n",
       "      <td>id</td>\n",
       "      <td>0</td>\n",
       "      <td>object</td>\n",
       "    </tr>\n",
       "    <tr>\n",
       "      <td>mb_used</td>\n",
       "      <td>0</td>\n",
       "      <td>int64</td>\n",
       "    </tr>\n",
       "    <tr>\n",
       "      <td>session_date</td>\n",
       "      <td>0</td>\n",
       "      <td>datetime64[ns]</td>\n",
       "    </tr>\n",
       "    <tr>\n",
       "      <td>user_id</td>\n",
       "      <td>0</td>\n",
       "      <td>int64</td>\n",
       "    </tr>\n",
       "    <tr>\n",
       "      <td rowspan=\"4\" valign=\"top\">202607</td>\n",
       "      <td rowspan=\"4\" valign=\"top\">calls_df</td>\n",
       "      <td>call_date</td>\n",
       "      <td>0</td>\n",
       "      <td>datetime64[ns]</td>\n",
       "    </tr>\n",
       "    <tr>\n",
       "      <td>duration</td>\n",
       "      <td>0</td>\n",
       "      <td>int64</td>\n",
       "    </tr>\n",
       "    <tr>\n",
       "      <td>id</td>\n",
       "      <td>0</td>\n",
       "      <td>object</td>\n",
       "    </tr>\n",
       "    <tr>\n",
       "      <td>user_id</td>\n",
       "      <td>0</td>\n",
       "      <td>int64</td>\n",
       "    </tr>\n",
       "  </tbody>\n",
       "</table>\n",
       "</div>"
      ],
      "text/plain": [
       "                                          null_values            type\n",
       "total  frame       columns                                           \n",
       "2      tariffs_df  mb_per_month_included            0           int64\n",
       "                   messages_included                0           int64\n",
       "                   minutes_included                 0           int64\n",
       "                   rub_monthly_fee                  0           int64\n",
       "                   rub_per_gb                       0           int64\n",
       "                   rub_per_message                  0           int64\n",
       "                   rub_per_minute                   0           int64\n",
       "                   tariff                           0          object\n",
       "500    users_df    age                              0           int64\n",
       "                   churn_date                     462          object\n",
       "                   city                             0          object\n",
       "                   first_name                       0          object\n",
       "                   last_name                        0          object\n",
       "                   reg_date                         0  datetime64[ns]\n",
       "                   tariff                           0          object\n",
       "                   user_id                          0           int64\n",
       "123036 messages_df id                               0          object\n",
       "                   message_date                     0  datetime64[ns]\n",
       "                   user_id                          0           int64\n",
       "149396 internet_df Unnamed: 0                       0           int64\n",
       "                   id                               0          object\n",
       "                   mb_used                          0           int64\n",
       "                   session_date                     0  datetime64[ns]\n",
       "                   user_id                          0           int64\n",
       "202607 calls_df    call_date                        0  datetime64[ns]\n",
       "                   duration                         0           int64\n",
       "                   id                               0          object\n",
       "                   user_id                          0           int64"
      ]
     },
     "execution_count": 27,
     "metadata": {},
     "output_type": "execute_result"
    }
   ],
   "source": [
    "# <Создадим словарь соответствия фрейма и его имени>\n",
    "dictionary_with_frames ={\n",
    "    'calls_df': calls_df,\n",
    "    'internet_df': internet_df,\n",
    "    'messages_df': messages_df,\n",
    "    'tariffs_df': tariffs_df,\n",
    "    'users_df': users_df\n",
    "}\n",
    "\n",
    "# <Функция для агрегации данных о нескольких загруженных таблицах.\n",
    "#  Собирает следующею информацию: количество объектов(строк) в данных,\n",
    "#  количество null-значений и тип каждого столбца>\n",
    "def get_stat(dict_of_frames):\n",
    "\n",
    "    # <Функция отвечающая за создание промежуточных таблиц,\n",
    "    #    собирая данные из конкретного переданного фрейма>\n",
    "    def table(dataframe, name):\n",
    "        \n",
    "        columns = dataframe.columns\n",
    "        count_of_rows = len(columns)\n",
    "        total = dataframe.shape[0]\n",
    "        \n",
    "        total_table = pd.DataFrame(data =[[0] * 5] * count_of_rows, \n",
    "                                        columns = ['total',\n",
    "                                                   'frame',\n",
    "                                                   \"columns\",\n",
    "                                                   \"null_values\",\n",
    "                                                   \"type\"])\n",
    "    \n",
    "        total_table['total'] = [total] * count_of_rows\n",
    "        total_table['frame'] = [name] * count_of_rows\n",
    "        total_table['columns'] = columns\n",
    "        \n",
    "        for column in columns:\n",
    "            curent_type = str(dataframe[column].dtype)\n",
    "            count_of_null = dataframe[column].isnull().sum()\n",
    "            total_table.loc[total_table['columns'] == column,'null_values'] = count_of_null\n",
    "            total_table.loc[total_table['columns'] == column,'type'] = curent_type\n",
    "        return total_table\n",
    "        \n",
    "    final_df = pd.DataFrame(columns = ['total','frame',\"columns\",\"null_values\",\"type\"])\n",
    "    \n",
    "    for name,frame in dict_of_frames.items():\n",
    "        part_of_table = table(frame,name)\n",
    "        final_df = final_df.append(part_of_table)\n",
    "        \n",
    "    final_df = final_df.reset_index(drop = True)\n",
    "    final_df_grouped = final_df.groupby(['total','frame',\"columns\"]).sum()\n",
    "    \n",
    "    return final_df_grouped\n",
    "\n",
    "get_stat(dictionary_with_frames)"
   ]
  },
  {
   "cell_type": "markdown",
   "metadata": {},
   "source": [
    "Отлично, всё форматы в норме, ошибок в таблицах нет."
   ]
  },
  {
   "cell_type": "markdown",
   "metadata": {},
   "source": [
    "* Посчитайте для каждого пользователя:\n",
    "    - количество сделанных звонков и израсходованных минут разговора по месяцам;\n",
    "    - количество отправленных сообщений по месяцам;\n",
    "    - объем израсходованного интернет-трафика по месяцам;\n",
    "    - помесячную выручку с каждого пользователя (вычтите бесплатный лимит из суммарного количества звонков, сообщений и интернет-трафика; остаток умножьте на значение из тарифного плана;прибавьте абонентскую плату, соответствующую тарифному плану)."
   ]
  },
  {
   "cell_type": "markdown",
   "metadata": {},
   "source": [
    "В датасетах *calls_df*, *messages_df* и *internet_df* создадим столбцы с номером тем месяца, в котором произошло событие."
   ]
  },
  {
   "cell_type": "code",
   "execution_count": 28,
   "metadata": {},
   "outputs": [
    {
     "data": {
      "text/html": [
       "<div>\n",
       "<style scoped>\n",
       "    .dataframe tbody tr th:only-of-type {\n",
       "        vertical-align: middle;\n",
       "    }\n",
       "\n",
       "    .dataframe tbody tr th {\n",
       "        vertical-align: top;\n",
       "    }\n",
       "\n",
       "    .dataframe thead th {\n",
       "        text-align: right;\n",
       "    }\n",
       "</style>\n",
       "<table border=\"1\" class=\"dataframe\">\n",
       "  <thead>\n",
       "    <tr style=\"text-align: right;\">\n",
       "      <th></th>\n",
       "      <th>id</th>\n",
       "      <th>call_date</th>\n",
       "      <th>duration</th>\n",
       "      <th>user_id</th>\n",
       "      <th>month</th>\n",
       "    </tr>\n",
       "  </thead>\n",
       "  <tbody>\n",
       "    <tr>\n",
       "      <td>0</td>\n",
       "      <td>1000_0</td>\n",
       "      <td>2018-07-25</td>\n",
       "      <td>1</td>\n",
       "      <td>1000</td>\n",
       "      <td>7</td>\n",
       "    </tr>\n",
       "    <tr>\n",
       "      <td>1</td>\n",
       "      <td>1000_1</td>\n",
       "      <td>2018-08-17</td>\n",
       "      <td>1</td>\n",
       "      <td>1000</td>\n",
       "      <td>8</td>\n",
       "    </tr>\n",
       "    <tr>\n",
       "      <td>2</td>\n",
       "      <td>1000_2</td>\n",
       "      <td>2018-06-11</td>\n",
       "      <td>3</td>\n",
       "      <td>1000</td>\n",
       "      <td>6</td>\n",
       "    </tr>\n",
       "    <tr>\n",
       "      <td>3</td>\n",
       "      <td>1000_3</td>\n",
       "      <td>2018-09-21</td>\n",
       "      <td>14</td>\n",
       "      <td>1000</td>\n",
       "      <td>9</td>\n",
       "    </tr>\n",
       "    <tr>\n",
       "      <td>4</td>\n",
       "      <td>1000_4</td>\n",
       "      <td>2018-12-15</td>\n",
       "      <td>6</td>\n",
       "      <td>1000</td>\n",
       "      <td>12</td>\n",
       "    </tr>\n",
       "  </tbody>\n",
       "</table>\n",
       "</div>"
      ],
      "text/plain": [
       "       id  call_date  duration  user_id  month\n",
       "0  1000_0 2018-07-25         1     1000      7\n",
       "1  1000_1 2018-08-17         1     1000      8\n",
       "2  1000_2 2018-06-11         3     1000      6\n",
       "3  1000_3 2018-09-21        14     1000      9\n",
       "4  1000_4 2018-12-15         6     1000     12"
      ]
     },
     "execution_count": 28,
     "metadata": {},
     "output_type": "execute_result"
    }
   ],
   "source": [
    "# <Добавим столбец 'month' в таблицу 'calls_df'>\n",
    "calls_df['month'] = calls_df[\"call_date\"].dt.month\n",
    "calls_df.head()"
   ]
  },
  {
   "cell_type": "code",
   "execution_count": 29,
   "metadata": {},
   "outputs": [
    {
     "data": {
      "text/html": [
       "<div>\n",
       "<style scoped>\n",
       "    .dataframe tbody tr th:only-of-type {\n",
       "        vertical-align: middle;\n",
       "    }\n",
       "\n",
       "    .dataframe tbody tr th {\n",
       "        vertical-align: top;\n",
       "    }\n",
       "\n",
       "    .dataframe thead th {\n",
       "        text-align: right;\n",
       "    }\n",
       "</style>\n",
       "<table border=\"1\" class=\"dataframe\">\n",
       "  <thead>\n",
       "    <tr style=\"text-align: right;\">\n",
       "      <th></th>\n",
       "      <th>id</th>\n",
       "      <th>message_date</th>\n",
       "      <th>user_id</th>\n",
       "      <th>month</th>\n",
       "    </tr>\n",
       "  </thead>\n",
       "  <tbody>\n",
       "    <tr>\n",
       "      <td>0</td>\n",
       "      <td>1000_0</td>\n",
       "      <td>2018-06-27</td>\n",
       "      <td>1000</td>\n",
       "      <td>6</td>\n",
       "    </tr>\n",
       "    <tr>\n",
       "      <td>1</td>\n",
       "      <td>1000_1</td>\n",
       "      <td>2018-10-08</td>\n",
       "      <td>1000</td>\n",
       "      <td>10</td>\n",
       "    </tr>\n",
       "    <tr>\n",
       "      <td>2</td>\n",
       "      <td>1000_2</td>\n",
       "      <td>2018-08-04</td>\n",
       "      <td>1000</td>\n",
       "      <td>8</td>\n",
       "    </tr>\n",
       "    <tr>\n",
       "      <td>3</td>\n",
       "      <td>1000_3</td>\n",
       "      <td>2018-06-16</td>\n",
       "      <td>1000</td>\n",
       "      <td>6</td>\n",
       "    </tr>\n",
       "    <tr>\n",
       "      <td>4</td>\n",
       "      <td>1000_4</td>\n",
       "      <td>2018-12-05</td>\n",
       "      <td>1000</td>\n",
       "      <td>12</td>\n",
       "    </tr>\n",
       "  </tbody>\n",
       "</table>\n",
       "</div>"
      ],
      "text/plain": [
       "       id message_date  user_id  month\n",
       "0  1000_0   2018-06-27     1000      6\n",
       "1  1000_1   2018-10-08     1000     10\n",
       "2  1000_2   2018-08-04     1000      8\n",
       "3  1000_3   2018-06-16     1000      6\n",
       "4  1000_4   2018-12-05     1000     12"
      ]
     },
     "execution_count": 29,
     "metadata": {},
     "output_type": "execute_result"
    }
   ],
   "source": [
    "# <Добавим столбец 'month' в таблицу 'messages_df'>\n",
    "messages_df['month'] = messages_df[\"message_date\"].dt.month\n",
    "messages_df.head()"
   ]
  },
  {
   "cell_type": "markdown",
   "metadata": {},
   "source": []
  },
  {
   "cell_type": "code",
   "execution_count": 30,
   "metadata": {},
   "outputs": [
    {
     "data": {
      "text/html": [
       "<div>\n",
       "<style scoped>\n",
       "    .dataframe tbody tr th:only-of-type {\n",
       "        vertical-align: middle;\n",
       "    }\n",
       "\n",
       "    .dataframe tbody tr th {\n",
       "        vertical-align: top;\n",
       "    }\n",
       "\n",
       "    .dataframe thead th {\n",
       "        text-align: right;\n",
       "    }\n",
       "</style>\n",
       "<table border=\"1\" class=\"dataframe\">\n",
       "  <thead>\n",
       "    <tr style=\"text-align: right;\">\n",
       "      <th></th>\n",
       "      <th>Unnamed: 0</th>\n",
       "      <th>id</th>\n",
       "      <th>mb_used</th>\n",
       "      <th>session_date</th>\n",
       "      <th>user_id</th>\n",
       "      <th>month</th>\n",
       "    </tr>\n",
       "  </thead>\n",
       "  <tbody>\n",
       "    <tr>\n",
       "      <td>0</td>\n",
       "      <td>0</td>\n",
       "      <td>1000_0</td>\n",
       "      <td>113</td>\n",
       "      <td>2018-11-25</td>\n",
       "      <td>1000</td>\n",
       "      <td>11</td>\n",
       "    </tr>\n",
       "    <tr>\n",
       "      <td>1</td>\n",
       "      <td>1</td>\n",
       "      <td>1000_1</td>\n",
       "      <td>1053</td>\n",
       "      <td>2018-09-07</td>\n",
       "      <td>1000</td>\n",
       "      <td>9</td>\n",
       "    </tr>\n",
       "    <tr>\n",
       "      <td>2</td>\n",
       "      <td>2</td>\n",
       "      <td>1000_2</td>\n",
       "      <td>1198</td>\n",
       "      <td>2018-06-25</td>\n",
       "      <td>1000</td>\n",
       "      <td>6</td>\n",
       "    </tr>\n",
       "    <tr>\n",
       "      <td>3</td>\n",
       "      <td>3</td>\n",
       "      <td>1000_3</td>\n",
       "      <td>551</td>\n",
       "      <td>2018-08-22</td>\n",
       "      <td>1000</td>\n",
       "      <td>8</td>\n",
       "    </tr>\n",
       "    <tr>\n",
       "      <td>4</td>\n",
       "      <td>4</td>\n",
       "      <td>1000_4</td>\n",
       "      <td>303</td>\n",
       "      <td>2018-09-24</td>\n",
       "      <td>1000</td>\n",
       "      <td>9</td>\n",
       "    </tr>\n",
       "  </tbody>\n",
       "</table>\n",
       "</div>"
      ],
      "text/plain": [
       "   Unnamed: 0      id  mb_used session_date  user_id  month\n",
       "0           0  1000_0      113   2018-11-25     1000     11\n",
       "1           1  1000_1     1053   2018-09-07     1000      9\n",
       "2           2  1000_2     1198   2018-06-25     1000      6\n",
       "3           3  1000_3      551   2018-08-22     1000      8\n",
       "4           4  1000_4      303   2018-09-24     1000      9"
      ]
     },
     "execution_count": 30,
     "metadata": {},
     "output_type": "execute_result"
    }
   ],
   "source": [
    "# <Добавим столбец 'month' в таблицу 'internet_df'>\n",
    "internet_df['month'] = internet_df[\"session_date\"].dt.month\n",
    "internet_df.head()"
   ]
  },
  {
   "cell_type": "markdown",
   "metadata": {},
   "source": [
    "Посчитаем для каждого пользователя:\n",
    "- количество сделанных звонков и израсходованных минут разговора по месяцам;\n",
    "- количество отправленных сообщений по месяцам;\n",
    "- объем израсходованного интернет-трафика по месяцам\n",
    "\n",
    "и соберем все данные в одну таблицу."
   ]
  },
  {
   "cell_type": "markdown",
   "metadata": {},
   "source": [
    "<div class=\"alert alert-warning\" style=\"border-radius: 15px\">\n",
    "<b> Комментарий ревьюера</b>\n",
    "    \n",
    "Здорово, что не боишься работать с функциями :) Это все можно сделать в разы проще. Попробуй просто-напросто склеить таблицы зконков, смс и трафика методом **outer**. А информацию по клиентам прилепишь методом **left**. Ты классно все делаешь, но если можно проще, то лучше делать проще :) И циклы не потребуются.\n",
    "</div>"
   ]
  },
  {
   "cell_type": "markdown",
   "metadata": {},
   "source": [
    ">**<span style=\"color:blue\">Я чувствовала у себя пробел в этом, решила поразбираться. И, да, ты права: я потратила слишком много времени именно на это. Исправила более простым способом ниже.</span>**"
   ]
  },
  {
   "cell_type": "code",
   "execution_count": 31,
   "metadata": {},
   "outputs": [
    {
     "data": {
      "text/html": [
       "<div>\n",
       "<style scoped>\n",
       "    .dataframe tbody tr th:only-of-type {\n",
       "        vertical-align: middle;\n",
       "    }\n",
       "\n",
       "    .dataframe tbody tr th {\n",
       "        vertical-align: top;\n",
       "    }\n",
       "\n",
       "    .dataframe thead th {\n",
       "        text-align: right;\n",
       "    }\n",
       "</style>\n",
       "<table border=\"1\" class=\"dataframe\">\n",
       "  <thead>\n",
       "    <tr style=\"text-align: right;\">\n",
       "      <th></th>\n",
       "      <th>user_id</th>\n",
       "      <th>month</th>\n",
       "      <th>count_calls</th>\n",
       "      <th>calls_total_duration</th>\n",
       "      <th>count_messages</th>\n",
       "      <th>total_mb_used</th>\n",
       "    </tr>\n",
       "  </thead>\n",
       "  <tbody>\n",
       "    <tr>\n",
       "      <td>0</td>\n",
       "      <td>1000</td>\n",
       "      <td>5</td>\n",
       "      <td>22.0</td>\n",
       "      <td>164.0</td>\n",
       "      <td>22.0</td>\n",
       "      <td>2257.0</td>\n",
       "    </tr>\n",
       "    <tr>\n",
       "      <td>1</td>\n",
       "      <td>1000</td>\n",
       "      <td>6</td>\n",
       "      <td>43.0</td>\n",
       "      <td>187.0</td>\n",
       "      <td>60.0</td>\n",
       "      <td>23262.0</td>\n",
       "    </tr>\n",
       "    <tr>\n",
       "      <td>2</td>\n",
       "      <td>1000</td>\n",
       "      <td>7</td>\n",
       "      <td>47.0</td>\n",
       "      <td>346.0</td>\n",
       "      <td>75.0</td>\n",
       "      <td>14017.0</td>\n",
       "    </tr>\n",
       "    <tr>\n",
       "      <td>3</td>\n",
       "      <td>1000</td>\n",
       "      <td>8</td>\n",
       "      <td>52.0</td>\n",
       "      <td>418.0</td>\n",
       "      <td>81.0</td>\n",
       "      <td>14072.0</td>\n",
       "    </tr>\n",
       "    <tr>\n",
       "      <td>4</td>\n",
       "      <td>1000</td>\n",
       "      <td>9</td>\n",
       "      <td>58.0</td>\n",
       "      <td>478.0</td>\n",
       "      <td>57.0</td>\n",
       "      <td>14583.0</td>\n",
       "    </tr>\n",
       "    <tr>\n",
       "      <td>...</td>\n",
       "      <td>...</td>\n",
       "      <td>...</td>\n",
       "      <td>...</td>\n",
       "      <td>...</td>\n",
       "      <td>...</td>\n",
       "      <td>...</td>\n",
       "    </tr>\n",
       "    <tr>\n",
       "      <td>3209</td>\n",
       "      <td>1489</td>\n",
       "      <td>9</td>\n",
       "      <td>NaN</td>\n",
       "      <td>NaN</td>\n",
       "      <td>32.0</td>\n",
       "      <td>17246.0</td>\n",
       "    </tr>\n",
       "    <tr>\n",
       "      <td>3210</td>\n",
       "      <td>1489</td>\n",
       "      <td>10</td>\n",
       "      <td>NaN</td>\n",
       "      <td>NaN</td>\n",
       "      <td>21.0</td>\n",
       "      <td>19599.0</td>\n",
       "    </tr>\n",
       "    <tr>\n",
       "      <td>3211</td>\n",
       "      <td>1489</td>\n",
       "      <td>11</td>\n",
       "      <td>NaN</td>\n",
       "      <td>NaN</td>\n",
       "      <td>20.0</td>\n",
       "      <td>17526.0</td>\n",
       "    </tr>\n",
       "    <tr>\n",
       "      <td>3212</td>\n",
       "      <td>1489</td>\n",
       "      <td>12</td>\n",
       "      <td>NaN</td>\n",
       "      <td>NaN</td>\n",
       "      <td>35.0</td>\n",
       "      <td>17349.0</td>\n",
       "    </tr>\n",
       "    <tr>\n",
       "      <td>3213</td>\n",
       "      <td>1476</td>\n",
       "      <td>4</td>\n",
       "      <td>NaN</td>\n",
       "      <td>NaN</td>\n",
       "      <td>NaN</td>\n",
       "      <td>531.0</td>\n",
       "    </tr>\n",
       "  </tbody>\n",
       "</table>\n",
       "<p>3214 rows × 6 columns</p>\n",
       "</div>"
      ],
      "text/plain": [
       "      user_id  month  count_calls  calls_total_duration  count_messages  \\\n",
       "0        1000      5         22.0                 164.0            22.0   \n",
       "1        1000      6         43.0                 187.0            60.0   \n",
       "2        1000      7         47.0                 346.0            75.0   \n",
       "3        1000      8         52.0                 418.0            81.0   \n",
       "4        1000      9         58.0                 478.0            57.0   \n",
       "...       ...    ...          ...                   ...             ...   \n",
       "3209     1489      9          NaN                   NaN            32.0   \n",
       "3210     1489     10          NaN                   NaN            21.0   \n",
       "3211     1489     11          NaN                   NaN            20.0   \n",
       "3212     1489     12          NaN                   NaN            35.0   \n",
       "3213     1476      4          NaN                   NaN             NaN   \n",
       "\n",
       "      total_mb_used  \n",
       "0            2257.0  \n",
       "1           23262.0  \n",
       "2           14017.0  \n",
       "3           14072.0  \n",
       "4           14583.0  \n",
       "...             ...  \n",
       "3209        17246.0  \n",
       "3210        19599.0  \n",
       "3211        17526.0  \n",
       "3212        17349.0  \n",
       "3213          531.0  \n",
       "\n",
       "[3214 rows x 6 columns]"
      ]
     },
     "execution_count": 31,
     "metadata": {},
     "output_type": "execute_result"
    }
   ],
   "source": [
    "# <Создадим сводные таблицы по месяцам для каждого пользователя с информацией по звонкам, смс и интернет-трафику>\n",
    "calls = calls_df.pivot_table(index=['user_id','month'],values='duration', aggfunc=['count', 'sum'])\n",
    "messages = messages_df.pivot_table(index=['user_id','month'],values='message_date', aggfunc='count')\n",
    "internet = internet_df.pivot_table(index=['user_id','month'],values='mb_used', aggfunc='sum')\n",
    "\n",
    "# <Создадим дата-фрейм со сводными данными>\n",
    "month_stat = pd.DataFrame()\n",
    "\n",
    "# <Создадим временный дата-фрейм tmp_df и преобразуем сводную таблицу calls из DataFrame в массив записей NumPy>\n",
    "tmp_df = pd.DataFrame(calls.to_records())\n",
    "\n",
    "# <Заполним дата-фрейм со сводными данными month_stat значениями tmp_df.\n",
    "# Такой способ применен для выведения столбцов 'user_id' 'month' в отдельные, а не по которым сгруппирована таблица>\n",
    "month_stat['user_id'] = tmp_df['user_id']\n",
    "month_stat['month']   = tmp_df['month']\n",
    "month_stat['count_calls']   = tmp_df.iloc[:, 2]\n",
    "month_stat['calls_total_duration'] = tmp_df.iloc[:, 3]\n",
    "\n",
    "# <Добавим в дата-фрейм со сводными данными month_stat значения из сводной таблицы с информацией по смс>\n",
    "month_stat = month_stat.merge(messages, on=['user_id', 'month'], how='outer')\n",
    "\n",
    "# <Добавим в дата-фрейм со сводными данными month_stat значения из сводной таблицы с информацией по интернет-трафику>\n",
    "month_stat = month_stat.merge(internet, on=['user_id', 'month'], how='outer')\n",
    "\n",
    "# <Присвои столбцам таблицы month_stat правильные названия>\n",
    "month_stat.columns = ['user_id','month','count_calls', 'calls_total_duration','count_messages','total_mb_used']\n",
    "\n",
    "# <Выедем полученную таблицу>\n",
    "month_stat"
   ]
  },
  {
   "cell_type": "code",
   "execution_count": 32,
   "metadata": {},
   "outputs": [
    {
     "name": "stdout",
     "output_type": "stream",
     "text": [
      "<class 'pandas.core.frame.DataFrame'>\n",
      "Int64Index: 3214 entries, 0 to 3213\n",
      "Data columns (total 6 columns):\n",
      "user_id                 3214 non-null int64\n",
      "month                   3214 non-null int64\n",
      "count_calls             3214 non-null int64\n",
      "calls_total_duration    3214 non-null int64\n",
      "count_messages          3214 non-null int64\n",
      "total_mb_used           3214 non-null int64\n",
      "dtypes: int64(6)\n",
      "memory usage: 175.8 KB\n"
     ]
    }
   ],
   "source": [
    "# <Заменим пропущенные значения в столбцах на 0.\n",
    "# При соединении датафреймов Pandas привел типы к float64 из-за NaN-ов. Приведем их к int64>\n",
    "month_stat = month_stat.fillna(0).astype('int64')\n",
    "    \n",
    "# <Выведем общую информацию>\n",
    "month_stat.info()"
   ]
  },
  {
   "cell_type": "markdown",
   "metadata": {},
   "source": [
    "<div class=\"alert alert-success\" style=\"border-radius: 15px\">\n",
    "<b> Комментарий ревьюера 2</b>\n",
    "    \n",
    "fillna можно сразу ко всей таблице применить.\n",
    "</div>"
   ]
  },
  {
   "cell_type": "markdown",
   "metadata": {},
   "source": [
    ">**<span style=\"color:blue\">Принято и поправлено.</span>**"
   ]
  },
  {
   "cell_type": "code",
   "execution_count": 33,
   "metadata": {},
   "outputs": [
    {
     "data": {
      "text/html": [
       "<div>\n",
       "<style scoped>\n",
       "    .dataframe tbody tr th:only-of-type {\n",
       "        vertical-align: middle;\n",
       "    }\n",
       "\n",
       "    .dataframe tbody tr th {\n",
       "        vertical-align: top;\n",
       "    }\n",
       "\n",
       "    .dataframe thead th {\n",
       "        text-align: right;\n",
       "    }\n",
       "</style>\n",
       "<table border=\"1\" class=\"dataframe\">\n",
       "  <thead>\n",
       "    <tr style=\"text-align: right;\">\n",
       "      <th></th>\n",
       "      <th>user_id</th>\n",
       "      <th>month</th>\n",
       "      <th>count_calls</th>\n",
       "      <th>calls_total_duration</th>\n",
       "      <th>count_messages</th>\n",
       "      <th>total_mb_used</th>\n",
       "      <th>city</th>\n",
       "      <th>tariff</th>\n",
       "    </tr>\n",
       "  </thead>\n",
       "  <tbody>\n",
       "    <tr>\n",
       "      <td>0</td>\n",
       "      <td>1000</td>\n",
       "      <td>5</td>\n",
       "      <td>22</td>\n",
       "      <td>164</td>\n",
       "      <td>22</td>\n",
       "      <td>2257</td>\n",
       "      <td>Краснодар</td>\n",
       "      <td>ultra</td>\n",
       "    </tr>\n",
       "    <tr>\n",
       "      <td>1</td>\n",
       "      <td>1000</td>\n",
       "      <td>6</td>\n",
       "      <td>43</td>\n",
       "      <td>187</td>\n",
       "      <td>60</td>\n",
       "      <td>23262</td>\n",
       "      <td>Краснодар</td>\n",
       "      <td>ultra</td>\n",
       "    </tr>\n",
       "    <tr>\n",
       "      <td>2</td>\n",
       "      <td>1000</td>\n",
       "      <td>7</td>\n",
       "      <td>47</td>\n",
       "      <td>346</td>\n",
       "      <td>75</td>\n",
       "      <td>14017</td>\n",
       "      <td>Краснодар</td>\n",
       "      <td>ultra</td>\n",
       "    </tr>\n",
       "    <tr>\n",
       "      <td>3</td>\n",
       "      <td>1000</td>\n",
       "      <td>8</td>\n",
       "      <td>52</td>\n",
       "      <td>418</td>\n",
       "      <td>81</td>\n",
       "      <td>14072</td>\n",
       "      <td>Краснодар</td>\n",
       "      <td>ultra</td>\n",
       "    </tr>\n",
       "    <tr>\n",
       "      <td>4</td>\n",
       "      <td>1000</td>\n",
       "      <td>9</td>\n",
       "      <td>58</td>\n",
       "      <td>478</td>\n",
       "      <td>57</td>\n",
       "      <td>14583</td>\n",
       "      <td>Краснодар</td>\n",
       "      <td>ultra</td>\n",
       "    </tr>\n",
       "    <tr>\n",
       "      <td>...</td>\n",
       "      <td>...</td>\n",
       "      <td>...</td>\n",
       "      <td>...</td>\n",
       "      <td>...</td>\n",
       "      <td>...</td>\n",
       "      <td>...</td>\n",
       "      <td>...</td>\n",
       "      <td>...</td>\n",
       "    </tr>\n",
       "    <tr>\n",
       "      <td>3209</td>\n",
       "      <td>1489</td>\n",
       "      <td>9</td>\n",
       "      <td>0</td>\n",
       "      <td>0</td>\n",
       "      <td>32</td>\n",
       "      <td>17246</td>\n",
       "      <td>Санкт-Петербург</td>\n",
       "      <td>smart</td>\n",
       "    </tr>\n",
       "    <tr>\n",
       "      <td>3210</td>\n",
       "      <td>1489</td>\n",
       "      <td>10</td>\n",
       "      <td>0</td>\n",
       "      <td>0</td>\n",
       "      <td>21</td>\n",
       "      <td>19599</td>\n",
       "      <td>Санкт-Петербург</td>\n",
       "      <td>smart</td>\n",
       "    </tr>\n",
       "    <tr>\n",
       "      <td>3211</td>\n",
       "      <td>1489</td>\n",
       "      <td>11</td>\n",
       "      <td>0</td>\n",
       "      <td>0</td>\n",
       "      <td>20</td>\n",
       "      <td>17526</td>\n",
       "      <td>Санкт-Петербург</td>\n",
       "      <td>smart</td>\n",
       "    </tr>\n",
       "    <tr>\n",
       "      <td>3212</td>\n",
       "      <td>1489</td>\n",
       "      <td>12</td>\n",
       "      <td>0</td>\n",
       "      <td>0</td>\n",
       "      <td>35</td>\n",
       "      <td>17349</td>\n",
       "      <td>Санкт-Петербург</td>\n",
       "      <td>smart</td>\n",
       "    </tr>\n",
       "    <tr>\n",
       "      <td>3213</td>\n",
       "      <td>1476</td>\n",
       "      <td>4</td>\n",
       "      <td>0</td>\n",
       "      <td>0</td>\n",
       "      <td>0</td>\n",
       "      <td>531</td>\n",
       "      <td>Москва</td>\n",
       "      <td>ultra</td>\n",
       "    </tr>\n",
       "  </tbody>\n",
       "</table>\n",
       "<p>3214 rows × 8 columns</p>\n",
       "</div>"
      ],
      "text/plain": [
       "      user_id  month  count_calls  calls_total_duration  count_messages  \\\n",
       "0        1000      5           22                   164              22   \n",
       "1        1000      6           43                   187              60   \n",
       "2        1000      7           47                   346              75   \n",
       "3        1000      8           52                   418              81   \n",
       "4        1000      9           58                   478              57   \n",
       "...       ...    ...          ...                   ...             ...   \n",
       "3209     1489      9            0                     0              32   \n",
       "3210     1489     10            0                     0              21   \n",
       "3211     1489     11            0                     0              20   \n",
       "3212     1489     12            0                     0              35   \n",
       "3213     1476      4            0                     0               0   \n",
       "\n",
       "      total_mb_used             city tariff  \n",
       "0              2257        Краснодар  ultra  \n",
       "1             23262        Краснодар  ultra  \n",
       "2             14017        Краснодар  ultra  \n",
       "3             14072        Краснодар  ultra  \n",
       "4             14583        Краснодар  ultra  \n",
       "...             ...              ...    ...  \n",
       "3209          17246  Санкт-Петербург  smart  \n",
       "3210          19599  Санкт-Петербург  smart  \n",
       "3211          17526  Санкт-Петербург  smart  \n",
       "3212          17349  Санкт-Петербург  smart  \n",
       "3213            531           Москва  ultra  \n",
       "\n",
       "[3214 rows x 8 columns]"
      ]
     },
     "execution_count": 33,
     "metadata": {},
     "output_type": "execute_result"
    }
   ],
   "source": [
    "# <Добавим в таблицу month_stat информацию о пользователях>\n",
    "month_stat = month_stat.merge(users_df, on='user_id', how='left')\n",
    "\n",
    "# <Удалим столбцы, информация которых не нужна для дальнейшего проведения анализа, для удобства >\n",
    "del month_stat['age']\n",
    "del month_stat['churn_date']\n",
    "del month_stat['first_name']\n",
    "del month_stat['last_name']\n",
    "del month_stat['reg_date']\n",
    "\n",
    "month_stat"
   ]
  },
  {
   "cell_type": "markdown",
   "metadata": {},
   "source": [
    "Посчитаем помесячную выручку с каждого пользователя: вычтитем бесплатный лимит из суммарного количества звонков, сообщений и интернет-трафика, остаток умножим на значение из тарифного плана, прибавим абонентскую плату, соответствующую тарифному плану.\n",
    "\n",
    "После добавим помесячную выручку с каждого пользователя в таблицу в столбец *'income'*."
   ]
  },
  {
   "cell_type": "markdown",
   "metadata": {},
   "source": [
    "<div class=\"alert alert-warning\" style=\"border-radius: 15px\">\n",
    "<b> Комментарий ревьюера</b>\n",
    "    \n",
    "- Определение функции внутри другой это плохая идея. Определяй снаружи.\n",
    "- Старайся делать код универсальным и не использовать числовые значения. Прикинь, завтра тарифы поменяются и абонентские платы будут другие. Твой код перестанет быть актуальным. Доступ к этим переменным ты можешь брать прямо из таблицы с тарифами. \n",
    "- Попробуй сделать все же в одной функции. Если что, я помогу.\n",
    "- Забыла округлить Гб вверх.    \n",
    "</div>"
   ]
  },
  {
   "cell_type": "markdown",
   "metadata": {},
   "source": [
    ">**<span style=\"color:blue\">Согласна с тобой. Лучше использовать данные из таблиц. Затупила что-то.</span>**\n",
    ">\n",
    ">**<span style=\"color:blue\">Поправила код ниже. Надеюсь, что правильно.</span>**"
   ]
  },
  {
   "cell_type": "code",
   "execution_count": 34,
   "metadata": {},
   "outputs": [
    {
     "data": {
      "text/html": [
       "<div>\n",
       "<style scoped>\n",
       "    .dataframe tbody tr th:only-of-type {\n",
       "        vertical-align: middle;\n",
       "    }\n",
       "\n",
       "    .dataframe tbody tr th {\n",
       "        vertical-align: top;\n",
       "    }\n",
       "\n",
       "    .dataframe thead th {\n",
       "        text-align: right;\n",
       "    }\n",
       "</style>\n",
       "<table border=\"1\" class=\"dataframe\">\n",
       "  <thead>\n",
       "    <tr style=\"text-align: right;\">\n",
       "      <th></th>\n",
       "      <th>user_id</th>\n",
       "      <th>month</th>\n",
       "      <th>count_calls</th>\n",
       "      <th>calls_total_duration</th>\n",
       "      <th>count_messages</th>\n",
       "      <th>total_mb_used</th>\n",
       "      <th>city</th>\n",
       "      <th>tariff</th>\n",
       "      <th>income</th>\n",
       "    </tr>\n",
       "  </thead>\n",
       "  <tbody>\n",
       "    <tr>\n",
       "      <td>0</td>\n",
       "      <td>1000</td>\n",
       "      <td>5</td>\n",
       "      <td>22</td>\n",
       "      <td>164</td>\n",
       "      <td>22</td>\n",
       "      <td>2257</td>\n",
       "      <td>Краснодар</td>\n",
       "      <td>ultra</td>\n",
       "      <td>1950.0</td>\n",
       "    </tr>\n",
       "    <tr>\n",
       "      <td>1</td>\n",
       "      <td>1000</td>\n",
       "      <td>6</td>\n",
       "      <td>43</td>\n",
       "      <td>187</td>\n",
       "      <td>60</td>\n",
       "      <td>23262</td>\n",
       "      <td>Краснодар</td>\n",
       "      <td>ultra</td>\n",
       "      <td>1950.0</td>\n",
       "    </tr>\n",
       "    <tr>\n",
       "      <td>2</td>\n",
       "      <td>1000</td>\n",
       "      <td>7</td>\n",
       "      <td>47</td>\n",
       "      <td>346</td>\n",
       "      <td>75</td>\n",
       "      <td>14017</td>\n",
       "      <td>Краснодар</td>\n",
       "      <td>ultra</td>\n",
       "      <td>1950.0</td>\n",
       "    </tr>\n",
       "    <tr>\n",
       "      <td>3</td>\n",
       "      <td>1000</td>\n",
       "      <td>8</td>\n",
       "      <td>52</td>\n",
       "      <td>418</td>\n",
       "      <td>81</td>\n",
       "      <td>14072</td>\n",
       "      <td>Краснодар</td>\n",
       "      <td>ultra</td>\n",
       "      <td>1950.0</td>\n",
       "    </tr>\n",
       "    <tr>\n",
       "      <td>4</td>\n",
       "      <td>1000</td>\n",
       "      <td>9</td>\n",
       "      <td>58</td>\n",
       "      <td>478</td>\n",
       "      <td>57</td>\n",
       "      <td>14583</td>\n",
       "      <td>Краснодар</td>\n",
       "      <td>ultra</td>\n",
       "      <td>1950.0</td>\n",
       "    </tr>\n",
       "    <tr>\n",
       "      <td>...</td>\n",
       "      <td>...</td>\n",
       "      <td>...</td>\n",
       "      <td>...</td>\n",
       "      <td>...</td>\n",
       "      <td>...</td>\n",
       "      <td>...</td>\n",
       "      <td>...</td>\n",
       "      <td>...</td>\n",
       "      <td>...</td>\n",
       "    </tr>\n",
       "    <tr>\n",
       "      <td>3209</td>\n",
       "      <td>1489</td>\n",
       "      <td>9</td>\n",
       "      <td>0</td>\n",
       "      <td>0</td>\n",
       "      <td>32</td>\n",
       "      <td>17246</td>\n",
       "      <td>Санкт-Петербург</td>\n",
       "      <td>smart</td>\n",
       "      <td>950.0</td>\n",
       "    </tr>\n",
       "    <tr>\n",
       "      <td>3210</td>\n",
       "      <td>1489</td>\n",
       "      <td>10</td>\n",
       "      <td>0</td>\n",
       "      <td>0</td>\n",
       "      <td>21</td>\n",
       "      <td>19599</td>\n",
       "      <td>Санкт-Петербург</td>\n",
       "      <td>smart</td>\n",
       "      <td>1550.0</td>\n",
       "    </tr>\n",
       "    <tr>\n",
       "      <td>3211</td>\n",
       "      <td>1489</td>\n",
       "      <td>11</td>\n",
       "      <td>0</td>\n",
       "      <td>0</td>\n",
       "      <td>20</td>\n",
       "      <td>17526</td>\n",
       "      <td>Санкт-Петербург</td>\n",
       "      <td>smart</td>\n",
       "      <td>1150.0</td>\n",
       "    </tr>\n",
       "    <tr>\n",
       "      <td>3212</td>\n",
       "      <td>1489</td>\n",
       "      <td>12</td>\n",
       "      <td>0</td>\n",
       "      <td>0</td>\n",
       "      <td>35</td>\n",
       "      <td>17349</td>\n",
       "      <td>Санкт-Петербург</td>\n",
       "      <td>smart</td>\n",
       "      <td>950.0</td>\n",
       "    </tr>\n",
       "    <tr>\n",
       "      <td>3213</td>\n",
       "      <td>1476</td>\n",
       "      <td>4</td>\n",
       "      <td>0</td>\n",
       "      <td>0</td>\n",
       "      <td>0</td>\n",
       "      <td>531</td>\n",
       "      <td>Москва</td>\n",
       "      <td>ultra</td>\n",
       "      <td>1950.0</td>\n",
       "    </tr>\n",
       "  </tbody>\n",
       "</table>\n",
       "<p>3214 rows × 9 columns</p>\n",
       "</div>"
      ],
      "text/plain": [
       "      user_id  month  count_calls  calls_total_duration  count_messages  \\\n",
       "0        1000      5           22                   164              22   \n",
       "1        1000      6           43                   187              60   \n",
       "2        1000      7           47                   346              75   \n",
       "3        1000      8           52                   418              81   \n",
       "4        1000      9           58                   478              57   \n",
       "...       ...    ...          ...                   ...             ...   \n",
       "3209     1489      9            0                     0              32   \n",
       "3210     1489     10            0                     0              21   \n",
       "3211     1489     11            0                     0              20   \n",
       "3212     1489     12            0                     0              35   \n",
       "3213     1476      4            0                     0               0   \n",
       "\n",
       "      total_mb_used             city tariff  income  \n",
       "0              2257        Краснодар  ultra  1950.0  \n",
       "1             23262        Краснодар  ultra  1950.0  \n",
       "2             14017        Краснодар  ultra  1950.0  \n",
       "3             14072        Краснодар  ultra  1950.0  \n",
       "4             14583        Краснодар  ultra  1950.0  \n",
       "...             ...              ...    ...     ...  \n",
       "3209          17246  Санкт-Петербург  smart   950.0  \n",
       "3210          19599  Санкт-Петербург  smart  1550.0  \n",
       "3211          17526  Санкт-Петербург  smart  1150.0  \n",
       "3212          17349  Санкт-Петербург  smart   950.0  \n",
       "3213            531           Москва  ultra  1950.0  \n",
       "\n",
       "[3214 rows x 9 columns]"
      ]
     },
     "execution_count": 34,
     "metadata": {},
     "output_type": "execute_result"
    }
   ],
   "source": [
    "# <Создадим функцию, рассчитывающая доход копании с конкретного абонента>\n",
    "def get_income(row):\n",
    "   \n",
    "    calls=row['calls_total_duration']\n",
    "    messages=row['count_messages']\n",
    "    internet=row['total_mb_used']\n",
    "    tariff=row['tariff']\n",
    "    \n",
    "    \n",
    "    if (tariff=='smart'):\n",
    "        i=0\n",
    "    else:\n",
    "        i=1\n",
    "        \n",
    "    income = tariffs_df['rub_monthly_fee'][i] # <В доход всегда входит абонентская плата>\n",
    "    income += (max(0, (calls - tariffs_df['minutes_included'][i])*tariffs_df['rub_per_minute'][i])\n",
    "               # <Доход за перерасход по минутам разговора>\n",
    "               +max(0, (messages - tariffs_df['messages_included'][i])*tariffs_df['rub_per_message'][i])\n",
    "               # <Доход за перерасход по смс>\n",
    "               +max(0, np.ceil((internet - tariffs_df['mb_per_month_included'][i])/1024))*tariffs_df['rub_per_gb'][i])\n",
    "               # <Доход за перерасход интернет-трафика>\n",
    "    \n",
    "    return income     \n",
    "\n",
    "# <Добавим помесячную выручку с каждого пользователя в таблицу в столбец 'income'>\n",
    "month_stat['income'] = month_stat.apply(get_income, axis = 1)\n",
    "month_stat"
   ]
  },
  {
   "cell_type": "markdown",
   "metadata": {},
   "source": [
    "<div class=\"alert alert-warning\" style=\"border-radius: 15px\">\n",
    "<b> Комментарий ревьюера 2</b>\n",
    "    \n",
    "- round работает иначе.  Используй **ceil**. Это надо исправить.\n",
    "    \n",
    "- Есть еще функция, возвращающая максимум из двух чисел:\n",
    "\n",
    "\n",
    "    max(a,b)\n",
    "    \n",
    "    \n",
    "То есть у нас будет так:\n",
    "    \n",
    "    \n",
    "    income = tariffs_df['rub_monthly_fee'][i]\n",
    "    income += max(0, (calls - tariffs_df['minutes_included'][i])*tariffs_df['rub_per_minute'][i])\n",
    "</div>"
   ]
  },
  {
   "cell_type": "markdown",
   "metadata": {},
   "source": [
    ">**<span style=\"color:blue\">Поправила код, по твоим замечаниям. Надеюсь, верно.</span>**\n",
    ">\n",
    ">**<span style=\"color:blue\">Про *round()* поняла. Спасибо!</span>**"
   ]
  },
  {
   "cell_type": "code",
   "execution_count": 35,
   "metadata": {},
   "outputs": [
    {
     "data": {
      "text/plain": [
       "2"
      ]
     },
     "execution_count": 35,
     "metadata": {},
     "output_type": "execute_result"
    }
   ],
   "source": [
    "# КОД РЕВЬЮЕРА\n",
    "round(2.5)"
   ]
  },
  {
   "cell_type": "code",
   "execution_count": 36,
   "metadata": {},
   "outputs": [
    {
     "name": "stdout",
     "output_type": "stream",
     "text": [
      "<class 'pandas.core.frame.DataFrame'>\n",
      "Int64Index: 3214 entries, 0 to 3213\n",
      "Data columns (total 9 columns):\n",
      "user_id                 3214 non-null int64\n",
      "month                   3214 non-null int64\n",
      "count_calls             3214 non-null int64\n",
      "calls_total_duration    3214 non-null int64\n",
      "count_messages          3214 non-null int64\n",
      "total_mb_used           3214 non-null int64\n",
      "city                    3214 non-null object\n",
      "tariff                  3214 non-null object\n",
      "income                  3214 non-null float64\n",
      "dtypes: float64(1), int64(6), object(2)\n",
      "memory usage: 251.1+ KB\n"
     ]
    }
   ],
   "source": [
    "month_stat.info()"
   ]
  },
  {
   "cell_type": "markdown",
   "metadata": {},
   "source": [
    "Отлично, для каждого абонента известно сколько минут, смс и мегабайт потрачено в каждом месяце и сколько компания получила прибыли с каждого пользователя."
   ]
  },
  {
   "cell_type": "markdown",
   "metadata": {},
   "source": [
    "### Вывод"
   ]
  },
  {
   "cell_type": "markdown",
   "metadata": {},
   "source": [
    "Данные во всех датасетах приведены к нужным типам, ошибки и пропуски обработаны.\n",
    "\n",
    "Для каждого пользователя есть информация о количестве сделанных звонков и израсходованных минут разговора по месяцам, отправленных сообщений по месяцам, объеме израсходованного интернет-трафика по месяцам, а также, о помесячной выручке."
   ]
  },
  {
   "cell_type": "markdown",
   "metadata": {},
   "source": [
    "### Шаг 3. Проанализируйте данные"
   ]
  },
  {
   "cell_type": "markdown",
   "metadata": {},
   "source": [
    "* Опишите поведение клиентов оператора, исходя из выборки. Сколько минут разговора, сколько сообщений и какой объём интернет-трафика требуется пользователям каждого тарифа в месяц? Посчитайте среднее количество, дисперсию и стандартное отклонение. Постройте гистограммы. Опишите распределения."
   ]
  },
  {
   "cell_type": "markdown",
   "metadata": {},
   "source": [
    "Создадим сводную таблицу для каждого тарифа с медианными и средними значенииями, дисперсией и стандартным отклонением для минут разговора, количеству сообщений и объёму интернет-трафика."
   ]
  },
  {
   "cell_type": "code",
   "execution_count": 37,
   "metadata": {},
   "outputs": [
    {
     "data": {
      "text/html": [
       "<div>\n",
       "<style scoped>\n",
       "    .dataframe tbody tr th:only-of-type {\n",
       "        vertical-align: middle;\n",
       "    }\n",
       "\n",
       "    .dataframe tbody tr th {\n",
       "        vertical-align: top;\n",
       "    }\n",
       "\n",
       "    .dataframe thead tr th {\n",
       "        text-align: left;\n",
       "    }\n",
       "\n",
       "    .dataframe thead tr:last-of-type th {\n",
       "        text-align: right;\n",
       "    }\n",
       "</style>\n",
       "<table border=\"1\" class=\"dataframe\">\n",
       "  <thead>\n",
       "    <tr>\n",
       "      <th></th>\n",
       "      <th colspan=\"4\" halign=\"left\">median</th>\n",
       "      <th colspan=\"4\" halign=\"left\">mean</th>\n",
       "      <th colspan=\"4\" halign=\"left\">var</th>\n",
       "      <th colspan=\"4\" halign=\"left\">std</th>\n",
       "    </tr>\n",
       "    <tr>\n",
       "      <th></th>\n",
       "      <th>calls_total_duration</th>\n",
       "      <th>count_messages</th>\n",
       "      <th>income</th>\n",
       "      <th>total_mb_used</th>\n",
       "      <th>calls_total_duration</th>\n",
       "      <th>count_messages</th>\n",
       "      <th>income</th>\n",
       "      <th>total_mb_used</th>\n",
       "      <th>calls_total_duration</th>\n",
       "      <th>count_messages</th>\n",
       "      <th>income</th>\n",
       "      <th>total_mb_used</th>\n",
       "      <th>calls_total_duration</th>\n",
       "      <th>count_messages</th>\n",
       "      <th>income</th>\n",
       "      <th>total_mb_used</th>\n",
       "    </tr>\n",
       "    <tr>\n",
       "      <th>tariff</th>\n",
       "      <th></th>\n",
       "      <th></th>\n",
       "      <th></th>\n",
       "      <th></th>\n",
       "      <th></th>\n",
       "      <th></th>\n",
       "      <th></th>\n",
       "      <th></th>\n",
       "      <th></th>\n",
       "      <th></th>\n",
       "      <th></th>\n",
       "      <th></th>\n",
       "      <th></th>\n",
       "      <th></th>\n",
       "      <th></th>\n",
       "      <th></th>\n",
       "    </tr>\n",
       "  </thead>\n",
       "  <tbody>\n",
       "    <tr>\n",
       "      <td>smart</td>\n",
       "      <td>435</td>\n",
       "      <td>28</td>\n",
       "      <td>1075.0</td>\n",
       "      <td>16540</td>\n",
       "      <td>429.450875</td>\n",
       "      <td>33.384029</td>\n",
       "      <td>1312.512337</td>\n",
       "      <td>16237.184388</td>\n",
       "      <td>37974.774628</td>\n",
       "      <td>796.812958</td>\n",
       "      <td>690458.161989</td>\n",
       "      <td>3.457199e+07</td>\n",
       "      <td>194.871174</td>\n",
       "      <td>28.227876</td>\n",
       "      <td>830.938122</td>\n",
       "      <td>5879.795158</td>\n",
       "    </tr>\n",
       "    <tr>\n",
       "      <td>ultra</td>\n",
       "      <td>532</td>\n",
       "      <td>38</td>\n",
       "      <td>1950.0</td>\n",
       "      <td>19324</td>\n",
       "      <td>540.779695</td>\n",
       "      <td>49.363452</td>\n",
       "      <td>2071.065990</td>\n",
       "      <td>19488.703553</td>\n",
       "      <td>106105.726823</td>\n",
       "      <td>2285.266143</td>\n",
       "      <td>143491.240560</td>\n",
       "      <td>1.019516e+08</td>\n",
       "      <td>325.738740</td>\n",
       "      <td>47.804457</td>\n",
       "      <td>378.802377</td>\n",
       "      <td>10097.107541</td>\n",
       "    </tr>\n",
       "  </tbody>\n",
       "</table>\n",
       "</div>"
      ],
      "text/plain": [
       "                     median                                       \\\n",
       "       calls_total_duration count_messages  income total_mb_used   \n",
       "tariff                                                             \n",
       "smart                   435             28  1075.0         16540   \n",
       "ultra                   532             38  1950.0         19324   \n",
       "\n",
       "                       mean                                            \\\n",
       "       calls_total_duration count_messages       income total_mb_used   \n",
       "tariff                                                                  \n",
       "smart            429.450875      33.384029  1312.512337  16237.184388   \n",
       "ultra            540.779695      49.363452  2071.065990  19488.703553   \n",
       "\n",
       "                        var                                              \\\n",
       "       calls_total_duration count_messages         income total_mb_used   \n",
       "tariff                                                                    \n",
       "smart          37974.774628     796.812958  690458.161989  3.457199e+07   \n",
       "ultra         106105.726823    2285.266143  143491.240560  1.019516e+08   \n",
       "\n",
       "                        std                                           \n",
       "       calls_total_duration count_messages      income total_mb_used  \n",
       "tariff                                                                \n",
       "smart            194.871174      28.227876  830.938122   5879.795158  \n",
       "ultra            325.738740      47.804457  378.802377  10097.107541  "
      ]
     },
     "execution_count": 37,
     "metadata": {},
     "output_type": "execute_result"
    }
   ],
   "source": [
    "month_stat_pivot = month_stat.pivot_table(index = 'tariff',\n",
    "                        values = ['calls_total_duration','count_messages','total_mb_used','income'],\n",
    "                        aggfunc = ['median','mean','var','std']\n",
    "                       )\n",
    "month_stat_pivot"
   ]
  },
  {
   "cell_type": "markdown",
   "metadata": {},
   "source": [
    "<div class=\"alert alert-success\" style=\"border-radius: 15px\">\n",
    "<b> Комментарий ревьюера</b>\n",
    "    \n",
    "Отлично! Хочу еще привести тебе пример создания такой таблицы с нуля: \n",
    "</div>"
   ]
  },
  {
   "cell_type": "code",
   "execution_count": 38,
   "metadata": {},
   "outputs": [
    {
     "name": "stdout",
     "output_type": "stream",
     "text": [
      "MultiIndex([('calls_total_duration', 'mean'),\n",
      "            ('calls_total_duration',  'var'),\n",
      "            ('calls_total_duration',  'std'),\n",
      "            (      'count_messages', 'mean'),\n",
      "            (      'count_messages',  'var'),\n",
      "            (      'count_messages',  'std'),\n",
      "            (       'total_mb_used', 'mean'),\n",
      "            (       'total_mb_used',  'var'),\n",
      "            (       'total_mb_used',  'std'),\n",
      "            (              'income', 'mean'),\n",
      "            (              'income',  'var'),\n",
      "            (              'income',  'std')],\n",
      "           )\n",
      "\n",
      "\n",
      "\n",
      "Индексы:  ('calls_total_duration', 'mean') Первый:  calls_total_duration Второй:  mean\n"
     ]
    },
    {
     "data": {
      "text/html": [
       "<div>\n",
       "<style scoped>\n",
       "    .dataframe tbody tr th:only-of-type {\n",
       "        vertical-align: middle;\n",
       "    }\n",
       "\n",
       "    .dataframe tbody tr th {\n",
       "        vertical-align: top;\n",
       "    }\n",
       "\n",
       "    .dataframe thead tr th {\n",
       "        text-align: left;\n",
       "    }\n",
       "</style>\n",
       "<table border=\"1\" class=\"dataframe\">\n",
       "  <thead>\n",
       "    <tr>\n",
       "      <th></th>\n",
       "      <th colspan=\"3\" halign=\"left\">calls_total_duration</th>\n",
       "      <th colspan=\"3\" halign=\"left\">count_messages</th>\n",
       "      <th colspan=\"3\" halign=\"left\">total_mb_used</th>\n",
       "      <th colspan=\"3\" halign=\"left\">income</th>\n",
       "    </tr>\n",
       "    <tr>\n",
       "      <th></th>\n",
       "      <th>mean</th>\n",
       "      <th>var</th>\n",
       "      <th>std</th>\n",
       "      <th>mean</th>\n",
       "      <th>var</th>\n",
       "      <th>std</th>\n",
       "      <th>mean</th>\n",
       "      <th>var</th>\n",
       "      <th>std</th>\n",
       "      <th>mean</th>\n",
       "      <th>var</th>\n",
       "      <th>std</th>\n",
       "    </tr>\n",
       "  </thead>\n",
       "  <tbody>\n",
       "    <tr>\n",
       "      <td>smart</td>\n",
       "      <td>429.45</td>\n",
       "      <td>37974.8</td>\n",
       "      <td>194.87</td>\n",
       "      <td>33.38</td>\n",
       "      <td>796.81</td>\n",
       "      <td>28.23</td>\n",
       "      <td>16237.2</td>\n",
       "      <td>3.4572e+07</td>\n",
       "      <td>5879.8</td>\n",
       "      <td>1312.51</td>\n",
       "      <td>690458</td>\n",
       "      <td>830.94</td>\n",
       "    </tr>\n",
       "    <tr>\n",
       "      <td>ultra</td>\n",
       "      <td>540.78</td>\n",
       "      <td>106106</td>\n",
       "      <td>325.74</td>\n",
       "      <td>49.36</td>\n",
       "      <td>2285.27</td>\n",
       "      <td>47.8</td>\n",
       "      <td>19488.7</td>\n",
       "      <td>1.01952e+08</td>\n",
       "      <td>10097.1</td>\n",
       "      <td>2071.07</td>\n",
       "      <td>143491</td>\n",
       "      <td>378.8</td>\n",
       "    </tr>\n",
       "  </tbody>\n",
       "</table>\n",
       "</div>"
      ],
      "text/plain": [
       "      calls_total_duration                  count_messages                  \\\n",
       "                      mean      var     std           mean      var    std   \n",
       "smart               429.45  37974.8  194.87          33.38   796.81  28.23   \n",
       "ultra               540.78   106106  325.74          49.36  2285.27   47.8   \n",
       "\n",
       "      total_mb_used                         income                  \n",
       "               mean          var      std     mean     var     std  \n",
       "smart       16237.2   3.4572e+07   5879.8  1312.51  690458  830.94  \n",
       "ultra       19488.7  1.01952e+08  10097.1  2071.07  143491   378.8  "
      ]
     },
     "execution_count": 38,
     "metadata": {},
     "output_type": "execute_result"
    }
   ],
   "source": [
    "# КОД РЕВЬЮЕРА\n",
    "\n",
    "# Это все для мультиндекса\n",
    "l1 = ['calls_total_duration','count_messages','total_mb_used','income']\n",
    "l2 = ['mean', 'var', 'std']\n",
    "idx = pd.MultiIndex.from_product([l1, l2])\n",
    "\n",
    "\n",
    "print(idx)\n",
    "\n",
    "print('\\n\\n\\nИндексы: ', idx[0], 'Первый: ', idx[0][0], 'Второй: ', idx[0][1])\n",
    "\n",
    "df = pd.DataFrame(index=['smart', 'ultra'], columns=idx)\n",
    "\n",
    "for i in df.columns:\n",
    "    df.loc['smart',i] = np.round(month_stat.query('tariff==\"smart\"')[i[0]].agg(i[1]),2)\n",
    "    df.loc['ultra',i] = np.round(month_stat.query('tariff==\"ultra\"')[i[0]].agg(i[1]),2)\n",
    "    \n",
    "df    "
   ]
  },
  {
   "cell_type": "markdown",
   "metadata": {},
   "source": [
    ">**<span style=\"color:blue\">Круто! Спасибо большое. Почитала побольше про использование *.MultiIndex*. Раньше не видела примеров. Точнее, не возникало необходимости. И я не знала о таком способе. Буду практиковать. Способов решения одной задачи невероятное множество!</span>**"
   ]
  },
  {
   "cell_type": "markdown",
   "metadata": {},
   "source": [
    "<div class=\"alert alert-success\" style=\"border-radius: 15px\">\n",
    "<b> Комментарий ревьюера 2</b>\n",
    "    \n",
    "Да, сохрани себе этот примерчик. \n",
    "</div>"
   ]
  },
  {
   "cell_type": "markdown",
   "metadata": {},
   "source": [
    "Для наглядности построим для каждого параметра гистограмму."
   ]
  },
  {
   "cell_type": "code",
   "execution_count": 39,
   "metadata": {
    "scrolled": false
   },
   "outputs": [
    {
     "data": {
      "image/png": "[encoded data removed]",
      "text/plain": [
       "<Figure size 1008x504 with 1 Axes>"
      ]
     },
     "metadata": {
      "needs_background": "light"
     },
     "output_type": "display_data"
    },
    {
     "data": {
      "image/png": "[encoded data removed]",
      "text/plain": [
       "<Figure size 1008x504 with 1 Axes>"
      ]
     },
     "metadata": {
      "needs_background": "light"
     },
     "output_type": "display_data"
    },
    {
     "data": {
      "image/png": "[encoded data removed]",
      "text/plain": [
       "<Figure size 1008x504 with 1 Axes>"
      ]
     },
     "metadata": {
      "needs_background": "light"
     },
     "output_type": "display_data"
    },
    {
     "data": {
      "image/png": "[encoded data removed]",
      "text/plain": [
       "<Figure size 1008x504 with 1 Axes>"
      ]
     },
     "metadata": {
      "needs_background": "light"
     },
     "output_type": "display_data"
    }
   ],
   "source": [
    "columns_list = ['calls_total_duration','count_messages','total_mb_used','income']\n",
    "tariffs = ['ultra','smart']\n",
    "for column in columns_list:\n",
    "        month_stat.loc[month_stat.loc[:,'tariff'] == 'smart'][column].plot(\n",
    "                                                                            kind = 'hist',\n",
    "                                                                            bins = 30,\n",
    "                                                                            label = 'тариф «Смарт»',\n",
    "                                                                            figsize = (14,7), fontsize=14\n",
    "                                                                           )\n",
    "        month_stat.loc[month_stat.loc[:,'tariff'] == \"ultra\"][column].plot(\n",
    "                                                                            kind = 'hist',\n",
    "                                                                            bins = 30,\n",
    "                                                                            alpha =0.7,\n",
    "                                                                            label = 'тариф «Ультра»',\n",
    "                                                                            figsize = (14,7), fontsize=14\n",
    "                                                                           )\n",
    "        plt.title(column, fontsize=14)\n",
    "        plt.legend(fontsize=14)\n",
    "        plt.show()"
   ]
  },
  {
   "cell_type": "markdown",
   "metadata": {},
   "source": [
    "### Вывод"
   ]
  },
  {
   "cell_type": "markdown",
   "metadata": {},
   "source": [
    "<span style=\"color:blue\">Распределения звонков и интернет-трафика двух тарифов близки к нормальным, однако гистограммы тарифа «Смарт» в большинстве своём скошены отрицательно (т. е. имеют дополнительные значениямя слева), в то время как у тарифа «Ультра» - положительно (т. е. имеют дополнительные значениямя справа). Об этом можно сделать вывод и глядя на медианные и средние значения в сводной таблице.</span>\n",
    "\n",
    "<span style=\"color:blue\">А распределения количества смс и дохода двух тарифов похожи больше на распределение Пуассона. Гистограммы обрезаны на:</span>\n",
    "* <span style=\"color:blue\">нуле для смс;</span>\n",
    "* <span style=\"color:blue\">на значениях абонентской платы для дохода</span>\n",
    "\n",
    "<span style=\"color:blue\">и имеют длинный «хвост» в положительную сторону.</span>\n",
    "\n",
    "<span style=\"color:blue\">И действительно: форма распределения Пуассона зависит от числа событий. При небольших значениях распределение смещено влево, а с увеличением числа событий становится симметричным и уходит вправо. Таким образом, можно сделать вывод, что пользователи тарифа «Смарт» чаще тратят базовый пакет сообщений и чаще доплачивают компании сверх абонентской платы по тарифу, нежели пользователи тарифа «Ультра».</span>\n",
    "   \n",
    "<span style=\"color:blue\">Так же, сравнивая дисперсии и стандартные отклонения по двум тарифам можно сказать, что разброс данных от среднего для тарифа «Ультра» больше, данные тарифа «Смарт» более собраны вокруг среднего.</span>\n",
    "\n",
    "Кроме того, пользователи тарифа «Ультра» не тратят весь базовый пакет не только минут количества сообщейний, но и минут, в отличие от абонентов тарифа «Смарт».</span>"
   ]
  },
  {
   "cell_type": "markdown",
   "metadata": {},
   "source": [
    "<div class=\"alert alert-warning\" style=\"border-radius: 15px\">\n",
    "<b> Комментарий ревьюера</b>\n",
    "    \n",
    "Добавь более конкретное описание распределений, с точки зрения нормальности. Похожи на нормальное или нет.</div>\n",
    "\n",
    "<div class=\"alert alert-warning\" style=\"border-radius: 15px\">\n",
    "<b> Комментарий ревьюера 2</b>\n",
    "    \n",
    "Да, интернет трафик и звонки распределены почти нормально. Но вот оставшиеся распределения не похожи на нормальные. Похожи на распределение Пуассона. Его часто используют для моделирования частоты редких событий в некотором интервале, при условии, что у этих событий все же есть некая интенсивность. Ну, например, сколько раз за 30 минут мимо нас проедет автобус.\n",
    "</div>"
   ]
  },
  {
   "cell_type": "markdown",
   "metadata": {},
   "source": [
    ">~**<span style=\"color:blue\">Принято и поправлено.</span>**~\n",
    ">\n",
    ">**<span style=\"color:blue\">Принято и, надеюсь, поправлено.</span>**"
   ]
  },
  {
   "cell_type": "markdown",
   "metadata": {},
   "source": [
    "### Шаг 4. Проверьте гипотезы"
   ]
  },
  {
   "cell_type": "markdown",
   "metadata": {},
   "source": [
    "* Средняя выручка пользователей тарифов «Ультра» и «Смарт» различается"
   ]
  },
  {
   "cell_type": "markdown",
   "metadata": {},
   "source": [
    "Необходимо сравнить две генеральных совокупности. Чтобы проверить гипотезу о равенстве среднего двух генеральных совокупностей по взятым из них выборкам, применим метод *scipy.stats.ttest_ind (array1, array2, equal_var)*.\n",
    "\n",
    "Нулевой гипотезой (**H<sub>0</sub>**) объявим \"Средняя выручка пользователей тарифов «Ультра» и «Смарт» равны\".\n",
    "\n",
    "Следовательно, сформулируем альтернативную гипотезу (**H<sub>1</sub>**): \"Средняя выручка пользователей тарифов «Ультра» и «Смарт» различается\".\n",
    "\n",
    "Критический уровень статистической значимости (*alpha*) зададим 5%.\n",
    "\n",
    "**Если полученный уровень значимости, на котором находятся друг от друга средние значения двух датасетов будет меньше критического, отвергнем нулевую гипотезу (**H<sub>0</sub>**)**."
   ]
  },
  {
   "cell_type": "code",
   "execution_count": 40,
   "metadata": {},
   "outputs": [
    {
     "name": "stdout",
     "output_type": "stream",
     "text": [
      "p-значение:0.0%\n",
      "Отвергаем нулевую гипотезу\n"
     ]
    }
   ],
   "source": [
    "# <Зададим критический уровень статистической значимости>\n",
    "alpha = 0.05    # критический уровень статистической значимости\n",
    "                # если p-value окажется меньше него - отвергнем гипотезу\n",
    "\n",
    "# <Из таблици со статистикой по пользователям выделим два датасета с выручкой компании в зависимости от тарифа>\n",
    "ultra_inc = month_stat.loc[month_stat.loc[:,'tariff'] == 'ultra']['income']\n",
    "smart_inc = month_stat.loc[month_stat.loc[:,'tariff'] == 'smart']['income']\n",
    "\n",
    "# <Применим метод scipy.stats.ttest_ind (array1, array2, equal_var), где scipy.stats импортировано в начале как st>\n",
    "result = st.ttest_ind(ultra_inc,smart_inc) \n",
    "\n",
    "# <Выведем уровень значимости, на котором находятся друг от друга среднее значение и то, с которым производится сравнение>\n",
    "print(\"p-значение:{:.1%}\".format(result.pvalue))\n",
    "\n",
    "# <Сравним полученное значение уровня значимости с критическим уровнем и выведем отвержение или наоборот нулевой гипотезы>\n",
    "if result.pvalue < alpha:\n",
    "    print(\"Отвергаем нулевую гипотезу\")\n",
    "else:\n",
    "    print(\"Не получилось отвергнуть нулевую гипотезу\")"
   ]
  },
  {
   "cell_type": "markdown",
   "metadata": {},
   "source": [
    "Средняя выручка пользователей тарифов «Ультра» и «Смарт» различается - наша гипотеза подтвердилась. Об этом можно сделать вывод из очень малого околонулевого значения уровня значимости, на котором находятся друг от друга средние значения двух датасетов по тарифам. Случайно получить такое отличие в значениях почти невозможно."
   ]
  },
  {
   "cell_type": "markdown",
   "metadata": {},
   "source": [
    "<div class=\"alert alert-success\" style=\"border-radius: 15px\">\n",
    "<b> Комментарий ревьюера</b>\n",
    "    \n",
    "Да, различие там большое. Вообще, средняя выручка с бюджетного тарифа не дотягивает даже до абонентской платы дорогого тарифа.\n",
    "</div>"
   ]
  },
  {
   "cell_type": "markdown",
   "metadata": {},
   "source": [
    "* Средняя выручка пользователей из Москвы отличается от выручки пользователей из других регионов"
   ]
  },
  {
   "cell_type": "markdown",
   "metadata": {},
   "source": [
    "Тут мы будем объёдинять выборки по тарифам, и, поэтому следует проверит отличаются ли дисперсии совокупностей по регионам."
   ]
  },
  {
   "cell_type": "code",
   "execution_count": 41,
   "metadata": {},
   "outputs": [
    {
     "name": "stdout",
     "output_type": "stream",
     "text": [
      "Дисперсия совокупности абонентов Москвы: 566403.5469261038\n",
      "Дисперсия совокупности абонентов других регионов: 663210.7680965652\n"
     ]
    }
   ],
   "source": [
    "# <Из таблици со статистикой по пользователям выделим два датасета с выручкой компании в зависимости от региона>\n",
    "moscow_inc = month_stat.loc[month_stat.loc[:,'city'] == 'Москва']['income']\n",
    "other_inc = month_stat.loc[month_stat.loc[:,'city'] != 'Москва']['income']\n",
    "\n",
    "# <Выведем значения дисперсий для каждой из совокупностей>\n",
    "print('Дисперсия совокупности абонентов Москвы:',np.var(moscow_inc))\n",
    "print('Дисперсия совокупности абонентов других регионов:',np.var(other_inc))"
   ]
  },
  {
   "cell_type": "markdown",
   "metadata": {},
   "source": [
    "Дисперсии отличаются. Поэтому необходимо сравнить две генеральных совокупности. Чтобы проверить гипотезу о равенстве среднего двух генеральных совокупностей по взятым из них выборкам, применим метод *scipy.stats.ttest_ind (array1, array2, equal_var)*, только в этот раз зададим параметр *equal_var* равным *False*.\n",
    "\n",
    "Нулевой гипотезой (**H<sub>0</sub>**) объявим \"Средняя выручка пользователей из Москвы равна выручке пользователей из других регионов\".\n",
    "\n",
    "Следовательно, сформулируем альтернативную гипотезу (**H<sub>1</sub>**): \"Средняя выручка пользователей из Москвы отличается от выручки пользователей из других регионов\".\n",
    "\n",
    "Критический уровень статистической значимости (*alpha*) аналогично зададим 5%.\n",
    "\n",
    "**Если полученный уровень значимости, на котором находятся друг от друга средние значения двух датасетов будет меньше критического, отвергнем нулевую гипотезу (**H<sub>0</sub>**)**."
   ]
  },
  {
   "cell_type": "code",
   "execution_count": 42,
   "metadata": {},
   "outputs": [
    {
     "name": "stdout",
     "output_type": "stream",
     "text": [
      "p-значение:56.0%\n",
      "Не получилось отвергнуть нулевую гипотезу\n"
     ]
    }
   ],
   "source": [
    "# <Применим метод scipy.stats.ttest_ind (array1, array2, equal_var), где scipy.stats импортировано в начале как st>\n",
    "result = st.ttest_ind(moscow_inc,other_inc, equal_var=False) \n",
    "\n",
    "# <Выведем уровень значимости, на котором находятся друг от друга среднее значение и то, с которым производится сравнение>\n",
    "print(\"p-значение:{:.1%}\".format(result.pvalue))\n",
    "\n",
    "# <Сравним полученное значение уровня значимости с критическим уровнем и выведем отвержение или наоборот нулевой гипотезы>\n",
    "if result.pvalue < alpha:\n",
    "    print(\"Отвергаем нулевую гипотезу\")\n",
    "else:\n",
    "    print(\"Не получилось отвергнуть нулевую гипотезу\")"
   ]
  },
  {
   "cell_type": "markdown",
   "metadata": {},
   "source": [
    "Уровни значимости, на котором находятся друг от друга средние значения двух датасетов составляет 51.7%, что говорит нам о том, что наша гипотеза \"Средняя выручка пользователей из Москвы отличается от выручки пользователей из других регионов\" - не подтвердилась. Прибыль от москвичей с вероятностью почти в 52% совпадает с доходом от регионов."
   ]
  },
  {
   "cell_type": "markdown",
   "metadata": {},
   "source": [
    "* Поясните:\n",
    "    * как вы формулировали нулевую и альтернативную гипотезы;\n",
    "    * какой критерий использовали для проверки гипотез и почему."
   ]
  },
  {
   "cell_type": "markdown",
   "metadata": {},
   "source": [
    "При формулировании нулевых гипотез (**H<sub>0</sub>**) для проверки гипотез необходимых для исследования выбирался знак равенства, т. е. мы говорили в (**H<sub>0</sub>**) о том что выручки по тарифам и регионам **РАВНЫ**. Соответственно, для формулирования альтернативной гипотезы (**H<sub>1</sub>**) выбирался знак неравенства.\n",
    "\n",
    "В качестве критерия проверки гипотез мы использовали и сравнивали средние значения выборок генеральных совокупностей, т. к., согласно центральной предельной теореме, по среднему, рассчитанному из выборки, можно судить о среднем генеральной совокупности, причём чем больше выборка, тем точнее — и это работает для генеральной совокупности, распределённой каким угодно образом, и выборочные средние нормально распределены вокруг значения, точно равного среднему генеральной совокупности."
   ]
  },
  {
   "cell_type": "markdown",
   "metadata": {},
   "source": [
    "### Вывод"
   ]
  },
  {
   "cell_type": "markdown",
   "metadata": {},
   "source": [
    "В первом случае нулевая гипотеза отверглась, т. е. подтвердилась гипотеза о том, что средняя выручка пользователей тарифов «Ультра» и «Смарт» различается, а во втором - нулевую гипотезу отвергнуть не получилось: из чего мы можем сделать вывод, что средняя выручка пользователей из Москвы не отличается от выручки пользователей из других регионов, т.е. опровергли своё предположение."
   ]
  },
  {
   "cell_type": "markdown",
   "metadata": {},
   "source": [
    "### Шаг 5. Напишите общий вывод"
   ]
  },
  {
   "cell_type": "markdown",
   "metadata": {},
   "source": [
    "В процессе работы, было выявлено, что в целом данные приходят достаточно чистые, за исключением таблицы *users_df* (столбец *churn_date* имел много пропусков). Возможно, стоит при сборе данных об окончании пользования тарифом дополнительно помечать абонентов, всё ещё использующих тариф, каким-то максимально разумным значением или же условным нулем, чтобы упростить предобработку данных. Тем более, возможна ситуцаия, когда над подобными данными будут работать несколько аналитиков и каждый из них определит для себя индивидуальный маркер, то в дальнейшем при объединении результатов работ могут появиться баги, которые сложно будет отловить.\n",
    "\n",
    "Используя обработанные данные мы проверили выдвинутые гипотезы:\n",
    "* средняя выручка пользователей тарифов «Ультра» и «Смарт» различается;\n",
    "* средняя выручка пользователей из Москвы отличается от выручки пользователей из других регионов.\n",
    "\n",
    "В первом случае нулевая гипотеза отверглась, т. е. подтвердилась гипотеза о том, что средняя выручка пользователей тарифов «Ультра» и «Смарт» различается, а во втором - нулевую гипотезу отвергнуть не получилось: из чего мы можем сделать вывод, что средняя выручка пользователей из Москвы не отличается от выручки пользователей из других регионов, т.е. опровергли своё предположение.\n",
    "\n",
    "Так же, можно отметить, что в среднем разница медианных и среднеарифметических значений дохода с разных тарифов отличается примено на 1000 в пользу тарифа «Ультра».\n",
    "\n",
    "Рекламный бюджет выгоднее всего перераспределить в пользу тарифа «Ультра», несмотря на то, что в отличие от абонентов тарифа «Смарт», его абоненты не покупают дополнительные минуты и смс. К тому же, медианное и среднее значение прибыли от абонентов тарифа «Ультра» выше."
   ]
  },
  {
   "cell_type": "markdown",
   "metadata": {},
   "source": [
    "<div class=\"alert alert-success\" style=\"border-radius: 15px\">\n",
    "<b> Комментарий ревьюера</b>\n",
    "    \n",
    "Хороший вывод. С рекомендацией согласна.\n",
    "</div>"
   ]
  },
  {
   "cell_type": "markdown",
   "metadata": {},
   "source": [
    ">**<span style=\"color:blue\">Спасибо большое за твои рекомендации и комментрарии. Мой проект был каким-то усложнённым в решении. Соглашусь с тобой: чем проще, тем лучше. Буду впредь стараться снала подумать, чем сразу писать. Надеюсь, что смогу перейти к Сборному проекту!</span>**\n",
    ">\n",
    ">**<span style=\"color:blue\">Отдельное спасибо за пример использования Мультиндекса!</span>**"
   ]
  },
  {
   "cell_type": "markdown",
   "metadata": {},
   "source": [
    "<div class=\"alert alert-success\" style=\"border-radius: 15px\">\n",
    "<b> Комментарий ревьюера 2</b>\n",
    "    \n",
    "Рада помочь :)\n",
    "</div>"
   ]
  },
  {
   "cell_type": "markdown",
   "metadata": {},
   "source": [
    "### Чек-лист готовности проекта\n",
    "\n",
    "Поставьте 'x' в выполненных пунктах. Далее нажмите Shift+Enter."
   ]
  },
  {
   "cell_type": "markdown",
   "metadata": {},
   "source": [
    "- [x]  открыт файл\n",
    "- [x]  файлы изучены (выведены первые строки, метод info())\n",
    "- [x]  данные приведены к нужным типам\n",
    "- [x]  найдены и исправлены ошибки в данных\n",
    "- [x]  для каждого пользователя посчитано количество сделанных звонков и израсходованных минут разговора по месяцам\n",
    "- [x]  для каждого пользователя посчитано количество отправленных сообщений по месяцам\n",
    "- [x]  для каждого пользователя посчитан объем израсходованного интернет-трафика по месяцам\n",
    "- [x]  для каждого пользователя посчитана помесячная выручка с каждого пользователя (вычтите бесплатный лимит из суммарного количества звонков, сообщений и интернет-трафика; остаток умножьте на значение из тарифного плана;прибавьте абонентскую плату, соответствующую тарифному плану)\n",
    "- [x]  посчитано среднее количество, дисперсия и стандартное отклонение для параметров, описывающих поведение клиентов оператора\n",
    "- [x]  построены гистограммы и описаны распределения для параметров, описывающих поведение клиентов оператора\n",
    "- [x]  описано поведение клиентов оператора, исходя из выборки (количество минут разговора, количество сообщений и потребный объём интернет-трафика для пользователей каждого тарифа в месяц)\n",
    "- [x]  проверена гипотеза \"Средняя выручка пользователей тарифов «Ультра» и «Смарт» различается\"\n",
    "- [x]  проверена гипотеза \"Средняя выручка пользователей из Москвы отличается от выручки пользователей из других регионов\"\n",
    "- [x]  дано пояснение о том как были сформулированы нулевая и альтернативная гипотизы\n",
    "- [x]  дано пояснение, какой критерий использовали для проверки гипотез и почему\n",
    "- [x]  в каждом этапе есть выводы\n",
    "- [x]  есть общий вывод"
   ]
  }
 ],
 "metadata": {
  "kernelspec": {
   "display_name": "Python 3",
   "language": "python",
   "name": "python3"
  },
  "language_info": {
   "codemirror_mode": {
    "name": "ipython",
    "version": 3
   },
   "file_extension": ".py",
   "mimetype": "text/x-python",
   "name": "python",
   "nbconvert_exporter": "python",
   "pygments_lexer": "ipython3",
   "version": "3.7.8"
  },
  "toc": {
   "base_numbering": 1,
   "nav_menu": {},
   "number_sections": false,
   "sideBar": true,
   "skip_h1_title": true,
   "title_cell": "Table of Contents",
   "title_sidebar": "Contents",
   "toc_cell": false,
   "toc_position": {
    "height": "calc(100% - 180px)",
    "left": "10px",
    "top": "150px",
    "width": "319px"
   },
   "toc_section_display": true,
   "toc_window_display": true
  }
 },
 "nbformat": 4,
 "nbformat_minor": 2
}
