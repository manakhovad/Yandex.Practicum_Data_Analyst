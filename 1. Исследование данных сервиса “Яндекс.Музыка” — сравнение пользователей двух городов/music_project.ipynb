{
 "cells": [
  {
   "cell_type": "markdown",
   "metadata": {
    "colab_type": "text",
    "deletable": false,
    "id": "QWh8pkqyAO_p",
    "tags": [
     "55236c03-64a5-4f38-92fc-dc6c523363e7"
    ]
   },
   "source": [
    "## Задание 1. Что такое проекты в Jupyter"
   ]
  },
  {
   "cell_type": "markdown",
   "metadata": {
    "colab_type": "text",
    "deletable": false,
    "id": "TFzUs-AVhI_F"
   },
   "source": [
    "Проекты в Jupyter оформляются в виде так называемых **тетрадок *Jupyter Notebook***. Тетрадка — это смесь текста и кода на Python. Пример такой тетрадки вы сейчас читаете.\n",
    "\n",
    "Пора приступать к выполнению кода. Перейдите в ячейку под этим текстом и нажмите **Shift+Enter**, либо кликните по кнопке **( ▶| Run )** сверху."
   ]
  },
  {
   "cell_type": "code",
   "execution_count": 2,
   "metadata": {
    "colab": {
     "base_uri": "https://localhost:8080/",
     "height": 51
    },
    "colab_type": "code",
    "deletable": false,
    "id": "b1s4BP1jAZ09",
    "outputId": "3750177d-1736-4a19-eedc-fc1d572af2b1"
   },
   "outputs": [
    {
     "name": "stdout",
     "output_type": "stream",
     "text": [
      "Я - аналитик данных! 😎\n",
      "Я умею складывать числа, a + b = 5\n"
     ]
    }
   ],
   "source": [
    "print(\"Я - аналитик данных! 😎\")\n",
    "a = 2\n",
    "b = 3\n",
    "sum = a + b\n",
    "print(\"Я умею складывать числа, a + b =\", sum)"
   ]
  },
  {
   "cell_type": "markdown",
   "metadata": {
    "colab_type": "text",
    "deletable": false,
    "id": "uSZfGOVWnTOb"
   },
   "source": [
    "Ячейки могут содержать любой код на языке Python. Всё практически как в уже знакомом вам тренажёре."
   ]
  },
  {
   "cell_type": "markdown",
   "metadata": {
    "colab_type": "text",
    "deletable": false,
    "id": "UzudmkNHioX9",
    "tags": [
     "a5af25ed-ec68-4904-9263-e3369dfdb0e3"
    ]
   },
   "source": [
    "## Задание 2. Как исполняется код в ячейках Jupyter Notebook\n"
   ]
  },
  {
   "cell_type": "markdown",
   "metadata": {
    "colab_type": "text",
    "deletable": false,
    "id": "gd-aDGxvoPMU"
   },
   "source": [
    "Результат выполнения кода отображается прямо под ним. Не нужно писать вызов `print()` — значение последнего вычисленного выражения отобразится и так. Убедитесь в этом, исполнив следующий код:"
   ]
  },
  {
   "cell_type": "code",
   "execution_count": 5,
   "metadata": {
    "colab": {
     "base_uri": "https://localhost:8080/",
     "height": 34
    },
    "colab_type": "code",
    "deletable": false,
    "id": "jmynmlUykb7B",
    "outputId": "7067f884-bd29-493b-8751-a1ff0ad72a5d"
   },
   "outputs": [
    {
     "data": {
      "text/plain": [
       "13"
      ]
     },
     "execution_count": 5,
     "metadata": {},
     "output_type": "execute_result"
    }
   ],
   "source": [
    "def SumSquare(x, y):\n",
    "  return x*x + y*y;\n",
    "\n",
    "SumSquare(a, b)\n"
   ]
  },
  {
   "cell_type": "markdown",
   "metadata": {
    "colab_type": "text",
    "deletable": false,
    "id": "YeakwhJJsxa0"
   },
   "source": [
    "Получилось 13. Это потому, что значения переменных a и b сохранились после выполнения кода предыдущих ячеек.\n",
    "\n",
    "Код в каждой ячейке — часть общей программы. Так как вы управляете запуском ячеек вручную, можете выполнять их в любом порядке, даже редактируя и перезапуская. Таким образом  вы влияете на значения переменных, которые сохраняются от ячейки к ячейке.\n",
    "\n",
    "Рекомендуем запускать код по порядку, чтобы результат выполнения был предсказуем. Если выбрать в меню **( Cell / Run All )**, все ячейки будут выполнены по очереди от первой до текущей.\n",
    "\n",
    "Значения переменных, накопленные после выполнения кода, можно сбросить. Для этого выберите **( Kernel / Restart )** или кликните **( ⟳ Restart )** на панели сверху.\n",
    "\n",
    "**Упражнение.** Заполните пропуск в следующей ячейке так, чтобы после выполнения кода значение переменной `c` стало равным `8` . Проверьте свое решение, выполнив код ячейки."
   ]
  },
  {
   "cell_type": "code",
   "execution_count": 6,
   "metadata": {
    "colab": {
     "base_uri": "https://localhost:8080/",
     "height": 34
    },
    "colab_type": "code",
    "deletable": false,
    "id": "A6d4NvHn2c3f",
    "outputId": "47388131-09ff-48ab-cfcd-51b5e3ded4ce"
   },
   "outputs": [
    {
     "data": {
      "text/plain": [
       "8"
      ]
     },
     "execution_count": 6,
     "metadata": {},
     "output_type": "execute_result"
    }
   ],
   "source": [
    "z = 2\n",
    "c = SumSquare(z, a)\n",
    "c"
   ]
  },
  {
   "cell_type": "markdown",
   "metadata": {
    "colab_type": "text",
    "deletable": false,
    "id": "T4NnlzPSSEzD",
    "tags": [
     "18cad61c-fdcf-404a-92e0-63ef7814ea3d"
    ]
   },
   "source": [
    "##  Задание 3. Красивый текст в тетрадках"
   ]
  },
  {
   "cell_type": "markdown",
   "metadata": {
    "colab_type": "text",
    "deletable": false,
    "id": "X4I2mgFnpDgb"
   },
   "source": [
    "Jupyter позволяет форматировать текст красиво. Например, таблица из первой темы будет выглядеть так:\n",
    "\n",
    "| Язык                     | Доля сайтов в топ 10 млн. | Носители, млн. | Говорящие, млн. |\n",
    "|--------------------------|-----------------|--------------------|-------------|\n",
    "| Английский               | 53.90%          | 378.2              | 1121        |\n",
    "| Русский                  | 6.10%           | 153.9              | 264.3       |\n",
    "| Немецкий                 | 6.00%           | 76                 | 132         |\n",
    "| Испанский                | 4.90%           | 442.3              | 512.9       |\n",
    "| Французский              | 4.00%           | 76.7               | 284.9       |\n",
    "| Японский                 | 3.40%           | 128.2              | 128.3       |\n",
    "| Португальский            | 2.90%           | 222.7              | 236.5       |\n",
    "| Итальянский              | 2.40%           | 64.8               | 67.8        |\n",
    "| Персидский               | 2.00%           | 60                 | 110         |\n",
    "| Польский                 | 1.80%           | 39.6               | 40.3        |\n",
    "| Китайский | 1.70%           | 908.7              | 1.107       |\n",
    "| Датский                  | 1.20%           | 22                 | 28          |\n",
    "| Турецкий                 | 1.20%           | 78.5               | 78.9        |\n",
    "| Чешский                  | 1.00%           | 10.4               | 10.6        |\n",
    "\n",
    "А вот как выглядят в Jupyter Notebook таблицы из файлов *.csv*, загруженные в библиотеку Pandas:"
   ]
  },
  {
   "cell_type": "code",
   "execution_count": 7,
   "metadata": {
    "colab": {
     "base_uri": "https://localhost:8080/",
     "height": 390
    },
    "colab_type": "code",
    "deletable": false,
    "id": "l06wg-rdZalt",
    "outputId": "4fa04f50-d392-4964-b46b-aee749b4acc8"
   },
   "outputs": [
    {
     "data": {
      "text/html": [
       "<div>\n",
       "<style scoped>\n",
       "    .dataframe tbody tr th:only-of-type {\n",
       "        vertical-align: middle;\n",
       "    }\n",
       "\n",
       "    .dataframe tbody tr th {\n",
       "        vertical-align: top;\n",
       "    }\n",
       "\n",
       "    .dataframe thead th {\n",
       "        text-align: right;\n",
       "    }\n",
       "</style>\n",
       "<table border=\"1\" class=\"dataframe\">\n",
       "  <thead>\n",
       "    <tr style=\"text-align: right;\">\n",
       "      <th></th>\n",
       "      <th>Модель</th>\n",
       "      <th>Категория</th>\n",
       "      <th>Количество</th>\n",
       "      <th>Стоимость за минуту</th>\n",
       "    </tr>\n",
       "  </thead>\n",
       "  <tbody>\n",
       "    <tr>\n",
       "      <td>0</td>\n",
       "      <td>Renault Kaptur</td>\n",
       "      <td>эконом</td>\n",
       "      <td>200</td>\n",
       "      <td>5.0</td>\n",
       "    </tr>\n",
       "    <tr>\n",
       "      <td>1</td>\n",
       "      <td>Kia Rio</td>\n",
       "      <td>эконом</td>\n",
       "      <td>300</td>\n",
       "      <td>5.0</td>\n",
       "    </tr>\n",
       "    <tr>\n",
       "      <td>2</td>\n",
       "      <td>Skoda Rapid</td>\n",
       "      <td>эконом</td>\n",
       "      <td>150</td>\n",
       "      <td>5.0</td>\n",
       "    </tr>\n",
       "    <tr>\n",
       "      <td>3</td>\n",
       "      <td>VW Polo</td>\n",
       "      <td>эконом</td>\n",
       "      <td>100</td>\n",
       "      <td>5.0</td>\n",
       "    </tr>\n",
       "    <tr>\n",
       "      <td>4</td>\n",
       "      <td>Audi Q3</td>\n",
       "      <td>комфорт</td>\n",
       "      <td>30</td>\n",
       "      <td>7.1</td>\n",
       "    </tr>\n",
       "    <tr>\n",
       "      <td>5</td>\n",
       "      <td>Audi A3</td>\n",
       "      <td>комфорт</td>\n",
       "      <td>15</td>\n",
       "      <td>7.1</td>\n",
       "    </tr>\n",
       "    <tr>\n",
       "      <td>6</td>\n",
       "      <td>Genesis G70</td>\n",
       "      <td>комфорт</td>\n",
       "      <td>50</td>\n",
       "      <td>8.5</td>\n",
       "    </tr>\n",
       "    <tr>\n",
       "      <td>7</td>\n",
       "      <td>Mercedes E200</td>\n",
       "      <td>бизнес</td>\n",
       "      <td>90</td>\n",
       "      <td>12.9</td>\n",
       "    </tr>\n",
       "    <tr>\n",
       "      <td>8</td>\n",
       "      <td>BMW 520i</td>\n",
       "      <td>бизнес</td>\n",
       "      <td>60</td>\n",
       "      <td>12.9</td>\n",
       "    </tr>\n",
       "    <tr>\n",
       "      <td>9</td>\n",
       "      <td>Porsche Macan</td>\n",
       "      <td>огонь</td>\n",
       "      <td>5</td>\n",
       "      <td>35.0</td>\n",
       "    </tr>\n",
       "    <tr>\n",
       "      <td>10</td>\n",
       "      <td>Porsche Carrera</td>\n",
       "      <td>огонь</td>\n",
       "      <td>2</td>\n",
       "      <td>60.0</td>\n",
       "    </tr>\n",
       "  </tbody>\n",
       "</table>\n",
       "</div>"
      ],
      "text/plain": [
       "             Модель Категория  Количество  Стоимость за минуту\n",
       "0    Renault Kaptur    эконом         200                  5.0\n",
       "1           Kia Rio    эконом         300                  5.0\n",
       "2       Skoda Rapid    эконом         150                  5.0\n",
       "3           VW Polo    эконом         100                  5.0\n",
       "4           Audi Q3   комфорт          30                  7.1\n",
       "5           Audi A3   комфорт          15                  7.1\n",
       "6       Genesis G70   комфорт          50                  8.5\n",
       "7     Mercedes E200    бизнес          90                 12.9\n",
       "8          BMW 520i    бизнес          60                 12.9\n",
       "9     Porsche Macan     огонь           5                 35.0\n",
       "10  Porsche Carrera     огонь           2                 60.0"
      ]
     },
     "execution_count": 7,
     "metadata": {},
     "output_type": "execute_result"
    }
   ],
   "source": [
    "import pandas as pd\n",
    "df = pd.read_csv('/datasets/drive-data.csv')\n",
    "df"
   ]
  },
  {
   "cell_type": "markdown",
   "metadata": {
    "colab_type": "text",
    "deletable": false,
    "id": "TNCZkFTymIsU"
   },
   "source": [
    "Здесь мы специально не стали вызывать функцию `print(df)`. Без неё вывод таблицы получается красивее.\n",
    "\n",
    "Jupyter Notebook умеет показывать и очень большие таблицы. Посмотрите, что получается:"
   ]
  },
  {
   "cell_type": "code",
   "execution_count": 8,
   "metadata": {
    "colab": {},
    "colab_type": "code",
    "deletable": false,
    "id": "7A31h5LvtktL"
   },
   "outputs": [
    {
     "data": {
      "text/html": [
       "<div>\n",
       "<style scoped>\n",
       "    .dataframe tbody tr th:only-of-type {\n",
       "        vertical-align: middle;\n",
       "    }\n",
       "\n",
       "    .dataframe tbody tr th {\n",
       "        vertical-align: top;\n",
       "    }\n",
       "\n",
       "    .dataframe thead th {\n",
       "        text-align: right;\n",
       "    }\n",
       "</style>\n",
       "<table border=\"1\" class=\"dataframe\">\n",
       "  <thead>\n",
       "    <tr style=\"text-align: right;\">\n",
       "      <th></th>\n",
       "      <th>ID</th>\n",
       "      <th>total play</th>\n",
       "      <th>artist</th>\n",
       "      <th>genre</th>\n",
       "      <th>track</th>\n",
       "    </tr>\n",
       "  </thead>\n",
       "  <tbody>\n",
       "    <tr>\n",
       "      <td>0</td>\n",
       "      <td>BF6EA5AF</td>\n",
       "      <td>92.851388</td>\n",
       "      <td>Marina Rei</td>\n",
       "      <td>pop</td>\n",
       "      <td>Musica</td>\n",
       "    </tr>\n",
       "    <tr>\n",
       "      <td>1</td>\n",
       "      <td>FB1E568E</td>\n",
       "      <td>282.981000</td>\n",
       "      <td>Stive Morgan</td>\n",
       "      <td>ambient</td>\n",
       "      <td>Love Planet</td>\n",
       "    </tr>\n",
       "    <tr>\n",
       "      <td>2</td>\n",
       "      <td>FB1E568E</td>\n",
       "      <td>282.981000</td>\n",
       "      <td>Stive Morgan</td>\n",
       "      <td>ambient</td>\n",
       "      <td>Love Planet</td>\n",
       "    </tr>\n",
       "    <tr>\n",
       "      <td>3</td>\n",
       "      <td>EF15C7BA</td>\n",
       "      <td>8.966000</td>\n",
       "      <td>NaN</td>\n",
       "      <td>dance</td>\n",
       "      <td>Loving Every Minute</td>\n",
       "    </tr>\n",
       "    <tr>\n",
       "      <td>4</td>\n",
       "      <td>82F52E69</td>\n",
       "      <td>193.776327</td>\n",
       "      <td>Rixton</td>\n",
       "      <td>pop</td>\n",
       "      <td>Me And My Broken Heart</td>\n",
       "    </tr>\n",
       "    <tr>\n",
       "      <td>...</td>\n",
       "      <td>...</td>\n",
       "      <td>...</td>\n",
       "      <td>...</td>\n",
       "      <td>...</td>\n",
       "      <td>...</td>\n",
       "    </tr>\n",
       "    <tr>\n",
       "      <td>994</td>\n",
       "      <td>5C9F8629</td>\n",
       "      <td>63.000000</td>\n",
       "      <td>NaN</td>\n",
       "      <td>electronic</td>\n",
       "      <td>Feeling Liberty</td>\n",
       "    </tr>\n",
       "    <tr>\n",
       "      <td>995</td>\n",
       "      <td>DDF57113</td>\n",
       "      <td>255.582041</td>\n",
       "      <td>X-Tralounge</td>\n",
       "      <td>electronic</td>\n",
       "      <td>Lizard</td>\n",
       "    </tr>\n",
       "    <tr>\n",
       "      <td>996</td>\n",
       "      <td>A3308EC5</td>\n",
       "      <td>146.442188</td>\n",
       "      <td>Andy Hunt</td>\n",
       "      <td>hard</td>\n",
       "      <td>Reconciliation</td>\n",
       "    </tr>\n",
       "    <tr>\n",
       "      <td>997</td>\n",
       "      <td>F80EF638</td>\n",
       "      <td>438.883265</td>\n",
       "      <td>NaN</td>\n",
       "      <td>psy</td>\n",
       "      <td>Inside the Mind</td>\n",
       "    </tr>\n",
       "    <tr>\n",
       "      <td>998</td>\n",
       "      <td>97D3BB0F</td>\n",
       "      <td>0.100000</td>\n",
       "      <td>Duceman</td>\n",
       "      <td>hiphop</td>\n",
       "      <td>Under Pressure</td>\n",
       "    </tr>\n",
       "  </tbody>\n",
       "</table>\n",
       "<p>999 rows × 5 columns</p>\n",
       "</div>"
      ],
      "text/plain": [
       "           ID  total play        artist       genre                   track\n",
       "0    BF6EA5AF   92.851388    Marina Rei         pop                  Musica\n",
       "1    FB1E568E  282.981000  Stive Morgan     ambient             Love Planet\n",
       "2    FB1E568E  282.981000  Stive Morgan     ambient             Love Planet\n",
       "3    EF15C7BA    8.966000           NaN       dance     Loving Every Minute\n",
       "4    82F52E69  193.776327        Rixton         pop  Me And My Broken Heart\n",
       "..        ...         ...           ...         ...                     ...\n",
       "994  5C9F8629   63.000000           NaN  electronic         Feeling Liberty\n",
       "995  DDF57113  255.582041   X-Tralounge  electronic                  Lizard\n",
       "996  A3308EC5  146.442188     Andy Hunt        hard          Reconciliation\n",
       "997  F80EF638  438.883265           NaN         psy         Inside the Mind\n",
       "998  97D3BB0F    0.100000       Duceman      hiphop          Under Pressure\n",
       "\n",
       "[999 rows x 5 columns]"
      ]
     },
     "execution_count": 8,
     "metadata": {},
     "output_type": "execute_result"
    }
   ],
   "source": [
    "big_df = pd.read_csv('/datasets/music-data-2.csv')\n",
    "big_df"
   ]
  },
  {
   "cell_type": "markdown",
   "metadata": {
    "colab_type": "text",
    "deletable": false,
    "id": "l8o-ofLp2-St"
   },
   "source": [
    "Для оформления текста в Jupyter Notebook используется язык разметки [Markdown](https://ru.wikipedia.org/wiki/Markdown). К примеру, перечислить колонки таблицы можно так:\n",
    "- `Модель`\n",
    "- `Категория`\n",
    "- `Количество`\n",
    "- `Стоимость за минуту`"
   ]
  },
  {
   "cell_type": "markdown",
   "metadata": {
    "colab_type": "text",
    "deletable": false,
    "id": "gosx5TBQhpdB",
    "tags": [
     "4b32cb40-262d-449a-b610-655148ec7972"
    ]
   },
   "source": [
    "## Задание 4. Как аналитики используют Jupyter Notebook"
   ]
  },
  {
   "cell_type": "markdown",
   "metadata": {
    "colab_type": "text",
    "deletable": false,
    "id": "IYhwEdxjp4G6"
   },
   "source": [
    "Завершив проект, вы сможете сохранить тетрадку в файл формата *.ipynb*. Затем открыть его на другом компьютере в Jupyter, поделиться с коллегами, поместить в портфолио. Чтобы сохранить тетрадку, нажмите **( File / Download as... )**.\n",
    "\n",
    "Jupyter так популярен, потому что в нём удобно просматривать код и результаты его исполнения, а также демонстрировать работу коллегам."
   ]
  }
 ],
 "metadata": {
  "kernelspec": {
   "display_name": "Python 3",
   "language": "python",
   "name": "python3"
  },
  "language_info": {
   "codemirror_mode": {
    "name": "ipython",
    "version": 3
   },
   "file_extension": ".py",
   "mimetype": "text/x-python",
   "name": "python",
   "nbconvert_exporter": "python",
   "pygments_lexer": "ipython3",
   "version": "3.7.6"
  }
 },
 "nbformat": 4,
 "nbformat_minor": 1
}
