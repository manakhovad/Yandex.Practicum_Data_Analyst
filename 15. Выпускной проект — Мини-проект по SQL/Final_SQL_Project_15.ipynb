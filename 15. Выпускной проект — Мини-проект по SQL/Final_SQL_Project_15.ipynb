{
 "cells": [
  {
   "cell_type": "markdown",
   "metadata": {},
   "source": [
    "<div class = \"alert alert-info\" >\n",
    "<b>Приветствие</b>\n",
    "\n",
    "Приветствую тебя, мой ревьюер! Я очень рада знакомству и совместной работе!\n",
    "\n",
    "Меня зовут Дарья. Надеюсь, ты не против, если мы будем общаться на \"ты\"? Если тебя это смущает - дай знать!\n",
    "\n",
    "Свои комментарии на замечания ревьюеров я, обычно, оставляю в синих блоках (таких, как этот). Если для тебя будет удобнее, чтобы я использовала другой цвет, то тоже - дай знать!\n",
    "\n",
    "Буду очень признательна за комментарии к ошибкам, содержащие какое-то пояснение о том, как ошибки можно устранить.\n",
    "    \n",
    "Спасибо за твоё сотрудничество и комментарии - это очень ценно для меня!\n",
    "    \n",
    "Последнее задание на финальном спринте! Ура!\n",
    "\n",
    "</div>"
   ]
  },
  {
   "cell_type": "markdown",
   "metadata": {},
   "source": [
    "\n",
    "<div style=\"border:solid black 2px; padding: 20px\">\n",
    "<b>Дарья, привет!</b>\n",
    "\n",
    "Меня зовут Полина Бережная, и я буду делать ревью твоего проекта. Давай будем общаться на «ты». \n",
    "\n",
    "Мне было очень приятно проверять твой проект, так как чувствуется твое старание и желание сделать задание на достойном уровне. Однако есть некоторые аспекты, которые требуют твоего внимания и доработки. \n",
    "    \n",
    "В тетрадке ты можешь встретить 4 вида моих комментариев:\n",
    "- <div class=\"alert alert-danger\">\n",
    "  \n",
    "  **Комментарий ревьюера**\n",
    "    \n",
    "    Такой нюанс требует обязательной доработки, иначе проект не будет принят.\n",
    "  </div>\n",
    "    \n",
    "    \n",
    "- <div class=\"alert alert-warning\">\n",
    "  \n",
    "    **Комментарий ревьюера**\n",
    "    \n",
    "    Так выделены не обязательные к доработке моменты. Mожешь учесть их при редактировании проекта и выполнении будущих заданий. На твое усмотрение.\n",
    "  </div>\n",
    "    \n",
    "    \n",
    "- <div class=\"alert alert-success\">\n",
    "    \n",
    "  **Комментарий ревьюера** \n",
    "    \n",
    "    Так отмечены удачные решения и подходы, на которые стоит опираться в будущих проектах.\n",
    "  </div>\n",
    "    \n",
    "    \n",
    "- <div style=\"border:solid black 2px; padding: 20px\">\n",
    "  \n",
    "    **Чек-лист доработок**\n",
    "    \n",
    "    Такой комментарий будет находиться в конце тетрадки. В нем будут еще раз указаны нюансы, требующие обязательной корректировки.\n",
    "  </div>\n",
    "\n",
    "Предлагаю работать над проектом в форме диалога: если ты **что-то меняешь** в работе по моим рекомендациям — **пиши об этом** и помечай комментарий каким-то заметным цветом. Пожалуйста, **не перемещай, не изменяй и не удаляй мои комментарии**. Такой формат работы поможет выполнить повторную проверку твоего проекта оперативнее.\n",
    "    \n",
    "Не переживай, если что-то не получилось сделать идеально с первого раза. Основная цель нашей команды — не найти ошибки, а поделиться своим опытом и помочь тебе стать профи в аналитике 🙂\n",
    "    \n",
    "Жду твой проект на повторное ревью, ты уже почти на финише!\n",
    "\n",
    "</div>"
   ]
  },
  {
   "cell_type": "markdown",
   "metadata": {},
   "source": [
    "<div class = \"alert alert-info\" >\n",
    "<b>Комментарий студента_v1:</b> Полина, очень рада знакомству! Спасибо большое за твоё ревью! Действительно, в одном месте я была невнимательна. Поправила твоё замечание. Комментарии выделены в таких же синих блоках.\n",
    "\n",
    "</div>"
   ]
  },
  {
   "cell_type": "markdown",
   "metadata": {},
   "source": [
    "# Проект по SQL"
   ]
  },
  {
   "cell_type": "markdown",
   "metadata": {},
   "source": [
    "**Заказчик:**\n",
    "Крупный сервис для чтения книг по подписке.\n",
    "\n",
    "**Цель исследования:**\n",
    "\n",
    "Проанализировать базу данных, содержащую информацию о книгах, издательствах, авторах, а также пользовательские обзоры книг для формулировки ценностного предложения для нового продукта.\n",
    "\n",
    "**Исходные данные:**\n",
    "\n",
    "* таблица с данными о книгах;\n",
    "* таблица с данными об авторах;\n",
    "* таблица с данными об издательствах;\n",
    "* таблица с данными о пользовательских оценках книг;\n",
    "* таблица с данными о пользовательских обзорах на книги.\n",
    "\n",
    "**Задачи:**\n",
    "\n",
    "* посчитать, сколько книг вышло после 1 января 2000 года;\n",
    "* посчитать количество обзоров и среднюю оценку для каждой книги;\n",
    "* определить издательство, которое выпустило наибольшее число книг толще 50 страниц (так мы исключим из анализа брошюры);\n",
    "* определить автора с самой высокой средней оценкой книг (только для книг с 50 и более оценками);\n",
    "* посчитать среднее количество обзоров от пользователей, которые поставили больше 50 оценок."
   ]
  },
  {
   "cell_type": "markdown",
   "metadata": {},
   "source": [
    "## Оглавление <a id='Оглавление'></a>\n",
    "\n",
    "### Подготовка данных к анализу\n",
    "* [Загрузка библиотек](#1)\n",
    "* [Подключение к базе](#2)\n",
    "* [Загрузка и подготовка данных к анализу](#3)\n",
    "\n",
    "### Исследование данных\n",
    "* [Сколько книг вышло после 1 января 2000 года](#4)\n",
    "* [Количество обзоров и средняя оценка для каждой книги](#5)\n",
    "* [Определение издательства, которое выпустило наибольшее число книг толще 50 страниц](#6)\n",
    "* [Определение автора с самой высокой средней оценкой книг (только для книг с 50 и более оценками)](#7)\n",
    "* [Среднее количество обзоров от пользователей, которые поставили больше 50 оценок](#8)\n",
    "\n",
    "### Общий вывод\n",
    "* [Вывод из проведённого иследования](#9)"
   ]
  },
  {
   "cell_type": "markdown",
   "metadata": {},
   "source": [
    "## Подготовка данных к анализу\n",
    "<a id='1'></a>\n",
    "### Загрузка библиотек \n",
    "[*Назад к оглавлению*](##Оглавление)"
   ]
  },
  {
   "cell_type": "markdown",
   "metadata": {},
   "source": [
    "Импортируем все необходимые для решения поставленных задач библиотеки."
   ]
  },
  {
   "cell_type": "code",
   "execution_count": 1,
   "metadata": {},
   "outputs": [],
   "source": [
    "import pandas as pd \n",
    "from sqlalchemy import create_engine"
   ]
  },
  {
   "cell_type": "markdown",
   "metadata": {},
   "source": [
    "<a id='2'></a>\n",
    "### Подключение к базе\n",
    "[*Назад к оглавлению*](##Оглавление)"
   ]
  },
  {
   "cell_type": "markdown",
   "metadata": {},
   "source": [
    "Установим параметры подключения и сохраним коннектор."
   ]
  },
  {
   "cell_type": "code",
   "execution_count": 2,
   "metadata": {},
   "outputs": [],
   "source": [
    "# устанавливаем параметры\n",
    "db_config = {'user': 'praktikum_student', # имя пользователя\n",
    "             'pwd': 'Sdf4$2;d-d30pp', # пароль\n",
    "             'host': 'rc1b-wcoijxj3yxfsf3fs.mdb.yandexcloud.net', \n",
    "             'port': 6432, # порт подключения\n",
    "             'db': 'data-analyst-final-project-db'} # название базы данных\n",
    "\n",
    "connection_string = 'postgresql://{}:{}@{}:{}/{}'.format(db_config['user'], \n",
    "                                                         db_config['pwd'], \n",
    "                                                         db_config['host'], \n",
    "                                                         db_config['port'], \n",
    "                                                         db_config['db'])\n",
    "\n",
    "# сохраняем коннектор\n",
    "engine = create_engine(connection_string, connect_args={'sslmode':'require'})"
   ]
  },
  {
   "cell_type": "markdown",
   "metadata": {},
   "source": [
    "<a id='3'></a>\n",
    "### Загрузка и подготовка данных к анализу\n",
    "[*Назад к оглавлению*](##Оглавление)"
   ]
  },
  {
   "cell_type": "markdown",
   "metadata": {},
   "source": [
    "Выполним sql-запрос ко всем таблицам и ознакомимся с данными."
   ]
  },
  {
   "cell_type": "code",
   "execution_count": 3,
   "metadata": {
    "scrolled": true
   },
   "outputs": [
    {
     "data": {
      "text/html": [
       "<div>\n",
       "<style scoped>\n",
       "    .dataframe tbody tr th:only-of-type {\n",
       "        vertical-align: middle;\n",
       "    }\n",
       "\n",
       "    .dataframe tbody tr th {\n",
       "        vertical-align: top;\n",
       "    }\n",
       "\n",
       "    .dataframe thead th {\n",
       "        text-align: right;\n",
       "    }\n",
       "</style>\n",
       "<table border=\"1\" class=\"dataframe\">\n",
       "  <thead>\n",
       "    <tr style=\"text-align: right;\">\n",
       "      <th></th>\n",
       "      <th>book_id</th>\n",
       "      <th>author_id</th>\n",
       "      <th>title</th>\n",
       "      <th>num_pages</th>\n",
       "      <th>publication_date</th>\n",
       "      <th>publisher_id</th>\n",
       "    </tr>\n",
       "  </thead>\n",
       "  <tbody>\n",
       "    <tr>\n",
       "      <th>0</th>\n",
       "      <td>1</td>\n",
       "      <td>546</td>\n",
       "      <td>'Salem's Lot</td>\n",
       "      <td>594</td>\n",
       "      <td>2005-11-01</td>\n",
       "      <td>93</td>\n",
       "    </tr>\n",
       "    <tr>\n",
       "      <th>1</th>\n",
       "      <td>2</td>\n",
       "      <td>465</td>\n",
       "      <td>1 000 Places to See Before You Die</td>\n",
       "      <td>992</td>\n",
       "      <td>2003-05-22</td>\n",
       "      <td>336</td>\n",
       "    </tr>\n",
       "    <tr>\n",
       "      <th>2</th>\n",
       "      <td>3</td>\n",
       "      <td>407</td>\n",
       "      <td>13 Little Blue Envelopes (Little Blue Envelope...</td>\n",
       "      <td>322</td>\n",
       "      <td>2010-12-21</td>\n",
       "      <td>135</td>\n",
       "    </tr>\n",
       "    <tr>\n",
       "      <th>3</th>\n",
       "      <td>4</td>\n",
       "      <td>82</td>\n",
       "      <td>1491: New Revelations of the Americas Before C...</td>\n",
       "      <td>541</td>\n",
       "      <td>2006-10-10</td>\n",
       "      <td>309</td>\n",
       "    </tr>\n",
       "    <tr>\n",
       "      <th>4</th>\n",
       "      <td>5</td>\n",
       "      <td>125</td>\n",
       "      <td>1776</td>\n",
       "      <td>386</td>\n",
       "      <td>2006-07-04</td>\n",
       "      <td>268</td>\n",
       "    </tr>\n",
       "  </tbody>\n",
       "</table>\n",
       "</div>"
      ],
      "text/plain": [
       "   book_id  author_id                                              title  \\\n",
       "0        1        546                                       'Salem's Lot   \n",
       "1        2        465                 1 000 Places to See Before You Die   \n",
       "2        3        407  13 Little Blue Envelopes (Little Blue Envelope...   \n",
       "3        4         82  1491: New Revelations of the Americas Before C...   \n",
       "4        5        125                                               1776   \n",
       "\n",
       "   num_pages publication_date  publisher_id  \n",
       "0        594       2005-11-01            93  \n",
       "1        992       2003-05-22           336  \n",
       "2        322       2010-12-21           135  \n",
       "3        541       2006-10-10           309  \n",
       "4        386       2006-07-04           268  "
      ]
     },
     "metadata": {},
     "output_type": "display_data"
    },
    {
     "name": "stdout",
     "output_type": "stream",
     "text": [
      "<class 'pandas.core.frame.DataFrame'>\n",
      "RangeIndex: 1000 entries, 0 to 999\n",
      "Data columns (total 6 columns):\n",
      " #   Column            Non-Null Count  Dtype \n",
      "---  ------            --------------  ----- \n",
      " 0   book_id           1000 non-null   int64 \n",
      " 1   author_id         1000 non-null   int64 \n",
      " 2   title             1000 non-null   object\n",
      " 3   num_pages         1000 non-null   int64 \n",
      " 4   publication_date  1000 non-null   object\n",
      " 5   publisher_id      1000 non-null   int64 \n",
      "dtypes: int64(4), object(2)\n",
      "memory usage: 47.0+ KB\n"
     ]
    },
    {
     "data": {
      "text/plain": [
       "None"
      ]
     },
     "metadata": {},
     "output_type": "display_data"
    },
    {
     "data": {
      "text/html": [
       "<div>\n",
       "<style scoped>\n",
       "    .dataframe tbody tr th:only-of-type {\n",
       "        vertical-align: middle;\n",
       "    }\n",
       "\n",
       "    .dataframe tbody tr th {\n",
       "        vertical-align: top;\n",
       "    }\n",
       "\n",
       "    .dataframe thead th {\n",
       "        text-align: right;\n",
       "    }\n",
       "</style>\n",
       "<table border=\"1\" class=\"dataframe\">\n",
       "  <thead>\n",
       "    <tr style=\"text-align: right;\">\n",
       "      <th></th>\n",
       "      <th>author_id</th>\n",
       "      <th>author</th>\n",
       "    </tr>\n",
       "  </thead>\n",
       "  <tbody>\n",
       "    <tr>\n",
       "      <th>0</th>\n",
       "      <td>1</td>\n",
       "      <td>A.S. Byatt</td>\n",
       "    </tr>\n",
       "    <tr>\n",
       "      <th>1</th>\n",
       "      <td>2</td>\n",
       "      <td>Aesop/Laura Harris/Laura Gibbs</td>\n",
       "    </tr>\n",
       "    <tr>\n",
       "      <th>2</th>\n",
       "      <td>3</td>\n",
       "      <td>Agatha Christie</td>\n",
       "    </tr>\n",
       "    <tr>\n",
       "      <th>3</th>\n",
       "      <td>4</td>\n",
       "      <td>Alan Brennert</td>\n",
       "    </tr>\n",
       "    <tr>\n",
       "      <th>4</th>\n",
       "      <td>5</td>\n",
       "      <td>Alan Moore/David   Lloyd</td>\n",
       "    </tr>\n",
       "  </tbody>\n",
       "</table>\n",
       "</div>"
      ],
      "text/plain": [
       "   author_id                          author\n",
       "0          1                      A.S. Byatt\n",
       "1          2  Aesop/Laura Harris/Laura Gibbs\n",
       "2          3                 Agatha Christie\n",
       "3          4                   Alan Brennert\n",
       "4          5        Alan Moore/David   Lloyd"
      ]
     },
     "metadata": {},
     "output_type": "display_data"
    },
    {
     "name": "stdout",
     "output_type": "stream",
     "text": [
      "<class 'pandas.core.frame.DataFrame'>\n",
      "RangeIndex: 636 entries, 0 to 635\n",
      "Data columns (total 2 columns):\n",
      " #   Column     Non-Null Count  Dtype \n",
      "---  ------     --------------  ----- \n",
      " 0   author_id  636 non-null    int64 \n",
      " 1   author     636 non-null    object\n",
      "dtypes: int64(1), object(1)\n",
      "memory usage: 10.1+ KB\n"
     ]
    },
    {
     "data": {
      "text/plain": [
       "None"
      ]
     },
     "metadata": {},
     "output_type": "display_data"
    },
    {
     "data": {
      "text/html": [
       "<div>\n",
       "<style scoped>\n",
       "    .dataframe tbody tr th:only-of-type {\n",
       "        vertical-align: middle;\n",
       "    }\n",
       "\n",
       "    .dataframe tbody tr th {\n",
       "        vertical-align: top;\n",
       "    }\n",
       "\n",
       "    .dataframe thead th {\n",
       "        text-align: right;\n",
       "    }\n",
       "</style>\n",
       "<table border=\"1\" class=\"dataframe\">\n",
       "  <thead>\n",
       "    <tr style=\"text-align: right;\">\n",
       "      <th></th>\n",
       "      <th>publisher_id</th>\n",
       "      <th>publisher</th>\n",
       "    </tr>\n",
       "  </thead>\n",
       "  <tbody>\n",
       "    <tr>\n",
       "      <th>0</th>\n",
       "      <td>1</td>\n",
       "      <td>Ace</td>\n",
       "    </tr>\n",
       "    <tr>\n",
       "      <th>1</th>\n",
       "      <td>2</td>\n",
       "      <td>Ace Book</td>\n",
       "    </tr>\n",
       "    <tr>\n",
       "      <th>2</th>\n",
       "      <td>3</td>\n",
       "      <td>Ace Books</td>\n",
       "    </tr>\n",
       "    <tr>\n",
       "      <th>3</th>\n",
       "      <td>4</td>\n",
       "      <td>Ace Hardcover</td>\n",
       "    </tr>\n",
       "    <tr>\n",
       "      <th>4</th>\n",
       "      <td>5</td>\n",
       "      <td>Addison Wesley Publishing Company</td>\n",
       "    </tr>\n",
       "  </tbody>\n",
       "</table>\n",
       "</div>"
      ],
      "text/plain": [
       "   publisher_id                          publisher\n",
       "0             1                                Ace\n",
       "1             2                           Ace Book\n",
       "2             3                          Ace Books\n",
       "3             4                      Ace Hardcover\n",
       "4             5  Addison Wesley Publishing Company"
      ]
     },
     "metadata": {},
     "output_type": "display_data"
    },
    {
     "name": "stdout",
     "output_type": "stream",
     "text": [
      "<class 'pandas.core.frame.DataFrame'>\n",
      "RangeIndex: 340 entries, 0 to 339\n",
      "Data columns (total 2 columns):\n",
      " #   Column        Non-Null Count  Dtype \n",
      "---  ------        --------------  ----- \n",
      " 0   publisher_id  340 non-null    int64 \n",
      " 1   publisher     340 non-null    object\n",
      "dtypes: int64(1), object(1)\n",
      "memory usage: 5.4+ KB\n"
     ]
    },
    {
     "data": {
      "text/plain": [
       "None"
      ]
     },
     "metadata": {},
     "output_type": "display_data"
    },
    {
     "data": {
      "text/html": [
       "<div>\n",
       "<style scoped>\n",
       "    .dataframe tbody tr th:only-of-type {\n",
       "        vertical-align: middle;\n",
       "    }\n",
       "\n",
       "    .dataframe tbody tr th {\n",
       "        vertical-align: top;\n",
       "    }\n",
       "\n",
       "    .dataframe thead th {\n",
       "        text-align: right;\n",
       "    }\n",
       "</style>\n",
       "<table border=\"1\" class=\"dataframe\">\n",
       "  <thead>\n",
       "    <tr style=\"text-align: right;\">\n",
       "      <th></th>\n",
       "      <th>rating_id</th>\n",
       "      <th>book_id</th>\n",
       "      <th>username</th>\n",
       "      <th>rating</th>\n",
       "    </tr>\n",
       "  </thead>\n",
       "  <tbody>\n",
       "    <tr>\n",
       "      <th>0</th>\n",
       "      <td>1</td>\n",
       "      <td>1</td>\n",
       "      <td>ryanfranco</td>\n",
       "      <td>4</td>\n",
       "    </tr>\n",
       "    <tr>\n",
       "      <th>1</th>\n",
       "      <td>2</td>\n",
       "      <td>1</td>\n",
       "      <td>grantpatricia</td>\n",
       "      <td>2</td>\n",
       "    </tr>\n",
       "    <tr>\n",
       "      <th>2</th>\n",
       "      <td>3</td>\n",
       "      <td>1</td>\n",
       "      <td>brandtandrea</td>\n",
       "      <td>5</td>\n",
       "    </tr>\n",
       "    <tr>\n",
       "      <th>3</th>\n",
       "      <td>4</td>\n",
       "      <td>2</td>\n",
       "      <td>lorichen</td>\n",
       "      <td>3</td>\n",
       "    </tr>\n",
       "    <tr>\n",
       "      <th>4</th>\n",
       "      <td>5</td>\n",
       "      <td>2</td>\n",
       "      <td>mariokeller</td>\n",
       "      <td>2</td>\n",
       "    </tr>\n",
       "  </tbody>\n",
       "</table>\n",
       "</div>"
      ],
      "text/plain": [
       "   rating_id  book_id       username  rating\n",
       "0          1        1     ryanfranco       4\n",
       "1          2        1  grantpatricia       2\n",
       "2          3        1   brandtandrea       5\n",
       "3          4        2       lorichen       3\n",
       "4          5        2    mariokeller       2"
      ]
     },
     "metadata": {},
     "output_type": "display_data"
    },
    {
     "name": "stdout",
     "output_type": "stream",
     "text": [
      "<class 'pandas.core.frame.DataFrame'>\n",
      "RangeIndex: 6456 entries, 0 to 6455\n",
      "Data columns (total 4 columns):\n",
      " #   Column     Non-Null Count  Dtype \n",
      "---  ------     --------------  ----- \n",
      " 0   rating_id  6456 non-null   int64 \n",
      " 1   book_id    6456 non-null   int64 \n",
      " 2   username   6456 non-null   object\n",
      " 3   rating     6456 non-null   int64 \n",
      "dtypes: int64(3), object(1)\n",
      "memory usage: 201.9+ KB\n"
     ]
    },
    {
     "data": {
      "text/plain": [
       "None"
      ]
     },
     "metadata": {},
     "output_type": "display_data"
    },
    {
     "data": {
      "text/html": [
       "<div>\n",
       "<style scoped>\n",
       "    .dataframe tbody tr th:only-of-type {\n",
       "        vertical-align: middle;\n",
       "    }\n",
       "\n",
       "    .dataframe tbody tr th {\n",
       "        vertical-align: top;\n",
       "    }\n",
       "\n",
       "    .dataframe thead th {\n",
       "        text-align: right;\n",
       "    }\n",
       "</style>\n",
       "<table border=\"1\" class=\"dataframe\">\n",
       "  <thead>\n",
       "    <tr style=\"text-align: right;\">\n",
       "      <th></th>\n",
       "      <th>review_id</th>\n",
       "      <th>book_id</th>\n",
       "      <th>username</th>\n",
       "      <th>text</th>\n",
       "    </tr>\n",
       "  </thead>\n",
       "  <tbody>\n",
       "    <tr>\n",
       "      <th>0</th>\n",
       "      <td>1</td>\n",
       "      <td>1</td>\n",
       "      <td>brandtandrea</td>\n",
       "      <td>Mention society tell send professor analysis. ...</td>\n",
       "    </tr>\n",
       "    <tr>\n",
       "      <th>1</th>\n",
       "      <td>2</td>\n",
       "      <td>1</td>\n",
       "      <td>ryanfranco</td>\n",
       "      <td>Foot glass pretty audience hit themselves. Amo...</td>\n",
       "    </tr>\n",
       "    <tr>\n",
       "      <th>2</th>\n",
       "      <td>3</td>\n",
       "      <td>2</td>\n",
       "      <td>lorichen</td>\n",
       "      <td>Listen treat keep worry. Miss husband tax but ...</td>\n",
       "    </tr>\n",
       "    <tr>\n",
       "      <th>3</th>\n",
       "      <td>4</td>\n",
       "      <td>3</td>\n",
       "      <td>johnsonamanda</td>\n",
       "      <td>Finally month interesting blue could nature cu...</td>\n",
       "    </tr>\n",
       "    <tr>\n",
       "      <th>4</th>\n",
       "      <td>5</td>\n",
       "      <td>3</td>\n",
       "      <td>scotttamara</td>\n",
       "      <td>Nation purpose heavy give wait song will. List...</td>\n",
       "    </tr>\n",
       "  </tbody>\n",
       "</table>\n",
       "</div>"
      ],
      "text/plain": [
       "   review_id  book_id       username  \\\n",
       "0          1        1   brandtandrea   \n",
       "1          2        1     ryanfranco   \n",
       "2          3        2       lorichen   \n",
       "3          4        3  johnsonamanda   \n",
       "4          5        3    scotttamara   \n",
       "\n",
       "                                                text  \n",
       "0  Mention society tell send professor analysis. ...  \n",
       "1  Foot glass pretty audience hit themselves. Amo...  \n",
       "2  Listen treat keep worry. Miss husband tax but ...  \n",
       "3  Finally month interesting blue could nature cu...  \n",
       "4  Nation purpose heavy give wait song will. List...  "
      ]
     },
     "metadata": {},
     "output_type": "display_data"
    },
    {
     "name": "stdout",
     "output_type": "stream",
     "text": [
      "<class 'pandas.core.frame.DataFrame'>\n",
      "RangeIndex: 2793 entries, 0 to 2792\n",
      "Data columns (total 4 columns):\n",
      " #   Column     Non-Null Count  Dtype \n",
      "---  ------     --------------  ----- \n",
      " 0   review_id  2793 non-null   int64 \n",
      " 1   book_id    2793 non-null   int64 \n",
      " 2   username   2793 non-null   object\n",
      " 3   text       2793 non-null   object\n",
      "dtypes: int64(2), object(2)\n",
      "memory usage: 87.4+ KB\n"
     ]
    },
    {
     "data": {
      "text/plain": [
       "None"
      ]
     },
     "metadata": {},
     "output_type": "display_data"
    }
   ],
   "source": [
    "def select(sql):\n",
    "    return pd.io.sql.read_sql(sql, con = engine)\n",
    "\n",
    "# таблица books\n",
    "query = '''\n",
    "SELECT * FROM books\n",
    "'''\n",
    "books = pd.io.sql.read_sql(query, con = engine)\n",
    "display(books.head())\n",
    "display(books.info())\n",
    "\n",
    "# таблица authors\n",
    "query_1 = '''\n",
    "SELECT * FROM authors\n",
    "'''\n",
    "authors = pd.io.sql.read_sql(query_1, con = engine)\n",
    "display(authors.head())\n",
    "display(authors.info())\n",
    "\n",
    "# таблица publishers\n",
    "query_2 = '''\n",
    "SELECT * FROM publishers\n",
    "'''\n",
    "publishers = pd.io.sql.read_sql(query_2, con = engine)\n",
    "display(publishers.head())\n",
    "display(publishers.info())\n",
    "\n",
    "# таблица ratings\n",
    "query_3 = '''\n",
    "SELECT * FROM ratings\n",
    "'''\n",
    "ratings = pd.io.sql.read_sql(query_3, con = engine)\n",
    "display(ratings.head())\n",
    "display(ratings.info())\n",
    "\n",
    "# таблица reviews\n",
    "query_4 = '''\n",
    "SELECT * FROM reviews\n",
    "'''\n",
    "reviews = pd.io.sql.read_sql(query_4, con = engine)\n",
    "display(reviews.head())\n",
    "display(reviews.info())"
   ]
  },
  {
   "cell_type": "markdown",
   "metadata": {},
   "source": [
    "Таблица *books* содержит данные о книгах:\n",
    "* `book_id` — идентификатор книги (тип данных - *int64*);\n",
    "* `author_id` — идентификатор автора (тип данных - *int64*);\n",
    "* `title` — название книги (тип данных - *object*);\n",
    "* `num_pages` — количество страниц (тип данных - *int64*);\n",
    "* `publication_date` — дата публикации книги (тип данных - *object*);\n",
    "* `publisher_id` — идентификатор издателя (тип данных - *int64*).\n",
    "\n",
    "Таблица *authors* содержит данные об авторах:\n",
    "* `author_id` — идентификатор автора (тип данных - *int64*);\n",
    "* `author` — имя автора (тип данных - *object*).\n",
    "\n",
    "Таблица *publishers* содержит данные об издательствах:\n",
    "* `publisher_id` — идентификатор издательства (тип данных - *int64*);\n",
    "* `publisher` — название издательства (тип данных - *object*);\n",
    "\n",
    "Таблица *ratings* содержит данные о пользовательских оценках книг:\n",
    "* `rating_id` — идентификатор оценки (тип данных - *int64*);\n",
    "* `book_id` — идентификатор книги (тип данных - *int64*);\n",
    "* `username` — имя пользователя, оставившего оценку (тип данных - *object*);\n",
    "* `rating` — оценка книги (тип данных - *int64*).\n",
    "\n",
    "Таблица *reviews* содержит данные о пользовательских обзорах на книги:\n",
    "* `review_id` — идентификатор обзора (тип данных - *int64*);\n",
    "* `book_id` — идентификатор книги (тип данных - *int64*);\n",
    "* `username` — имя пользователя, написавшего обзор (тип данных - *object*);\n",
    "* `text` — текст обзора (тип данных - *object*)."
   ]
  },
  {
   "cell_type": "markdown",
   "metadata": {},
   "source": [
    "<div class=\"alert alert-success\">\n",
    "\n",
    "**Комментарий ревьюера**\n",
    "     \n",
    "Здорово, что данные были изучены перед анализом 👍🏻"
   ]
  },
  {
   "cell_type": "markdown",
   "metadata": {},
   "source": [
    "## Исследование данных\n",
    "<a id='4'></a>\n",
    "### Сколько книг вышло после 1 января 2000 года\n",
    "[*Назад к оглавлению*](##Оглавление)"
   ]
  },
  {
   "cell_type": "code",
   "execution_count": 4,
   "metadata": {},
   "outputs": [
    {
     "data": {
      "text/html": [
       "<div>\n",
       "<style scoped>\n",
       "    .dataframe tbody tr th:only-of-type {\n",
       "        vertical-align: middle;\n",
       "    }\n",
       "\n",
       "    .dataframe tbody tr th {\n",
       "        vertical-align: top;\n",
       "    }\n",
       "\n",
       "    .dataframe thead th {\n",
       "        text-align: right;\n",
       "    }\n",
       "</style>\n",
       "<table border=\"1\" class=\"dataframe\">\n",
       "  <thead>\n",
       "    <tr style=\"text-align: right;\">\n",
       "      <th></th>\n",
       "      <th>books_count</th>\n",
       "    </tr>\n",
       "  </thead>\n",
       "  <tbody>\n",
       "    <tr>\n",
       "      <th>0</th>\n",
       "      <td>821</td>\n",
       "    </tr>\n",
       "  </tbody>\n",
       "</table>\n",
       "</div>"
      ],
      "text/plain": [
       "   books_count\n",
       "0          821"
      ]
     },
     "execution_count": 4,
     "metadata": {},
     "output_type": "execute_result"
    }
   ],
   "source": [
    "books_count = '''\n",
    "SELECT COUNT(title) AS books_count FROM books\n",
    "WHERE publication_date >= '2000-01-01'\n",
    "'''\n",
    "pd.io.sql.read_sql(books_count, con = engine)"
   ]
  },
  {
   "cell_type": "markdown",
   "metadata": {},
   "source": [
    "После 1 января 2000 года было выпущено 821 книг."
   ]
  },
  {
   "cell_type": "markdown",
   "metadata": {},
   "source": [
    "<div class=\"alert alert-success\">\n",
    "\n",
    "**Комментарий ревьюера**\n",
    "    \n",
    "Запрос написан верно 👍🏻\n",
    "    \n",
    "P.S. Вообще авторы имели в виду период с 01.01.2000 включительно, но это не очевидно из формулировки задания. "
   ]
  },
  {
   "cell_type": "markdown",
   "metadata": {},
   "source": [
    "<div class = \"alert alert-info\" >\n",
    "<b>Комментарий студента_v1:</b> Принято и поправлено. На две книги больше.\n",
    "\n",
    "</div>"
   ]
  },
  {
   "cell_type": "markdown",
   "metadata": {},
   "source": [
    "<a id='5'></a>\n",
    "### Количество обзоров и средняя оценка для каждой книги\n",
    "[*Назад к оглавлению*](##Оглавление)"
   ]
  },
  {
   "cell_type": "code",
   "execution_count": 5,
   "metadata": {},
   "outputs": [
    {
     "data": {
      "text/html": [
       "<div>\n",
       "<style scoped>\n",
       "    .dataframe tbody tr th:only-of-type {\n",
       "        vertical-align: middle;\n",
       "    }\n",
       "\n",
       "    .dataframe tbody tr th {\n",
       "        vertical-align: top;\n",
       "    }\n",
       "\n",
       "    .dataframe thead th {\n",
       "        text-align: right;\n",
       "    }\n",
       "</style>\n",
       "<table border=\"1\" class=\"dataframe\">\n",
       "  <thead>\n",
       "    <tr style=\"text-align: right;\">\n",
       "      <th></th>\n",
       "      <th>title</th>\n",
       "      <th>id</th>\n",
       "      <th>avg_rating</th>\n",
       "      <th>cnt_reviews</th>\n",
       "    </tr>\n",
       "  </thead>\n",
       "  <tbody>\n",
       "    <tr>\n",
       "      <th>0</th>\n",
       "      <td>Twilight (Twilight  #1)</td>\n",
       "      <td>948</td>\n",
       "      <td>3.662500</td>\n",
       "      <td>7</td>\n",
       "    </tr>\n",
       "    <tr>\n",
       "      <th>1</th>\n",
       "      <td>Water for Elephants</td>\n",
       "      <td>963</td>\n",
       "      <td>3.977273</td>\n",
       "      <td>6</td>\n",
       "    </tr>\n",
       "    <tr>\n",
       "      <th>2</th>\n",
       "      <td>The Glass Castle</td>\n",
       "      <td>734</td>\n",
       "      <td>4.206897</td>\n",
       "      <td>6</td>\n",
       "    </tr>\n",
       "    <tr>\n",
       "      <th>3</th>\n",
       "      <td>Harry Potter and the Prisoner of Azkaban (Harr...</td>\n",
       "      <td>302</td>\n",
       "      <td>4.414634</td>\n",
       "      <td>6</td>\n",
       "    </tr>\n",
       "    <tr>\n",
       "      <th>4</th>\n",
       "      <td>The Curious Incident of the Dog in the Night-Time</td>\n",
       "      <td>695</td>\n",
       "      <td>4.081081</td>\n",
       "      <td>6</td>\n",
       "    </tr>\n",
       "    <tr>\n",
       "      <th>5</th>\n",
       "      <td>The Da Vinci Code (Robert Langdon  #2)</td>\n",
       "      <td>696</td>\n",
       "      <td>3.830508</td>\n",
       "      <td>6</td>\n",
       "    </tr>\n",
       "    <tr>\n",
       "      <th>6</th>\n",
       "      <td>The Alchemist</td>\n",
       "      <td>627</td>\n",
       "      <td>3.789474</td>\n",
       "      <td>6</td>\n",
       "    </tr>\n",
       "    <tr>\n",
       "      <th>7</th>\n",
       "      <td>The Hobbit  or There and Back Again</td>\n",
       "      <td>750</td>\n",
       "      <td>4.125000</td>\n",
       "      <td>6</td>\n",
       "    </tr>\n",
       "    <tr>\n",
       "      <th>8</th>\n",
       "      <td>The Book Thief</td>\n",
       "      <td>656</td>\n",
       "      <td>4.264151</td>\n",
       "      <td>6</td>\n",
       "    </tr>\n",
       "    <tr>\n",
       "      <th>9</th>\n",
       "      <td>The Lightning Thief (Percy Jackson and the Oly...</td>\n",
       "      <td>779</td>\n",
       "      <td>4.080645</td>\n",
       "      <td>6</td>\n",
       "    </tr>\n",
       "  </tbody>\n",
       "</table>\n",
       "</div>"
      ],
      "text/plain": [
       "                                               title   id  avg_rating  \\\n",
       "0                            Twilight (Twilight  #1)  948    3.662500   \n",
       "1                                Water for Elephants  963    3.977273   \n",
       "2                                   The Glass Castle  734    4.206897   \n",
       "3  Harry Potter and the Prisoner of Azkaban (Harr...  302    4.414634   \n",
       "4  The Curious Incident of the Dog in the Night-Time  695    4.081081   \n",
       "5             The Da Vinci Code (Robert Langdon  #2)  696    3.830508   \n",
       "6                                      The Alchemist  627    3.789474   \n",
       "7                The Hobbit  or There and Back Again  750    4.125000   \n",
       "8                                     The Book Thief  656    4.264151   \n",
       "9  The Lightning Thief (Percy Jackson and the Oly...  779    4.080645   \n",
       "\n",
       "   cnt_reviews  \n",
       "0            7  \n",
       "1            6  \n",
       "2            6  \n",
       "3            6  \n",
       "4            6  \n",
       "5            6  \n",
       "6            6  \n",
       "7            6  \n",
       "8            6  \n",
       "9            6  "
      ]
     },
     "execution_count": 5,
     "metadata": {},
     "output_type": "execute_result"
    }
   ],
   "source": [
    "ratings_reviews = '''\n",
    "SELECT \n",
    "    books.title AS title,\n",
    "    books.book_id AS id,\n",
    "    AVG(ratings.rating) AS avg_rating,\n",
    "    COUNT(DISTINCT reviews.text) AS cnt_reviews\n",
    "FROM\n",
    "    books\n",
    "LEFT JOIN ratings ON ratings.book_id = books.book_id\n",
    "LEFT JOIN reviews ON reviews.book_id = books.book_id\n",
    "GROUP BY\n",
    "     books.title,\n",
    "     books.book_id\n",
    "order by\n",
    "     cnt_reviews DESC\n",
    "'''\n",
    "ratings_reviews = pd.io.sql.read_sql(ratings_reviews, con = engine)\n",
    "ratings_reviews.head(10)"
   ]
  },
  {
   "cell_type": "markdown",
   "metadata": {},
   "source": [
    "Наибольшее количество обзоров вышло по книге *\"Twilight\"* - 7. При этом рейтинг у этой книги ниже остальных книг с большим количеством обзоров: всего 3,66."
   ]
  },
  {
   "cell_type": "markdown",
   "metadata": {},
   "source": [
    "<div class=\"alert alert-danger\">\n",
    "\n",
    "**Комментарий ревьюера**\n",
    "    \n",
    "Все верно!\n",
    "    \n",
    "Но обрати внимание, что необходимо вывести количество обзоров и среднюю оценку для всех книг в базе. Результатирующая таблица не содержит нескольких произведений.\n",
    "</div> \n"
   ]
  },
  {
   "cell_type": "markdown",
   "metadata": {},
   "source": [
    "<div class = \"alert alert-info\" >\n",
    "<b>Комментарий студента_v1:</b> Согласна. Исправила. Теперь в таблице 1000 книг.\n",
    "\n",
    "</div>"
   ]
  },
  {
   "cell_type": "markdown",
   "metadata": {},
   "source": [
    "<a id='6'></a>\n",
    "### Определение издательства, которое выпустило наибольшее число книг толще 50 страниц\n",
    "[*Назад к оглавлению*](##Оглавление)"
   ]
  },
  {
   "cell_type": "code",
   "execution_count": 6,
   "metadata": {},
   "outputs": [
    {
     "data": {
      "text/html": [
       "<div>\n",
       "<style scoped>\n",
       "    .dataframe tbody tr th:only-of-type {\n",
       "        vertical-align: middle;\n",
       "    }\n",
       "\n",
       "    .dataframe tbody tr th {\n",
       "        vertical-align: top;\n",
       "    }\n",
       "\n",
       "    .dataframe thead th {\n",
       "        text-align: right;\n",
       "    }\n",
       "</style>\n",
       "<table border=\"1\" class=\"dataframe\">\n",
       "  <thead>\n",
       "    <tr style=\"text-align: right;\">\n",
       "      <th></th>\n",
       "      <th>name_publisher</th>\n",
       "      <th>count_of_published_books</th>\n",
       "    </tr>\n",
       "  </thead>\n",
       "  <tbody>\n",
       "    <tr>\n",
       "      <th>0</th>\n",
       "      <td>Penguin Books</td>\n",
       "      <td>42</td>\n",
       "    </tr>\n",
       "    <tr>\n",
       "      <th>1</th>\n",
       "      <td>Vintage</td>\n",
       "      <td>31</td>\n",
       "    </tr>\n",
       "    <tr>\n",
       "      <th>2</th>\n",
       "      <td>Grand Central Publishing</td>\n",
       "      <td>25</td>\n",
       "    </tr>\n",
       "    <tr>\n",
       "      <th>3</th>\n",
       "      <td>Penguin Classics</td>\n",
       "      <td>24</td>\n",
       "    </tr>\n",
       "    <tr>\n",
       "      <th>4</th>\n",
       "      <td>Ballantine Books</td>\n",
       "      <td>19</td>\n",
       "    </tr>\n",
       "  </tbody>\n",
       "</table>\n",
       "</div>"
      ],
      "text/plain": [
       "             name_publisher  count_of_published_books\n",
       "0             Penguin Books                        42\n",
       "1                   Vintage                        31\n",
       "2  Grand Central Publishing                        25\n",
       "3          Penguin Classics                        24\n",
       "4          Ballantine Books                        19"
      ]
     },
     "execution_count": 6,
     "metadata": {},
     "output_type": "execute_result"
    }
   ],
   "source": [
    "book_publisher = '''\n",
    "SELECT\n",
    "     publishers.publisher AS name_publisher,\n",
    "     COUNT(books.book_id) AS count_of_published_books\n",
    "FROM\n",
    "    publishers\n",
    "INNER JOIN books ON books.publisher_id = publishers.publisher_id\n",
    "WHERE\n",
    "    books.num_pages > 50\n",
    "GROUP BY\n",
    "    name_publisher\n",
    "ORDER BY \n",
    "    count_of_published_books DESC\n",
    "'''\n",
    "\n",
    "book_publisher = pd.io.sql.read_sql(book_publisher, con = engine)\n",
    "book_publisher.head()"
   ]
  },
  {
   "cell_type": "markdown",
   "metadata": {},
   "source": [
    "Издательство Penguin Books выпустило наибольше число книг толще 50 страниц: 42 книги."
   ]
  },
  {
   "cell_type": "markdown",
   "metadata": {},
   "source": [
    "<div class=\"alert alert-success\">\n",
    "\n",
    "**Комментарий ревьюера**\n",
    "\n",
    "Получен корректный ответ, молодец 👍🏻"
   ]
  },
  {
   "cell_type": "markdown",
   "metadata": {},
   "source": [
    "<a id='7'></a>\n",
    "### Определение автора с самой высокой средней оценкой книг (только для книг с 50 и более оценками)\n",
    "[*Назад к оглавлению*](##Оглавление)"
   ]
  },
  {
   "cell_type": "code",
   "execution_count": 7,
   "metadata": {},
   "outputs": [
    {
     "data": {
      "text/html": [
       "<div>\n",
       "<style scoped>\n",
       "    .dataframe tbody tr th:only-of-type {\n",
       "        vertical-align: middle;\n",
       "    }\n",
       "\n",
       "    .dataframe tbody tr th {\n",
       "        vertical-align: top;\n",
       "    }\n",
       "\n",
       "    .dataframe thead th {\n",
       "        text-align: right;\n",
       "    }\n",
       "</style>\n",
       "<table border=\"1\" class=\"dataframe\">\n",
       "  <thead>\n",
       "    <tr style=\"text-align: right;\">\n",
       "      <th></th>\n",
       "      <th>author</th>\n",
       "      <th>avg_rating</th>\n",
       "    </tr>\n",
       "  </thead>\n",
       "  <tbody>\n",
       "    <tr>\n",
       "      <th>0</th>\n",
       "      <td>J.K. Rowling/Mary GrandPré</td>\n",
       "      <td>4.283844</td>\n",
       "    </tr>\n",
       "    <tr>\n",
       "      <th>1</th>\n",
       "      <td>Markus Zusak/Cao Xuân Việt Khương</td>\n",
       "      <td>4.264151</td>\n",
       "    </tr>\n",
       "    <tr>\n",
       "      <th>2</th>\n",
       "      <td>J.R.R. Tolkien</td>\n",
       "      <td>4.258446</td>\n",
       "    </tr>\n",
       "    <tr>\n",
       "      <th>3</th>\n",
       "      <td>Louisa May Alcott</td>\n",
       "      <td>4.192308</td>\n",
       "    </tr>\n",
       "    <tr>\n",
       "      <th>4</th>\n",
       "      <td>Rick Riordan</td>\n",
       "      <td>4.080645</td>\n",
       "    </tr>\n",
       "    <tr>\n",
       "      <th>5</th>\n",
       "      <td>William Golding</td>\n",
       "      <td>3.901408</td>\n",
       "    </tr>\n",
       "    <tr>\n",
       "      <th>6</th>\n",
       "      <td>J.D. Salinger</td>\n",
       "      <td>3.825581</td>\n",
       "    </tr>\n",
       "    <tr>\n",
       "      <th>7</th>\n",
       "      <td>Paulo Coelho/Alan R. Clarke/Özdemir İnce</td>\n",
       "      <td>3.789474</td>\n",
       "    </tr>\n",
       "    <tr>\n",
       "      <th>8</th>\n",
       "      <td>William Shakespeare/Paul Werstine/Barbara A. M...</td>\n",
       "      <td>3.787879</td>\n",
       "    </tr>\n",
       "    <tr>\n",
       "      <th>9</th>\n",
       "      <td>Dan Brown</td>\n",
       "      <td>3.754540</td>\n",
       "    </tr>\n",
       "    <tr>\n",
       "      <th>10</th>\n",
       "      <td>Lois Lowry</td>\n",
       "      <td>3.750000</td>\n",
       "    </tr>\n",
       "    <tr>\n",
       "      <th>11</th>\n",
       "      <td>George Orwell/Boris Grabnar/Peter Škerl</td>\n",
       "      <td>3.729730</td>\n",
       "    </tr>\n",
       "    <tr>\n",
       "      <th>12</th>\n",
       "      <td>Stephenie Meyer</td>\n",
       "      <td>3.662500</td>\n",
       "    </tr>\n",
       "    <tr>\n",
       "      <th>13</th>\n",
       "      <td>John Steinbeck</td>\n",
       "      <td>3.622951</td>\n",
       "    </tr>\n",
       "  </tbody>\n",
       "</table>\n",
       "</div>"
      ],
      "text/plain": [
       "                                               author  avg_rating\n",
       "0                          J.K. Rowling/Mary GrandPré    4.283844\n",
       "1                   Markus Zusak/Cao Xuân Việt Khương    4.264151\n",
       "2                                      J.R.R. Tolkien    4.258446\n",
       "3                                   Louisa May Alcott    4.192308\n",
       "4                                        Rick Riordan    4.080645\n",
       "5                                     William Golding    3.901408\n",
       "6                                       J.D. Salinger    3.825581\n",
       "7            Paulo Coelho/Alan R. Clarke/Özdemir İnce    3.789474\n",
       "8   William Shakespeare/Paul Werstine/Barbara A. M...    3.787879\n",
       "9                                           Dan Brown    3.754540\n",
       "10                                         Lois Lowry    3.750000\n",
       "11            George Orwell/Boris Grabnar/Peter Škerl    3.729730\n",
       "12                                    Stephenie Meyer    3.662500\n",
       "13                                     John Steinbeck    3.622951"
      ]
     },
     "execution_count": 7,
     "metadata": {},
     "output_type": "execute_result"
    }
   ],
   "source": [
    "best_author = '''\n",
    "SELECT\n",
    "      SUBQ.author AS author,\n",
    "      AVG(SUBQ.avg_rating) AS avg_rating\n",
    "FROM\n",
    "(SELECT\n",
    "     authors.author AS author,\n",
    "     books.book_id AS id,\n",
    "     AVG(ratings.rating) AS avg_rating,\n",
    "     COUNT(ratings.rating) AS cnt_rating\n",
    "FROM\n",
    "    authors\n",
    "INNER JOIN books ON books.author_id = authors.author_id\n",
    "INNER JOIN ratings ON ratings.book_id = books.book_id\n",
    "GROUP BY\n",
    "    author,\n",
    "    id\n",
    "    HAVING\n",
    "    COUNT(ratings.rating) >= 50) AS SUBQ\n",
    "GROUP BY\n",
    "    author\n",
    "ORDER BY\n",
    "    avg_rating DESC\n",
    "'''\n",
    "\n",
    "best_author = pd.io.sql.read_sql(best_author, con = engine)\n",
    "best_author"
   ]
  },
  {
   "cell_type": "markdown",
   "metadata": {},
   "source": [
    "Cамая высокая средняя оценка у автора J. K. Rowling / Mary GrandPré - 4,28."
   ]
  },
  {
   "cell_type": "markdown",
   "metadata": {},
   "source": [
    "<div class=\"alert alert-success\">\n",
    "\n",
    "**Комментарий ревьюера**\n",
    "\n",
    "Абсолютно верно 👍🏻"
   ]
  },
  {
   "cell_type": "markdown",
   "metadata": {},
   "source": [
    "<a id='8'></a>\n",
    "### Среднее количество обзоров от пользователей, которые поставили больше 50 оценок\n",
    "[*Назад к оглавлению*](##Оглавление)"
   ]
  },
  {
   "cell_type": "code",
   "execution_count": 8,
   "metadata": {},
   "outputs": [
    {
     "data": {
      "text/html": [
       "<div>\n",
       "<style scoped>\n",
       "    .dataframe tbody tr th:only-of-type {\n",
       "        vertical-align: middle;\n",
       "    }\n",
       "\n",
       "    .dataframe tbody tr th {\n",
       "        vertical-align: top;\n",
       "    }\n",
       "\n",
       "    .dataframe thead th {\n",
       "        text-align: right;\n",
       "    }\n",
       "</style>\n",
       "<table border=\"1\" class=\"dataframe\">\n",
       "  <thead>\n",
       "    <tr style=\"text-align: right;\">\n",
       "      <th></th>\n",
       "      <th>round</th>\n",
       "    </tr>\n",
       "  </thead>\n",
       "  <tbody>\n",
       "    <tr>\n",
       "      <th>0</th>\n",
       "      <td>24.0</td>\n",
       "    </tr>\n",
       "  </tbody>\n",
       "</table>\n",
       "</div>"
      ],
      "text/plain": [
       "   round\n",
       "0   24.0"
      ]
     },
     "execution_count": 8,
     "metadata": {},
     "output_type": "execute_result"
    }
   ],
   "source": [
    "avg_rating_review = '''\n",
    "SELECT ROUND(avg(count)) \n",
    "FROM\n",
    "(SELECT\n",
    "    COUNT(text)\n",
    "FROM \n",
    "    reviews\n",
    "FULL OUTER JOIN (SELECT username,\n",
    "                COUNT(rating_id) as cnt\n",
    "FROM \n",
    "    ratings\n",
    "GROUP BY\n",
    "        username) AS cnt_rating\n",
    "ON cnt_rating.username = reviews.username\n",
    "where cnt > 50\n",
    "GROUP BY reviews.username) as count;                                  \n",
    "'''\n",
    "\n",
    "pd.io.sql.read_sql(avg_rating_review, con = engine)"
   ]
  },
  {
   "cell_type": "markdown",
   "metadata": {},
   "source": [
    "Среднее количество обзоров пользователей, которые поставили более чем по 50 оценок, равно 24."
   ]
  },
  {
   "cell_type": "markdown",
   "metadata": {},
   "source": [
    "<div class=\"alert alert-success\">\n",
    "\n",
    "**Комментарий ревьюера**\n",
    "     \n",
    "Отлично 🔥"
   ]
  },
  {
   "cell_type": "markdown",
   "metadata": {},
   "source": [
    "## Общий вывод\n",
    "<a id='9'></a>"
   ]
  },
  {
   "cell_type": "markdown",
   "metadata": {},
   "source": [
    "<div style=\"border:solid Red 2px; padding: 40px\">\n",
    "<h3> Вывод <a class=\"tocSkip\"> </h3>\n",
    "    \n",
    "<br/>\n",
    "Для формулировки ценностного предложения для нового продукта необходимо принять во внимание следующую информацию:\n",
    "<li>в таблице <b>book_publisher</b> лежит список всех издательств, которые выпускают книги от 50 страниц;</li>\n",
    "<li>таблица <b>best_author</b> содержит список авторов с самой выской средней оценкой, при этом у этих авторов учтены книги которые имеют больше 50 пользовательских оценок;</li>\n",
    "<li>в таблице <b>ratings_reviews</b>, есть книги со средней оценкой и пользовательскими обзорами: стоит обратить внимание на книги, где кол-во обзоров больше 3, так как достаточно много завышенных оценок с 2 обзорами;</li>\n",
    "<li>среднее количество текстовых обзоров на книги более чем 50 оценками имеют в среднем 24 текстовых обзора (что будет достаточно информативно для будущих пользователей).</li>\n",
    "\n",
    "<br/>"
   ]
  },
  {
   "cell_type": "markdown",
   "metadata": {},
   "source": [
    "<div style=\"border:solid black 2px; padding: 20px\">\n",
    "<h3>Чек-лист доработок </h3> \n",
    "    \n",
    "По проекту видно, что в него было вложено много времени и сил! \n",
    " \n",
    "**Однако нам нужно проработать запрос 2.**\n",
    "    \n",
    "Жду твой проект на повторное ревью, осталось совсем чуть-чуть. Не стесняйся оставлять комментарии и задавать вопросы. Удачи! Все получится 🙂"
   ]
  },
  {
   "cell_type": "markdown",
   "metadata": {},
   "source": [
    "<div class = \"alert alert-info\" >\n",
    "<b>Комментарий студента_v1:</b> Ещё раз благодарю тебя за помощь и советы! Жду твоего вердикта)))\n",
    "\n",
    "</div>"
   ]
  }
 ],
 "metadata": {
  "ExecuteTimeLog": [
   {
    "duration": 2104,
    "start_time": "2021-06-18T10:53:09.443Z"
   },
   {
    "duration": 96,
    "start_time": "2021-06-18T11:03:27.910Z"
   },
   {
    "duration": 74,
    "start_time": "2021-06-18T11:03:46.401Z"
   },
   {
    "duration": 1970,
    "start_time": "2021-06-18T11:03:55.750Z"
   },
   {
    "duration": 71,
    "start_time": "2021-06-18T11:03:57.723Z"
   },
   {
    "duration": 21,
    "start_time": "2021-06-18T11:06:23.188Z"
   },
   {
    "duration": 15,
    "start_time": "2021-06-18T11:06:53.502Z"
   },
   {
    "duration": 72,
    "start_time": "2021-06-18T11:10:10.548Z"
   },
   {
    "duration": 18,
    "start_time": "2021-06-18T11:10:10.857Z"
   },
   {
    "duration": 1978,
    "start_time": "2021-06-18T11:10:16.329Z"
   },
   {
    "duration": 70,
    "start_time": "2021-06-18T11:10:18.310Z"
   },
   {
    "duration": 22,
    "start_time": "2021-06-18T11:10:18.383Z"
   },
   {
    "duration": 16,
    "start_time": "2021-06-18T11:17:23.870Z"
   },
   {
    "duration": 1992,
    "start_time": "2021-06-18T11:17:32.683Z"
   },
   {
    "duration": 71,
    "start_time": "2021-06-18T11:17:34.678Z"
   },
   {
    "duration": 20,
    "start_time": "2021-06-18T11:17:34.751Z"
   },
   {
    "duration": 14,
    "start_time": "2021-06-18T11:20:57.986Z"
   },
   {
    "duration": 17,
    "start_time": "2021-06-18T11:24:26.821Z"
   },
   {
    "duration": 14,
    "start_time": "2021-06-18T11:36:12.822Z"
   },
   {
    "duration": 704,
    "start_time": "2021-06-18T11:53:12.168Z"
   },
   {
    "duration": 13,
    "start_time": "2021-06-18T11:53:41.597Z"
   },
   {
    "duration": 14,
    "start_time": "2021-06-18T11:53:55.468Z"
   },
   {
    "duration": 14,
    "start_time": "2021-06-18T11:54:24.969Z"
   },
   {
    "duration": 12,
    "start_time": "2021-06-18T11:54:34.883Z"
   },
   {
    "duration": 1876,
    "start_time": "2021-06-18T11:54:47.718Z"
   },
   {
    "duration": 71,
    "start_time": "2021-06-18T11:54:49.597Z"
   },
   {
    "duration": 20,
    "start_time": "2021-06-18T11:54:49.672Z"
   },
   {
    "duration": 14,
    "start_time": "2021-06-18T11:54:49.695Z"
   },
   {
    "duration": 20,
    "start_time": "2021-06-18T11:54:49.711Z"
   },
   {
    "duration": 14,
    "start_time": "2021-06-18T11:54:49.733Z"
   },
   {
    "duration": 15,
    "start_time": "2021-06-18T11:55:39.837Z"
   },
   {
    "duration": 4,
    "start_time": "2021-06-18T12:01:59.928Z"
   },
   {
    "duration": 12,
    "start_time": "2021-06-18T12:02:43.375Z"
   },
   {
    "duration": 1955,
    "start_time": "2021-06-18T12:03:04.672Z"
   },
   {
    "duration": 73,
    "start_time": "2021-06-18T12:03:06.630Z"
   },
   {
    "duration": 21,
    "start_time": "2021-06-18T12:03:06.706Z"
   },
   {
    "duration": 15,
    "start_time": "2021-06-18T12:03:06.730Z"
   },
   {
    "duration": 5,
    "start_time": "2021-06-18T12:03:06.748Z"
   },
   {
    "duration": 41,
    "start_time": "2021-06-18T12:03:06.755Z"
   },
   {
    "duration": 15,
    "start_time": "2021-06-18T12:03:06.799Z"
   },
   {
    "duration": 14,
    "start_time": "2021-06-18T12:04:16.570Z"
   },
   {
    "duration": 1925,
    "start_time": "2021-06-18T12:11:18.972Z"
   },
   {
    "duration": 71,
    "start_time": "2021-06-18T12:11:20.900Z"
   },
   {
    "duration": 20,
    "start_time": "2021-06-18T12:11:20.974Z"
   },
   {
    "duration": 16,
    "start_time": "2021-06-18T12:11:20.996Z"
   },
   {
    "duration": 16,
    "start_time": "2021-06-18T12:11:21.015Z"
   },
   {
    "duration": 5,
    "start_time": "2021-06-18T12:11:21.035Z"
   },
   {
    "duration": 14,
    "start_time": "2021-06-18T12:11:21.087Z"
   },
   {
    "duration": 17,
    "start_time": "2021-06-18T12:11:21.105Z"
   },
   {
    "duration": 1666,
    "start_time": "2021-06-18T12:14:58.046Z"
   },
   {
    "duration": 5,
    "start_time": "2021-06-18T12:15:40.719Z"
   },
   {
    "duration": 1886,
    "start_time": "2021-06-18T12:15:50.047Z"
   },
   {
    "duration": 70,
    "start_time": "2021-06-18T12:15:51.936Z"
   },
   {
    "duration": 22,
    "start_time": "2021-06-18T12:15:52.009Z"
   },
   {
    "duration": 17,
    "start_time": "2021-06-18T12:15:52.034Z"
   },
   {
    "duration": 35,
    "start_time": "2021-06-18T12:15:52.054Z"
   },
   {
    "duration": 7,
    "start_time": "2021-06-18T12:15:52.092Z"
   },
   {
    "duration": 15,
    "start_time": "2021-06-18T12:15:52.102Z"
   },
   {
    "duration": 66,
    "start_time": "2021-06-18T12:15:52.121Z"
   },
   {
    "duration": 17,
    "start_time": "2021-06-18T12:16:06.751Z"
   },
   {
    "duration": 28,
    "start_time": "2021-06-18T12:19:29.667Z"
   },
   {
    "duration": 747,
    "start_time": "2021-06-18T12:24:26.851Z"
   },
   {
    "duration": 34,
    "start_time": "2021-06-18T12:31:55.789Z"
   },
   {
    "duration": 21,
    "start_time": "2021-06-18T12:33:04.525Z"
   },
   {
    "duration": 19,
    "start_time": "2021-06-18T12:33:12.021Z"
   },
   {
    "duration": 1877,
    "start_time": "2021-06-18T13:14:36.841Z"
   },
   {
    "duration": 71,
    "start_time": "2021-06-18T13:14:38.721Z"
   },
   {
    "duration": 20,
    "start_time": "2021-06-18T13:14:38.795Z"
   },
   {
    "duration": 16,
    "start_time": "2021-06-18T13:14:38.819Z"
   },
   {
    "duration": 47,
    "start_time": "2021-06-18T13:14:38.838Z"
   },
   {
    "duration": 5,
    "start_time": "2021-06-18T13:14:38.889Z"
   },
   {
    "duration": 15,
    "start_time": "2021-06-18T13:14:38.897Z"
   },
   {
    "duration": 75,
    "start_time": "2021-06-18T13:14:38.917Z"
   },
   {
    "duration": 22,
    "start_time": "2021-06-18T13:14:38.995Z"
   },
   {
    "duration": 456,
    "start_time": "2021-06-18T13:24:41.117Z"
   },
   {
    "duration": 23,
    "start_time": "2021-06-18T13:25:03.955Z"
   },
   {
    "duration": 19,
    "start_time": "2021-06-18T13:30:28.901Z"
   },
   {
    "duration": 710,
    "start_time": "2021-06-18T13:42:50.549Z"
   },
   {
    "duration": 15,
    "start_time": "2021-06-18T13:49:44.454Z"
   },
   {
    "duration": 15,
    "start_time": "2021-06-18T13:50:55.447Z"
   },
   {
    "duration": 1932,
    "start_time": "2021-06-18T13:51:23.188Z"
   },
   {
    "duration": 97,
    "start_time": "2021-06-18T13:51:25.123Z"
   },
   {
    "duration": 24,
    "start_time": "2021-06-18T13:51:25.223Z"
   },
   {
    "duration": 19,
    "start_time": "2021-06-18T13:51:25.250Z"
   },
   {
    "duration": 21,
    "start_time": "2021-06-18T13:51:25.272Z"
   },
   {
    "duration": 15,
    "start_time": "2021-06-18T13:51:25.295Z"
   },
   {
    "duration": 29,
    "start_time": "2021-06-18T13:51:25.313Z"
   },
   {
    "duration": 49,
    "start_time": "2021-06-18T13:51:25.346Z"
   },
   {
    "duration": 19,
    "start_time": "2021-06-18T13:51:25.398Z"
   },
   {
    "duration": 23,
    "start_time": "2021-06-18T13:51:25.420Z"
   },
   {
    "duration": 44,
    "start_time": "2021-06-18T13:51:25.446Z"
   },
   {
    "duration": 498,
    "start_time": "2021-06-18T14:54:46.532Z"
   },
   {
    "duration": 328,
    "start_time": "2021-06-18T15:18:28.262Z"
   },
   {
    "duration": 7714,
    "start_time": "2021-06-18T15:25:53.583Z"
   },
   {
    "duration": 14,
    "start_time": "2021-06-18T15:26:11.051Z"
   },
   {
    "duration": 10,
    "start_time": "2021-06-18T15:28:44.288Z"
   },
   {
    "duration": 16,
    "start_time": "2021-06-18T15:33:30.524Z"
   },
   {
    "duration": 14,
    "start_time": "2021-06-18T15:35:59.526Z"
   },
   {
    "duration": 15,
    "start_time": "2021-06-18T15:37:10.190Z"
   },
   {
    "duration": 17,
    "start_time": "2021-06-18T15:37:36.250Z"
   },
   {
    "duration": 17,
    "start_time": "2021-06-18T15:37:38.524Z"
   },
   {
    "duration": 17,
    "start_time": "2021-06-18T15:37:44.395Z"
   },
   {
    "duration": 309,
    "start_time": "2021-06-18T15:42:40.840Z"
   },
   {
    "duration": 20,
    "start_time": "2021-06-18T15:42:48.660Z"
   },
   {
    "duration": 22,
    "start_time": "2021-06-18T15:43:16.407Z"
   },
   {
    "duration": 25,
    "start_time": "2021-06-18T15:48:16.026Z"
   },
   {
    "duration": 332,
    "start_time": "2021-06-18T15:48:40.262Z"
   },
   {
    "duration": 23,
    "start_time": "2021-06-18T15:48:52.274Z"
   },
   {
    "duration": 27,
    "start_time": "2021-06-18T15:49:18.216Z"
   },
   {
    "duration": 23,
    "start_time": "2021-06-18T15:49:37.079Z"
   },
   {
    "duration": 25,
    "start_time": "2021-06-18T15:50:06.884Z"
   },
   {
    "duration": 309,
    "start_time": "2021-06-18T15:52:34.691Z"
   },
   {
    "duration": 21,
    "start_time": "2021-06-18T15:52:43.123Z"
   },
   {
    "duration": 30,
    "start_time": "2021-06-18T15:52:59.314Z"
   },
   {
    "duration": 23,
    "start_time": "2021-06-18T15:53:09.946Z"
   },
   {
    "duration": 23,
    "start_time": "2021-06-18T15:53:55.346Z"
   },
   {
    "duration": 22,
    "start_time": "2021-06-18T15:54:52.863Z"
   },
   {
    "duration": 23,
    "start_time": "2021-06-18T15:55:00.443Z"
   },
   {
    "duration": 8514,
    "start_time": "2021-06-18T15:55:57.578Z"
   },
   {
    "duration": 357,
    "start_time": "2021-06-18T15:56:23.317Z"
   },
   {
    "duration": 334,
    "start_time": "2021-06-18T15:56:40.554Z"
   },
   {
    "duration": 337,
    "start_time": "2021-06-18T15:56:58.148Z"
   },
   {
    "duration": 318,
    "start_time": "2021-06-18T15:57:43.564Z"
   },
   {
    "duration": 23,
    "start_time": "2021-06-18T15:57:51.395Z"
   },
   {
    "duration": 25,
    "start_time": "2021-06-18T15:58:03.742Z"
   },
   {
    "duration": 306,
    "start_time": "2021-06-18T15:58:48.283Z"
   },
   {
    "duration": 28,
    "start_time": "2021-06-18T15:58:56.773Z"
   },
   {
    "duration": 25,
    "start_time": "2021-06-18T15:59:19.176Z"
   },
   {
    "duration": 24,
    "start_time": "2021-06-18T15:59:42.838Z"
   },
   {
    "duration": 21,
    "start_time": "2021-06-18T15:59:46.922Z"
   },
   {
    "duration": 21,
    "start_time": "2021-06-18T16:02:43.036Z"
   },
   {
    "duration": 23,
    "start_time": "2021-06-18T16:03:01.126Z"
   },
   {
    "duration": 1962,
    "start_time": "2021-06-18T16:03:11.660Z"
   },
   {
    "duration": 117,
    "start_time": "2021-06-18T16:03:13.625Z"
   },
   {
    "duration": 22,
    "start_time": "2021-06-18T16:03:13.745Z"
   },
   {
    "duration": 16,
    "start_time": "2021-06-18T16:03:13.769Z"
   },
   {
    "duration": 14,
    "start_time": "2021-06-18T16:03:13.787Z"
   },
   {
    "duration": 4,
    "start_time": "2021-06-18T16:03:13.803Z"
   },
   {
    "duration": 22,
    "start_time": "2021-06-18T16:03:13.809Z"
   },
   {
    "duration": 57,
    "start_time": "2021-06-18T16:03:13.834Z"
   },
   {
    "duration": 22,
    "start_time": "2021-06-18T16:03:13.893Z"
   },
   {
    "duration": 489,
    "start_time": "2021-06-18T16:03:13.919Z"
   },
   {
    "duration": 1000,
    "start_time": "2021-06-18T16:03:13.410Z"
   },
   {
    "duration": 997,
    "start_time": "2021-06-18T16:03:13.414Z"
   },
   {
    "duration": 21,
    "start_time": "2021-06-18T16:03:28.003Z"
   },
   {
    "duration": 24,
    "start_time": "2021-06-18T16:03:39.700Z"
   },
   {
    "duration": 11,
    "start_time": "2021-06-18T16:03:42.810Z"
   },
   {
    "duration": 21,
    "start_time": "2021-06-18T16:03:51.663Z"
   },
   {
    "duration": 30,
    "start_time": "2021-06-18T16:04:44.479Z"
   },
   {
    "duration": 21,
    "start_time": "2021-06-18T16:05:23.730Z"
   },
   {
    "duration": 19,
    "start_time": "2021-06-18T16:05:33.606Z"
   },
   {
    "duration": 23,
    "start_time": "2021-06-18T16:05:54.782Z"
   },
   {
    "duration": 23,
    "start_time": "2021-06-18T16:06:00.603Z"
   },
   {
    "duration": 23,
    "start_time": "2021-06-18T16:06:07.285Z"
   },
   {
    "duration": 310,
    "start_time": "2021-06-18T16:06:18.007Z"
   },
   {
    "duration": 22,
    "start_time": "2021-06-18T16:06:24.934Z"
   },
   {
    "duration": 314,
    "start_time": "2021-06-18T16:06:35.627Z"
   },
   {
    "duration": 338,
    "start_time": "2021-06-18T16:06:47.822Z"
   },
   {
    "duration": 24,
    "start_time": "2021-06-18T16:07:05.456Z"
   },
   {
    "duration": 21,
    "start_time": "2021-06-18T16:07:12.644Z"
   },
   {
    "duration": 19,
    "start_time": "2021-06-18T16:07:44.719Z"
   },
   {
    "duration": 23,
    "start_time": "2021-06-18T16:08:48.289Z"
   },
   {
    "duration": 327,
    "start_time": "2021-06-18T16:15:10.886Z"
   },
   {
    "duration": 333,
    "start_time": "2021-06-18T16:15:19.488Z"
   },
   {
    "duration": 310,
    "start_time": "2021-06-18T16:15:31.633Z"
   },
   {
    "duration": 760,
    "start_time": "2021-06-18T16:15:52.051Z"
   },
   {
    "duration": 110,
    "start_time": "2021-06-18T16:18:01.202Z"
   },
   {
    "duration": 8493,
    "start_time": "2021-06-18T16:18:23.042Z"
   },
   {
    "duration": 558,
    "start_time": "2021-06-19T20:08:29.016Z"
   },
   {
    "duration": 2049,
    "start_time": "2021-06-19T20:08:37.468Z"
   },
   {
    "duration": 89,
    "start_time": "2021-06-19T20:08:39.520Z"
   },
   {
    "duration": 21,
    "start_time": "2021-06-19T20:08:39.614Z"
   },
   {
    "duration": 16,
    "start_time": "2021-06-19T20:08:39.638Z"
   },
   {
    "duration": 22,
    "start_time": "2021-06-19T20:08:39.657Z"
   },
   {
    "duration": 5,
    "start_time": "2021-06-19T20:08:39.681Z"
   },
   {
    "duration": 13,
    "start_time": "2021-06-19T20:08:39.690Z"
   },
   {
    "duration": 56,
    "start_time": "2021-06-19T20:08:39.706Z"
   },
   {
    "duration": 21,
    "start_time": "2021-06-19T20:08:39.764Z"
   },
   {
    "duration": 579,
    "start_time": "2021-06-19T20:08:39.788Z"
   },
   {
    "duration": 2820,
    "start_time": "2021-06-19T20:08:37.549Z"
   },
   {
    "duration": 2819,
    "start_time": "2021-06-19T20:08:37.552Z"
   },
   {
    "duration": 346,
    "start_time": "2021-06-19T20:08:58.544Z"
   },
   {
    "duration": 18,
    "start_time": "2021-06-19T20:09:44.678Z"
   },
   {
    "duration": 23,
    "start_time": "2021-06-19T20:09:49.252Z"
   },
   {
    "duration": 324,
    "start_time": "2021-06-19T20:09:51.333Z"
   },
   {
    "duration": 21,
    "start_time": "2021-06-19T20:10:02.945Z"
   },
   {
    "duration": 18,
    "start_time": "2021-06-19T20:10:16.712Z"
   },
   {
    "duration": 23,
    "start_time": "2021-06-19T20:10:18.402Z"
   },
   {
    "duration": 22,
    "start_time": "2021-06-19T20:10:19.396Z"
   },
   {
    "duration": 1833,
    "start_time": "2021-06-19T20:10:41.748Z"
   },
   {
    "duration": 80,
    "start_time": "2021-06-19T20:10:43.584Z"
   },
   {
    "duration": 20,
    "start_time": "2021-06-19T20:10:43.667Z"
   },
   {
    "duration": 15,
    "start_time": "2021-06-19T20:10:43.690Z"
   },
   {
    "duration": 15,
    "start_time": "2021-06-19T20:10:43.708Z"
   },
   {
    "duration": 41,
    "start_time": "2021-06-19T20:10:43.726Z"
   },
   {
    "duration": 21,
    "start_time": "2021-06-19T20:10:43.770Z"
   },
   {
    "duration": 76,
    "start_time": "2021-06-19T20:10:43.795Z"
   },
   {
    "duration": 27,
    "start_time": "2021-06-19T20:10:43.874Z"
   },
   {
    "duration": 494,
    "start_time": "2021-06-19T20:10:43.904Z"
   },
   {
    "duration": 2778,
    "start_time": "2021-06-19T20:10:41.623Z"
   },
   {
    "duration": 2777,
    "start_time": "2021-06-19T20:10:41.626Z"
   },
   {
    "duration": 16,
    "start_time": "2021-06-19T20:10:50.507Z"
   },
   {
    "duration": 341,
    "start_time": "2021-06-19T20:10:52.316Z"
   },
   {
    "duration": 22,
    "start_time": "2021-06-19T20:10:59.572Z"
   },
   {
    "duration": 20,
    "start_time": "2021-06-19T20:11:02.445Z"
   },
   {
    "duration": 29,
    "start_time": "2021-06-19T20:11:30.492Z"
   },
   {
    "duration": 28,
    "start_time": "2021-06-19T20:11:34.325Z"
   },
   {
    "duration": 24,
    "start_time": "2021-06-19T20:12:46.784Z"
   },
   {
    "duration": 21,
    "start_time": "2021-06-19T20:13:01.408Z"
   },
   {
    "duration": 1964,
    "start_time": "2021-06-19T20:13:21.537Z"
   },
   {
    "duration": 72,
    "start_time": "2021-06-19T20:13:23.503Z"
   },
   {
    "duration": 23,
    "start_time": "2021-06-19T20:13:23.578Z"
   },
   {
    "duration": 16,
    "start_time": "2021-06-19T20:13:23.604Z"
   },
   {
    "duration": 40,
    "start_time": "2021-06-19T20:13:23.623Z"
   },
   {
    "duration": 4,
    "start_time": "2021-06-19T20:13:23.666Z"
   },
   {
    "duration": 18,
    "start_time": "2021-06-19T20:13:23.673Z"
   },
   {
    "duration": 72,
    "start_time": "2021-06-19T20:13:23.695Z"
   },
   {
    "duration": 21,
    "start_time": "2021-06-19T20:13:23.770Z"
   },
   {
    "duration": 18,
    "start_time": "2021-06-19T20:13:23.794Z"
   },
   {
    "duration": 51,
    "start_time": "2021-06-19T20:13:23.815Z"
   },
   {
    "duration": 18,
    "start_time": "2021-06-19T20:13:23.869Z"
   },
   {
    "duration": 514,
    "start_time": "2021-06-19T20:17:46.417Z"
   },
   {
    "duration": 22,
    "start_time": "2021-06-19T20:17:56.290Z"
   },
   {
    "duration": 2796,
    "start_time": "2021-06-19T20:18:33.691Z"
   },
   {
    "duration": 7967,
    "start_time": "2021-06-19T20:18:42.419Z"
   },
   {
    "duration": 2788,
    "start_time": "2021-06-19T20:19:15.647Z"
   },
   {
    "duration": 23,
    "start_time": "2021-06-19T20:19:20.439Z"
   },
   {
    "duration": 22,
    "start_time": "2021-06-19T20:20:53.241Z"
   },
   {
    "duration": 422,
    "start_time": "2021-06-19T20:21:13.147Z"
   },
   {
    "duration": 8597,
    "start_time": "2021-06-19T20:21:35.852Z"
   },
   {
    "duration": 23,
    "start_time": "2021-06-19T20:21:57.935Z"
   },
   {
    "duration": 21,
    "start_time": "2021-06-19T20:33:51.655Z"
   },
   {
    "duration": 23,
    "start_time": "2021-06-19T20:43:38.899Z"
   },
   {
    "duration": 21,
    "start_time": "2021-06-19T20:50:32.193Z"
   },
   {
    "duration": 8314,
    "start_time": "2021-06-19T20:50:59.024Z"
   },
   {
    "duration": 15,
    "start_time": "2021-06-19T20:51:39.748Z"
   },
   {
    "duration": 17,
    "start_time": "2021-06-19T20:52:53.151Z"
   },
   {
    "duration": 28,
    "start_time": "2021-06-19T20:52:56.746Z"
   },
   {
    "duration": 17,
    "start_time": "2021-06-19T20:52:57.579Z"
   },
   {
    "duration": 14,
    "start_time": "2021-06-19T20:52:57.865Z"
   },
   {
    "duration": 19,
    "start_time": "2021-06-19T20:54:13.031Z"
   },
   {
    "duration": 15,
    "start_time": "2021-06-19T20:54:20.158Z"
   },
   {
    "duration": 16,
    "start_time": "2021-06-19T20:54:51.934Z"
   },
   {
    "duration": 17,
    "start_time": "2021-06-19T20:55:05.145Z"
   },
   {
    "duration": 18,
    "start_time": "2021-06-19T20:55:09.612Z"
   },
   {
    "duration": 20,
    "start_time": "2021-06-19T20:55:25.231Z"
   },
   {
    "duration": 22,
    "start_time": "2021-06-19T20:55:40.320Z"
   },
   {
    "duration": 1821,
    "start_time": "2021-06-20T09:11:07.654Z"
   },
   {
    "duration": 67,
    "start_time": "2021-06-20T09:11:09.478Z"
   },
   {
    "duration": 20,
    "start_time": "2021-06-20T09:11:09.550Z"
   },
   {
    "duration": 18,
    "start_time": "2021-06-20T09:11:09.574Z"
   },
   {
    "duration": 14,
    "start_time": "2021-06-20T09:11:09.595Z"
   },
   {
    "duration": 44,
    "start_time": "2021-06-20T09:11:09.612Z"
   },
   {
    "duration": 18,
    "start_time": "2021-06-20T09:11:09.658Z"
   },
   {
    "duration": 33,
    "start_time": "2021-06-20T09:11:09.679Z"
   },
   {
    "duration": 44,
    "start_time": "2021-06-20T09:11:09.714Z"
   },
   {
    "duration": 20,
    "start_time": "2021-06-20T09:11:09.760Z"
   },
   {
    "duration": 16,
    "start_time": "2021-06-20T09:11:09.782Z"
   },
   {
    "duration": 17,
    "start_time": "2021-06-20T09:11:09.801Z"
   },
   {
    "duration": 49,
    "start_time": "2021-06-20T09:11:09.820Z"
   },
   {
    "duration": 19,
    "start_time": "2021-06-20T09:11:55.376Z"
   },
   {
    "duration": 26,
    "start_time": "2021-06-20T09:12:12.679Z"
   },
   {
    "duration": 21,
    "start_time": "2021-06-20T09:13:10.747Z"
   },
   {
    "duration": 26,
    "start_time": "2021-06-20T09:15:19.176Z"
   },
   {
    "duration": 436,
    "start_time": "2021-06-20T09:29:17.778Z"
   },
   {
    "duration": 21,
    "start_time": "2021-06-20T09:29:20.705Z"
   },
   {
    "duration": 310,
    "start_time": "2021-06-20T09:29:37.459Z"
   },
   {
    "duration": 21,
    "start_time": "2021-06-20T09:29:39.949Z"
   },
   {
    "duration": 85,
    "start_time": "2021-06-20T09:30:26.618Z"
   },
   {
    "duration": 290,
    "start_time": "2021-06-20T09:30:36.393Z"
   },
   {
    "duration": 286,
    "start_time": "2021-06-20T09:31:01.489Z"
   },
   {
    "duration": 291,
    "start_time": "2021-06-20T09:31:13.499Z"
   },
   {
    "duration": 286,
    "start_time": "2021-06-20T09:31:21.385Z"
   },
   {
    "duration": 1929,
    "start_time": "2021-06-20T09:31:27.142Z"
   },
   {
    "duration": 71,
    "start_time": "2021-06-20T09:31:29.074Z"
   },
   {
    "duration": 24,
    "start_time": "2021-06-20T09:31:29.149Z"
   },
   {
    "duration": 16,
    "start_time": "2021-06-20T09:31:29.176Z"
   },
   {
    "duration": 13,
    "start_time": "2021-06-20T09:31:29.194Z"
   },
   {
    "duration": 4,
    "start_time": "2021-06-20T09:31:29.210Z"
   },
   {
    "duration": 11,
    "start_time": "2021-06-20T09:31:29.256Z"
   },
   {
    "duration": 38,
    "start_time": "2021-06-20T09:31:29.270Z"
   },
   {
    "duration": 45,
    "start_time": "2021-06-20T09:31:29.311Z"
   },
   {
    "duration": 20,
    "start_time": "2021-06-20T09:31:29.359Z"
   },
   {
    "duration": 20,
    "start_time": "2021-06-20T09:31:29.381Z"
   },
   {
    "duration": 67,
    "start_time": "2021-06-20T09:31:29.404Z"
   },
   {
    "duration": 15,
    "start_time": "2021-06-20T09:31:29.473Z"
   },
   {
    "duration": 963,
    "start_time": "2021-06-20T09:31:45.515Z"
   },
   {
    "duration": 25,
    "start_time": "2021-06-20T09:32:16.885Z"
   },
   {
    "duration": 32,
    "start_time": "2021-06-20T09:32:51.140Z"
   },
   {
    "duration": 24,
    "start_time": "2021-06-20T09:33:32.117Z"
   },
   {
    "duration": 32,
    "start_time": "2021-06-20T09:33:45.653Z"
   },
   {
    "duration": 943,
    "start_time": "2021-06-20T09:37:23.101Z"
   },
   {
    "duration": 998,
    "start_time": "2021-06-20T09:38:51.729Z"
   },
   {
    "duration": 271,
    "start_time": "2021-06-20T09:42:48.122Z"
   },
   {
    "duration": 274,
    "start_time": "2021-06-20T09:43:12.194Z"
   },
   {
    "duration": 355,
    "start_time": "2021-06-20T09:43:46.502Z"
   },
   {
    "duration": 1080,
    "start_time": "2021-06-20T09:44:13.209Z"
   },
   {
    "duration": 354,
    "start_time": "2021-06-20T09:45:00.694Z"
   },
   {
    "duration": 351,
    "start_time": "2021-06-20T09:46:15.629Z"
   },
   {
    "duration": 603,
    "start_time": "2021-06-20T09:47:42.275Z"
   },
   {
    "duration": 25,
    "start_time": "2021-06-20T09:48:54.444Z"
   },
   {
    "duration": 19,
    "start_time": "2021-06-20T09:49:10.908Z"
   },
   {
    "duration": 18,
    "start_time": "2021-06-20T09:49:18.685Z"
   },
   {
    "duration": 1808,
    "start_time": "2021-06-20T09:49:52.978Z"
   },
   {
    "duration": 71,
    "start_time": "2021-06-20T09:49:54.789Z"
   },
   {
    "duration": 26,
    "start_time": "2021-06-20T09:49:54.864Z"
   },
   {
    "duration": 17,
    "start_time": "2021-06-20T09:49:54.893Z"
   },
   {
    "duration": 50,
    "start_time": "2021-06-20T09:49:54.912Z"
   },
   {
    "duration": 7,
    "start_time": "2021-06-20T09:49:54.966Z"
   },
   {
    "duration": 20,
    "start_time": "2021-06-20T09:49:54.976Z"
   },
   {
    "duration": 65,
    "start_time": "2021-06-20T09:49:54.998Z"
   },
   {
    "duration": 23,
    "start_time": "2021-06-20T09:49:55.068Z"
   },
   {
    "duration": 19,
    "start_time": "2021-06-20T09:49:55.093Z"
   },
   {
    "duration": 19,
    "start_time": "2021-06-20T09:49:55.115Z"
   },
   {
    "duration": 349,
    "start_time": "2021-06-20T09:49:55.136Z"
   },
   {
    "duration": 1996,
    "start_time": "2021-06-20T16:35:11.591Z"
   },
   {
    "duration": 57,
    "start_time": "2021-06-20T16:35:13.590Z"
   },
   {
    "duration": 22,
    "start_time": "2021-06-20T16:35:13.650Z"
   },
   {
    "duration": 20,
    "start_time": "2021-06-20T16:35:13.675Z"
   },
   {
    "duration": 18,
    "start_time": "2021-06-20T16:35:13.697Z"
   },
   {
    "duration": 4,
    "start_time": "2021-06-20T16:35:13.717Z"
   },
   {
    "duration": 14,
    "start_time": "2021-06-20T16:35:13.723Z"
   },
   {
    "duration": 70,
    "start_time": "2021-06-20T16:35:13.740Z"
   },
   {
    "duration": 22,
    "start_time": "2021-06-20T16:35:13.812Z"
   },
   {
    "duration": 21,
    "start_time": "2021-06-20T16:35:13.836Z"
   },
   {
    "duration": 52,
    "start_time": "2021-06-20T16:35:13.860Z"
   },
   {
    "duration": 172,
    "start_time": "2021-06-20T16:35:13.914Z"
   },
   {
    "duration": 551,
    "start_time": "2021-06-20T16:39:11.327Z"
   },
   {
    "duration": 599,
    "start_time": "2021-06-20T16:41:24.667Z"
   },
   {
    "duration": 585,
    "start_time": "2021-06-20T16:41:47.459Z"
   },
   {
    "duration": 821,
    "start_time": "2021-06-20T16:43:36.901Z"
   },
   {
    "duration": 901,
    "start_time": "2021-06-20T16:44:17.931Z"
   },
   {
    "duration": 638,
    "start_time": "2021-06-20T16:44:30.458Z"
   },
   {
    "duration": 1045,
    "start_time": "2021-06-20T16:45:26.905Z"
   },
   {
    "duration": 687,
    "start_time": "2021-06-20T16:45:34.768Z"
   },
   {
    "duration": 708,
    "start_time": "2021-06-20T16:45:49.049Z"
   },
   {
    "duration": 708,
    "start_time": "2021-06-20T16:50:02.470Z"
   },
   {
    "duration": 725,
    "start_time": "2021-06-20T16:50:21.804Z"
   },
   {
    "duration": 711,
    "start_time": "2021-06-20T16:50:35.650Z"
   },
   {
    "duration": 881,
    "start_time": "2021-06-20T16:50:57.722Z"
   },
   {
    "duration": 656,
    "start_time": "2021-06-20T16:51:09.025Z"
   },
   {
    "duration": 662,
    "start_time": "2021-06-20T16:51:41.651Z"
   },
   {
    "duration": 429,
    "start_time": "2021-06-20T16:51:59.479Z"
   },
   {
    "duration": 800,
    "start_time": "2021-06-20T16:53:43.127Z"
   },
   {
    "duration": 724,
    "start_time": "2021-06-20T16:54:16.266Z"
   },
   {
    "duration": 476,
    "start_time": "2021-06-20T16:55:33.925Z"
   },
   {
    "duration": 548,
    "start_time": "2021-06-20T16:55:59.731Z"
   },
   {
    "duration": 423,
    "start_time": "2021-06-20T16:56:09.438Z"
   },
   {
    "duration": 1915,
    "start_time": "2021-06-20T16:56:15.934Z"
   },
   {
    "duration": 59,
    "start_time": "2021-06-20T16:56:17.851Z"
   },
   {
    "duration": 21,
    "start_time": "2021-06-20T16:56:17.913Z"
   },
   {
    "duration": 16,
    "start_time": "2021-06-20T16:56:17.937Z"
   },
   {
    "duration": 17,
    "start_time": "2021-06-20T16:56:17.955Z"
   },
   {
    "duration": 37,
    "start_time": "2021-06-20T16:56:17.974Z"
   },
   {
    "duration": 17,
    "start_time": "2021-06-20T16:56:18.014Z"
   },
   {
    "duration": 37,
    "start_time": "2021-06-20T16:56:18.034Z"
   },
   {
    "duration": 50,
    "start_time": "2021-06-20T16:56:18.075Z"
   },
   {
    "duration": 27,
    "start_time": "2021-06-20T16:56:18.127Z"
   },
   {
    "duration": 53,
    "start_time": "2021-06-20T16:56:18.157Z"
   },
   {
    "duration": 476,
    "start_time": "2021-06-20T16:56:18.213Z"
   },
   {
    "duration": 1791,
    "start_time": "2021-06-20T18:48:11.796Z"
   },
   {
    "duration": 106,
    "start_time": "2021-06-20T18:48:13.590Z"
   },
   {
    "duration": 19,
    "start_time": "2021-06-20T18:48:13.699Z"
   },
   {
    "duration": 19,
    "start_time": "2021-06-20T18:48:13.721Z"
   },
   {
    "duration": 14,
    "start_time": "2021-06-20T18:48:13.742Z"
   },
   {
    "duration": 5,
    "start_time": "2021-06-20T18:48:13.758Z"
   },
   {
    "duration": 13,
    "start_time": "2021-06-20T18:48:13.765Z"
   },
   {
    "duration": 35,
    "start_time": "2021-06-20T18:48:13.781Z"
   },
   {
    "duration": 55,
    "start_time": "2021-06-20T18:48:13.818Z"
   },
   {
    "duration": 21,
    "start_time": "2021-06-20T18:48:13.876Z"
   },
   {
    "duration": 19,
    "start_time": "2021-06-20T18:48:13.900Z"
   },
   {
    "duration": 428,
    "start_time": "2021-06-20T18:48:13.956Z"
   },
   {
    "duration": 408,
    "start_time": "2021-06-20T19:09:46.551Z"
   },
   {
    "duration": 2585,
    "start_time": "2021-06-20T19:12:21.465Z"
   },
   {
    "duration": 75,
    "start_time": "2021-06-20T19:12:24.056Z"
   },
   {
    "duration": 32,
    "start_time": "2021-06-20T19:12:24.136Z"
   },
   {
    "duration": 23,
    "start_time": "2021-06-20T19:12:24.172Z"
   },
   {
    "duration": 20,
    "start_time": "2021-06-20T19:12:24.199Z"
   },
   {
    "duration": 34,
    "start_time": "2021-06-20T19:12:24.222Z"
   },
   {
    "duration": 14,
    "start_time": "2021-06-20T19:12:24.259Z"
   },
   {
    "duration": 39,
    "start_time": "2021-06-20T19:12:24.276Z"
   },
   {
    "duration": 22,
    "start_time": "2021-06-20T19:12:24.355Z"
   },
   {
    "duration": 23,
    "start_time": "2021-06-20T19:12:24.379Z"
   },
   {
    "duration": 52,
    "start_time": "2021-06-20T19:12:24.404Z"
   },
   {
    "duration": 440,
    "start_time": "2021-06-20T19:12:24.458Z"
   },
   {
    "duration": 1846,
    "start_time": "2021-06-20T19:25:44.529Z"
   },
   {
    "duration": 72,
    "start_time": "2021-06-20T19:25:46.378Z"
   },
   {
    "duration": 23,
    "start_time": "2021-06-20T19:25:46.454Z"
   },
   {
    "duration": 17,
    "start_time": "2021-06-20T19:25:46.482Z"
   },
   {
    "duration": 56,
    "start_time": "2021-06-20T19:25:46.502Z"
   },
   {
    "duration": 5,
    "start_time": "2021-06-20T19:25:46.561Z"
   },
   {
    "duration": 17,
    "start_time": "2021-06-20T19:25:46.569Z"
   },
   {
    "duration": 69,
    "start_time": "2021-06-20T19:25:46.590Z"
   },
   {
    "duration": 19,
    "start_time": "2021-06-20T19:25:46.662Z"
   },
   {
    "duration": 20,
    "start_time": "2021-06-20T19:25:46.684Z"
   },
   {
    "duration": 53,
    "start_time": "2021-06-20T19:25:46.706Z"
   },
   {
    "duration": 475,
    "start_time": "2021-06-20T19:25:46.761Z"
   },
   {
    "duration": 624,
    "start_time": "2021-06-20T19:30:56.736Z"
   },
   {
    "duration": 426,
    "start_time": "2021-06-20T19:31:13.702Z"
   },
   {
    "duration": 443,
    "start_time": "2021-06-20T19:31:18.097Z"
   },
   {
    "duration": 126,
    "start_time": "2021-06-20T19:37:45.602Z"
   },
   {
    "duration": 82,
    "start_time": "2021-06-20T19:38:04.082Z"
   },
   {
    "duration": 482,
    "start_time": "2021-06-20T19:38:07.939Z"
   },
   {
    "duration": 9,
    "start_time": "2021-06-20T19:38:25.644Z"
   },
   {
    "duration": 1918,
    "start_time": "2021-06-20T19:40:38.769Z"
   },
   {
    "duration": 68,
    "start_time": "2021-06-20T19:40:40.690Z"
   },
   {
    "duration": 20,
    "start_time": "2021-06-20T19:40:40.761Z"
   },
   {
    "duration": 16,
    "start_time": "2021-06-20T19:40:40.784Z"
   },
   {
    "duration": 14,
    "start_time": "2021-06-20T19:40:40.802Z"
   },
   {
    "duration": 38,
    "start_time": "2021-06-20T19:40:40.818Z"
   },
   {
    "duration": 13,
    "start_time": "2021-06-20T19:40:40.858Z"
   },
   {
    "duration": 38,
    "start_time": "2021-06-20T19:40:40.874Z"
   },
   {
    "duration": 47,
    "start_time": "2021-06-20T19:40:40.915Z"
   },
   {
    "duration": 21,
    "start_time": "2021-06-20T19:40:40.965Z"
   },
   {
    "duration": 20,
    "start_time": "2021-06-20T19:40:40.989Z"
   },
   {
    "duration": 494,
    "start_time": "2021-06-20T19:40:41.012Z"
   },
   {
    "duration": 10,
    "start_time": "2021-06-20T19:40:41.508Z"
   },
   {
    "duration": 9,
    "start_time": "2021-06-20T19:50:37.407Z"
   },
   {
    "duration": 9,
    "start_time": "2021-06-20T19:52:03.361Z"
   },
   {
    "duration": 10,
    "start_time": "2021-06-20T19:52:03.554Z"
   },
   {
    "duration": 2333,
    "start_time": "2021-06-20T19:52:12.048Z"
   },
   {
    "duration": 67,
    "start_time": "2021-06-20T19:52:14.383Z"
   },
   {
    "duration": 20,
    "start_time": "2021-06-20T19:52:14.454Z"
   },
   {
    "duration": 16,
    "start_time": "2021-06-20T19:52:14.477Z"
   },
   {
    "duration": 14,
    "start_time": "2021-06-20T19:52:14.495Z"
   },
   {
    "duration": 44,
    "start_time": "2021-06-20T19:52:14.512Z"
   },
   {
    "duration": 14,
    "start_time": "2021-06-20T19:52:14.559Z"
   },
   {
    "duration": 36,
    "start_time": "2021-06-20T19:52:14.576Z"
   },
   {
    "duration": 49,
    "start_time": "2021-06-20T19:52:14.615Z"
   },
   {
    "duration": 22,
    "start_time": "2021-06-20T19:52:14.667Z"
   },
   {
    "duration": 20,
    "start_time": "2021-06-20T19:52:14.691Z"
   },
   {
    "duration": 482,
    "start_time": "2021-06-20T19:52:14.713Z"
   },
   {
    "duration": 9,
    "start_time": "2021-06-20T19:52:15.198Z"
   },
   {
    "duration": 19,
    "start_time": "2021-06-20T19:52:15.209Z"
   },
   {
    "duration": 466,
    "start_time": "2021-06-20T20:05:29.321Z"
   },
   {
    "duration": 20,
    "start_time": "2021-06-20T20:06:07.572Z"
   },
   {
    "duration": 22,
    "start_time": "2021-06-20T20:06:25.320Z"
   },
   {
    "duration": 10,
    "start_time": "2021-06-20T20:15:33.685Z"
   },
   {
    "duration": 11,
    "start_time": "2021-06-20T20:15:38.755Z"
   },
   {
    "duration": 1791,
    "start_time": "2021-06-20T20:16:48.691Z"
   },
   {
    "duration": 68,
    "start_time": "2021-06-20T20:16:50.485Z"
   },
   {
    "duration": 20,
    "start_time": "2021-06-20T20:16:50.556Z"
   },
   {
    "duration": 15,
    "start_time": "2021-06-20T20:16:50.579Z"
   },
   {
    "duration": 14,
    "start_time": "2021-06-20T20:16:50.596Z"
   },
   {
    "duration": 5,
    "start_time": "2021-06-20T20:16:50.612Z"
   },
   {
    "duration": 12,
    "start_time": "2021-06-20T20:16:50.656Z"
   },
   {
    "duration": 35,
    "start_time": "2021-06-20T20:16:50.672Z"
   },
   {
    "duration": 56,
    "start_time": "2021-06-20T20:16:50.709Z"
   },
   {
    "duration": 20,
    "start_time": "2021-06-20T20:16:50.768Z"
   },
   {
    "duration": 19,
    "start_time": "2021-06-20T20:16:50.790Z"
   },
   {
    "duration": 497,
    "start_time": "2021-06-20T20:16:50.812Z"
   },
   {
    "duration": 10,
    "start_time": "2021-06-20T20:16:51.312Z"
   },
   {
    "duration": 31,
    "start_time": "2021-06-20T20:16:51.325Z"
   },
   {
    "duration": 11,
    "start_time": "2021-06-20T20:16:51.359Z"
   },
   {
    "duration": 22,
    "start_time": "2021-06-20T20:16:51.372Z"
   },
   {
    "duration": 518,
    "start_time": "2021-06-20T20:17:30.570Z"
   },
   {
    "duration": 1797,
    "start_time": "2021-06-20T20:17:38.984Z"
   },
   {
    "duration": 69,
    "start_time": "2021-06-20T20:17:40.783Z"
   },
   {
    "duration": 20,
    "start_time": "2021-06-20T20:17:40.855Z"
   },
   {
    "duration": 15,
    "start_time": "2021-06-20T20:17:40.878Z"
   },
   {
    "duration": 17,
    "start_time": "2021-06-20T20:17:40.895Z"
   },
   {
    "duration": 40,
    "start_time": "2021-06-20T20:17:40.915Z"
   },
   {
    "duration": 12,
    "start_time": "2021-06-20T20:17:40.958Z"
   },
   {
    "duration": 38,
    "start_time": "2021-06-20T20:17:40.974Z"
   },
   {
    "duration": 47,
    "start_time": "2021-06-20T20:17:41.015Z"
   },
   {
    "duration": 20,
    "start_time": "2021-06-20T20:17:41.064Z"
   },
   {
    "duration": 19,
    "start_time": "2021-06-20T20:17:41.087Z"
   },
   {
    "duration": 572,
    "start_time": "2021-06-20T20:17:41.108Z"
   },
   {
    "duration": 9,
    "start_time": "2021-06-20T20:17:41.683Z"
   },
   {
    "duration": 18,
    "start_time": "2021-06-20T20:17:41.695Z"
   },
   {
    "duration": 11,
    "start_time": "2021-06-20T20:17:41.716Z"
   },
   {
    "duration": 13,
    "start_time": "2021-06-20T20:17:41.757Z"
   },
   {
    "duration": 532,
    "start_time": "2021-06-20T20:19:01.317Z"
   },
   {
    "duration": 1785,
    "start_time": "2021-06-20T20:19:12.705Z"
   },
   {
    "duration": 70,
    "start_time": "2021-06-20T20:19:14.493Z"
   },
   {
    "duration": 24,
    "start_time": "2021-06-20T20:19:14.567Z"
   },
   {
    "duration": 18,
    "start_time": "2021-06-20T20:19:14.594Z"
   },
   {
    "duration": 48,
    "start_time": "2021-06-20T20:19:14.615Z"
   },
   {
    "duration": 5,
    "start_time": "2021-06-20T20:19:14.667Z"
   },
   {
    "duration": 19,
    "start_time": "2021-06-20T20:19:14.675Z"
   },
   {
    "duration": 66,
    "start_time": "2021-06-20T20:19:14.696Z"
   },
   {
    "duration": 21,
    "start_time": "2021-06-20T20:19:14.767Z"
   },
   {
    "duration": 20,
    "start_time": "2021-06-20T20:19:14.791Z"
   },
   {
    "duration": 57,
    "start_time": "2021-06-20T20:19:14.813Z"
   },
   {
    "duration": 527,
    "start_time": "2021-06-20T20:19:14.873Z"
   },
   {
    "duration": 8,
    "start_time": "2021-06-20T20:19:15.403Z"
   },
   {
    "duration": 10,
    "start_time": "2021-06-20T20:19:15.414Z"
   },
   {
    "duration": 35,
    "start_time": "2021-06-20T20:19:15.426Z"
   },
   {
    "duration": 16,
    "start_time": "2021-06-20T20:19:15.463Z"
   },
   {
    "duration": 540,
    "start_time": "2021-06-20T20:19:57.119Z"
   },
   {
    "duration": 500,
    "start_time": "2021-06-20T20:20:06.359Z"
   },
   {
    "duration": 1949,
    "start_time": "2021-06-20T20:20:12.537Z"
   },
   {
    "duration": 71,
    "start_time": "2021-06-20T20:20:14.489Z"
   },
   {
    "duration": 22,
    "start_time": "2021-06-20T20:20:14.563Z"
   },
   {
    "duration": 19,
    "start_time": "2021-06-20T20:20:14.589Z"
   },
   {
    "duration": 54,
    "start_time": "2021-06-20T20:20:14.611Z"
   },
   {
    "duration": 5,
    "start_time": "2021-06-20T20:20:14.668Z"
   },
   {
    "duration": 14,
    "start_time": "2021-06-20T20:20:14.676Z"
   },
   {
    "duration": 73,
    "start_time": "2021-06-20T20:20:14.694Z"
   },
   {
    "duration": 20,
    "start_time": "2021-06-20T20:20:14.769Z"
   },
   {
    "duration": 19,
    "start_time": "2021-06-20T20:20:14.791Z"
   },
   {
    "duration": 50,
    "start_time": "2021-06-20T20:20:14.812Z"
   },
   {
    "duration": 535,
    "start_time": "2021-06-20T20:20:14.864Z"
   },
   {
    "duration": 9,
    "start_time": "2021-06-20T20:20:15.402Z"
   },
   {
    "duration": 9,
    "start_time": "2021-06-20T20:20:15.414Z"
   },
   {
    "duration": 37,
    "start_time": "2021-06-20T20:20:15.425Z"
   },
   {
    "duration": 14,
    "start_time": "2021-06-20T20:20:15.464Z"
   },
   {
    "duration": 1868,
    "start_time": "2021-06-20T20:22:48.131Z"
   },
   {
    "duration": 68,
    "start_time": "2021-06-20T20:22:50.001Z"
   },
   {
    "duration": 20,
    "start_time": "2021-06-20T20:22:50.073Z"
   },
   {
    "duration": 21,
    "start_time": "2021-06-20T20:22:50.096Z"
   },
   {
    "duration": 25,
    "start_time": "2021-06-20T20:22:50.119Z"
   },
   {
    "duration": 5,
    "start_time": "2021-06-20T20:22:50.157Z"
   },
   {
    "duration": 20,
    "start_time": "2021-06-20T20:22:50.164Z"
   },
   {
    "duration": 36,
    "start_time": "2021-06-20T20:22:50.187Z"
   },
   {
    "duration": 46,
    "start_time": "2021-06-20T20:22:50.226Z"
   },
   {
    "duration": 21,
    "start_time": "2021-06-20T20:22:50.274Z"
   },
   {
    "duration": 21,
    "start_time": "2021-06-20T20:22:50.297Z"
   },
   {
    "duration": 551,
    "start_time": "2021-06-20T20:22:50.321Z"
   },
   {
    "duration": 9,
    "start_time": "2021-06-20T20:22:50.875Z"
   },
   {
    "duration": 17,
    "start_time": "2021-06-20T20:22:50.886Z"
   },
   {
    "duration": 10,
    "start_time": "2021-06-20T20:22:50.905Z"
   },
   {
    "duration": 44,
    "start_time": "2021-06-20T20:22:50.917Z"
   },
   {
    "duration": 1913,
    "start_time": "2021-06-21T05:57:26.587Z"
   },
   {
    "duration": 63,
    "start_time": "2021-06-21T05:57:28.503Z"
   },
   {
    "duration": 20,
    "start_time": "2021-06-21T05:57:28.568Z"
   },
   {
    "duration": 16,
    "start_time": "2021-06-21T05:57:28.590Z"
   },
   {
    "duration": 15,
    "start_time": "2021-06-21T05:57:28.608Z"
   },
   {
    "duration": 5,
    "start_time": "2021-06-21T05:57:28.626Z"
   },
   {
    "duration": 57,
    "start_time": "2021-06-21T05:57:28.634Z"
   },
   {
    "duration": 33,
    "start_time": "2021-06-21T05:57:28.694Z"
   },
   {
    "duration": 57,
    "start_time": "2021-06-21T05:57:28.730Z"
   },
   {
    "duration": 19,
    "start_time": "2021-06-21T05:57:28.790Z"
   },
   {
    "duration": 20,
    "start_time": "2021-06-21T05:57:28.811Z"
   },
   {
    "duration": 530,
    "start_time": "2021-06-21T05:57:28.834Z"
   },
   {
    "duration": 19,
    "start_time": "2021-06-21T05:57:29.367Z"
   },
   {
    "duration": 11,
    "start_time": "2021-06-21T05:57:29.389Z"
   },
   {
    "duration": 13,
    "start_time": "2021-06-21T05:57:29.403Z"
   },
   {
    "duration": 15,
    "start_time": "2021-06-21T05:57:29.419Z"
   },
   {
    "duration": 10,
    "start_time": "2021-06-21T05:57:49.264Z"
   },
   {
    "duration": 2004,
    "start_time": "2021-06-21T06:00:00.913Z"
   },
   {
    "duration": 67,
    "start_time": "2021-06-21T06:00:02.920Z"
   },
   {
    "duration": 32,
    "start_time": "2021-06-21T06:00:02.996Z"
   },
   {
    "duration": 19,
    "start_time": "2021-06-21T06:00:03.031Z"
   },
   {
    "duration": 15,
    "start_time": "2021-06-21T06:00:03.084Z"
   },
   {
    "duration": 6,
    "start_time": "2021-06-21T06:00:03.102Z"
   },
   {
    "duration": 28,
    "start_time": "2021-06-21T06:00:03.112Z"
   },
   {
    "duration": 57,
    "start_time": "2021-06-21T06:00:03.143Z"
   },
   {
    "duration": 22,
    "start_time": "2021-06-21T06:00:03.202Z"
   },
   {
    "duration": 26,
    "start_time": "2021-06-21T06:00:03.227Z"
   },
   {
    "duration": 22,
    "start_time": "2021-06-21T06:00:03.284Z"
   },
   {
    "duration": 526,
    "start_time": "2021-06-21T06:00:03.308Z"
   },
   {
    "duration": 10,
    "start_time": "2021-06-21T06:00:03.837Z"
   },
   {
    "duration": 33,
    "start_time": "2021-06-21T06:00:03.850Z"
   },
   {
    "duration": 12,
    "start_time": "2021-06-21T06:00:03.885Z"
   },
   {
    "duration": 18,
    "start_time": "2021-06-21T06:00:03.899Z"
   },
   {
    "duration": 1347,
    "start_time": "2021-06-21T09:05:36.061Z"
   },
   {
    "duration": 67,
    "start_time": "2021-06-21T09:05:37.410Z"
   },
   {
    "duration": 13,
    "start_time": "2021-06-21T09:05:37.479Z"
   },
   {
    "duration": 10,
    "start_time": "2021-06-21T09:05:37.494Z"
   },
   {
    "duration": 9,
    "start_time": "2021-06-21T09:05:37.505Z"
   },
   {
    "duration": 3,
    "start_time": "2021-06-21T09:05:37.515Z"
   },
   {
    "duration": 8,
    "start_time": "2021-06-21T09:05:37.520Z"
   },
   {
    "duration": 55,
    "start_time": "2021-06-21T09:05:37.530Z"
   },
   {
    "duration": 13,
    "start_time": "2021-06-21T09:05:37.586Z"
   },
   {
    "duration": 12,
    "start_time": "2021-06-21T09:05:37.601Z"
   },
   {
    "duration": 12,
    "start_time": "2021-06-21T09:05:37.615Z"
   },
   {
    "duration": 331,
    "start_time": "2021-06-21T09:05:37.628Z"
   },
   {
    "duration": 6,
    "start_time": "2021-06-21T09:05:37.961Z"
   },
   {
    "duration": 16,
    "start_time": "2021-06-21T09:05:37.969Z"
   },
   {
    "duration": 7,
    "start_time": "2021-06-21T09:05:37.987Z"
   },
   {
    "duration": 9,
    "start_time": "2021-06-21T09:05:37.996Z"
   },
   {
    "duration": 4,
    "start_time": "2021-06-21T09:31:48.049Z"
   },
   {
    "duration": 4,
    "start_time": "2021-06-21T09:32:46.799Z"
   },
   {
    "duration": 4,
    "start_time": "2021-06-21T09:38:05.187Z"
   },
   {
    "duration": 1347,
    "start_time": "2021-06-21T09:38:13.066Z"
   },
   {
    "duration": 67,
    "start_time": "2021-06-21T09:38:14.414Z"
   },
   {
    "duration": 14,
    "start_time": "2021-06-21T09:38:14.483Z"
   },
   {
    "duration": 10,
    "start_time": "2021-06-21T09:38:14.499Z"
   },
   {
    "duration": 9,
    "start_time": "2021-06-21T09:38:14.510Z"
   },
   {
    "duration": 3,
    "start_time": "2021-06-21T09:38:14.521Z"
   },
   {
    "duration": 9,
    "start_time": "2021-06-21T09:38:14.525Z"
   },
   {
    "duration": 57,
    "start_time": "2021-06-21T09:38:14.537Z"
   },
   {
    "duration": 12,
    "start_time": "2021-06-21T09:38:14.596Z"
   },
   {
    "duration": 13,
    "start_time": "2021-06-21T09:38:14.610Z"
   },
   {
    "duration": 14,
    "start_time": "2021-06-21T09:38:14.625Z"
   },
   {
    "duration": 362,
    "start_time": "2021-06-21T09:38:14.641Z"
   },
   {
    "duration": 7,
    "start_time": "2021-06-21T09:38:15.005Z"
   },
   {
    "duration": 10,
    "start_time": "2021-06-21T09:38:15.015Z"
   },
   {
    "duration": 8,
    "start_time": "2021-06-21T09:38:15.027Z"
   },
   {
    "duration": 15,
    "start_time": "2021-06-21T09:38:15.037Z"
   },
   {
    "duration": 4,
    "start_time": "2021-06-21T09:38:15.084Z"
   },
   {
    "duration": 1343,
    "start_time": "2021-06-21T09:58:45.878Z"
   },
   {
    "duration": 89,
    "start_time": "2021-06-21T09:58:47.222Z"
   },
   {
    "duration": 14,
    "start_time": "2021-06-21T09:58:47.313Z"
   },
   {
    "duration": 12,
    "start_time": "2021-06-21T09:58:47.329Z"
   },
   {
    "duration": 9,
    "start_time": "2021-06-21T09:58:47.343Z"
   },
   {
    "duration": 3,
    "start_time": "2021-06-21T09:58:47.353Z"
   },
   {
    "duration": 11,
    "start_time": "2021-06-21T09:58:47.358Z"
   },
   {
    "duration": 34,
    "start_time": "2021-06-21T09:58:47.370Z"
   },
   {
    "duration": 12,
    "start_time": "2021-06-21T09:58:47.406Z"
   },
   {
    "duration": 15,
    "start_time": "2021-06-21T09:58:47.420Z"
   },
   {
    "duration": 12,
    "start_time": "2021-06-21T09:58:47.437Z"
   },
   {
    "duration": 358,
    "start_time": "2021-06-21T09:58:47.450Z"
   },
   {
    "duration": 7,
    "start_time": "2021-06-21T09:58:47.809Z"
   },
   {
    "duration": 15,
    "start_time": "2021-06-21T09:58:47.817Z"
   },
   {
    "duration": 13,
    "start_time": "2021-06-21T09:58:47.834Z"
   },
   {
    "duration": 14,
    "start_time": "2021-06-21T09:58:47.849Z"
   },
   {
    "duration": 16,
    "start_time": "2021-06-21T09:58:47.864Z"
   },
   {
    "duration": 294,
    "start_time": "2021-06-21T10:30:14.205Z"
   },
   {
    "duration": 1345,
    "start_time": "2021-06-21T10:30:23.280Z"
   },
   {
    "duration": 87,
    "start_time": "2021-06-21T10:30:24.626Z"
   },
   {
    "duration": 13,
    "start_time": "2021-06-21T10:30:24.715Z"
   },
   {
    "duration": 8,
    "start_time": "2021-06-21T10:30:24.730Z"
   },
   {
    "duration": 14,
    "start_time": "2021-06-21T10:30:24.740Z"
   },
   {
    "duration": 4,
    "start_time": "2021-06-21T10:30:24.755Z"
   },
   {
    "duration": 9,
    "start_time": "2021-06-21T10:30:24.760Z"
   },
   {
    "duration": 26,
    "start_time": "2021-06-21T10:30:24.771Z"
   },
   {
    "duration": 12,
    "start_time": "2021-06-21T10:30:24.799Z"
   },
   {
    "duration": 13,
    "start_time": "2021-06-21T10:30:24.813Z"
   },
   {
    "duration": 13,
    "start_time": "2021-06-21T10:30:24.827Z"
   },
   {
    "duration": 369,
    "start_time": "2021-06-21T10:30:24.841Z"
   },
   {
    "duration": 6,
    "start_time": "2021-06-21T10:30:25.211Z"
   },
   {
    "duration": 12,
    "start_time": "2021-06-21T10:30:25.219Z"
   },
   {
    "duration": 8,
    "start_time": "2021-06-21T10:30:25.233Z"
   },
   {
    "duration": 13,
    "start_time": "2021-06-21T10:30:25.243Z"
   },
   {
    "duration": 4,
    "start_time": "2021-06-21T10:30:25.258Z"
   },
   {
    "duration": 213,
    "start_time": "2021-06-21T10:30:44.374Z"
   },
   {
    "duration": 1324,
    "start_time": "2021-06-21T10:30:58.191Z"
   },
   {
    "duration": 89,
    "start_time": "2021-06-21T10:30:59.516Z"
   },
   {
    "duration": 13,
    "start_time": "2021-06-21T10:30:59.606Z"
   },
   {
    "duration": 9,
    "start_time": "2021-06-21T10:30:59.621Z"
   },
   {
    "duration": 13,
    "start_time": "2021-06-21T10:30:59.631Z"
   },
   {
    "duration": 7,
    "start_time": "2021-06-21T10:30:59.646Z"
   },
   {
    "duration": 15,
    "start_time": "2021-06-21T10:30:59.654Z"
   },
   {
    "duration": 29,
    "start_time": "2021-06-21T10:30:59.671Z"
   },
   {
    "duration": 12,
    "start_time": "2021-06-21T10:30:59.702Z"
   },
   {
    "duration": 14,
    "start_time": "2021-06-21T10:30:59.716Z"
   },
   {
    "duration": 12,
    "start_time": "2021-06-21T10:30:59.732Z"
   },
   {
    "duration": 341,
    "start_time": "2021-06-21T10:30:59.746Z"
   },
   {
    "duration": 8,
    "start_time": "2021-06-21T10:31:00.090Z"
   },
   {
    "duration": 21,
    "start_time": "2021-06-21T10:31:00.099Z"
   },
   {
    "duration": 16,
    "start_time": "2021-06-21T10:31:00.122Z"
   },
   {
    "duration": 14,
    "start_time": "2021-06-21T10:31:00.140Z"
   },
   {
    "duration": 5,
    "start_time": "2021-06-21T10:31:00.156Z"
   },
   {
    "duration": 10,
    "start_time": "2021-06-21T10:31:00.162Z"
   },
   {
    "duration": 1973,
    "start_time": "2021-06-22T08:12:06.944Z"
   },
   {
    "duration": 68,
    "start_time": "2021-06-22T08:12:08.921Z"
   },
   {
    "duration": 26,
    "start_time": "2021-06-22T08:12:08.994Z"
   },
   {
    "duration": 18,
    "start_time": "2021-06-22T08:12:09.024Z"
   },
   {
    "duration": 28,
    "start_time": "2021-06-22T08:12:09.045Z"
   },
   {
    "duration": 5,
    "start_time": "2021-06-22T08:12:09.076Z"
   },
   {
    "duration": 17,
    "start_time": "2021-06-22T08:12:09.084Z"
   },
   {
    "duration": 84,
    "start_time": "2021-06-22T08:12:09.104Z"
   },
   {
    "duration": 22,
    "start_time": "2021-06-22T08:12:09.193Z"
   },
   {
    "duration": 54,
    "start_time": "2021-06-22T08:12:09.219Z"
   },
   {
    "duration": 22,
    "start_time": "2021-06-22T08:12:09.276Z"
   },
   {
    "duration": 572,
    "start_time": "2021-06-22T08:12:09.301Z"
   },
   {
    "duration": 9,
    "start_time": "2021-06-22T08:12:09.876Z"
   },
   {
    "duration": 12,
    "start_time": "2021-06-22T08:12:09.889Z"
   },
   {
    "duration": 11,
    "start_time": "2021-06-22T08:12:09.904Z"
   },
   {
    "duration": 16,
    "start_time": "2021-06-22T08:12:09.962Z"
   },
   {
    "duration": 7,
    "start_time": "2021-06-22T08:12:09.981Z"
   },
   {
    "duration": 15,
    "start_time": "2021-06-22T08:12:09.991Z"
   },
   {
    "duration": 1938,
    "start_time": "2021-06-22T08:13:11.963Z"
   },
   {
    "duration": 63,
    "start_time": "2021-06-22T08:13:13.903Z"
   },
   {
    "duration": 20,
    "start_time": "2021-06-22T08:13:13.969Z"
   },
   {
    "duration": 19,
    "start_time": "2021-06-22T08:13:13.992Z"
   },
   {
    "duration": 50,
    "start_time": "2021-06-22T08:13:14.014Z"
   },
   {
    "duration": 5,
    "start_time": "2021-06-22T08:13:14.068Z"
   },
   {
    "duration": 14,
    "start_time": "2021-06-22T08:13:14.077Z"
   },
   {
    "duration": 77,
    "start_time": "2021-06-22T08:13:14.097Z"
   },
   {
    "duration": 20,
    "start_time": "2021-06-22T08:13:14.177Z"
   },
   {
    "duration": 20,
    "start_time": "2021-06-22T08:13:14.200Z"
   },
   {
    "duration": 58,
    "start_time": "2021-06-22T08:13:14.222Z"
   },
   {
    "duration": 552,
    "start_time": "2021-06-22T08:13:14.282Z"
   },
   {
    "duration": 10,
    "start_time": "2021-06-22T08:13:14.836Z"
   },
   {
    "duration": 10,
    "start_time": "2021-06-22T08:13:14.862Z"
   },
   {
    "duration": 12,
    "start_time": "2021-06-22T08:13:14.874Z"
   },
   {
    "duration": 15,
    "start_time": "2021-06-22T08:13:14.888Z"
   },
   {
    "duration": 4,
    "start_time": "2021-06-22T08:13:14.905Z"
   },
   {
    "duration": 8,
    "start_time": "2021-06-22T08:23:36.076Z"
   },
   {
    "duration": 1893,
    "start_time": "2021-06-22T08:30:37.149Z"
   },
   {
    "duration": 64,
    "start_time": "2021-06-22T08:30:39.045Z"
   },
   {
    "duration": 22,
    "start_time": "2021-06-22T08:30:39.113Z"
   },
   {
    "duration": 17,
    "start_time": "2021-06-22T08:30:39.138Z"
   },
   {
    "duration": 15,
    "start_time": "2021-06-22T08:30:39.157Z"
   },
   {
    "duration": 5,
    "start_time": "2021-06-22T08:30:39.175Z"
   },
   {
    "duration": 15,
    "start_time": "2021-06-22T08:30:39.183Z"
   },
   {
    "duration": 74,
    "start_time": "2021-06-22T08:30:39.201Z"
   },
   {
    "duration": 22,
    "start_time": "2021-06-22T08:30:39.281Z"
   },
   {
    "duration": 59,
    "start_time": "2021-06-22T08:30:39.307Z"
   },
   {
    "duration": 21,
    "start_time": "2021-06-22T08:30:39.370Z"
   },
   {
    "duration": 567,
    "start_time": "2021-06-22T08:30:39.395Z"
   },
   {
    "duration": 11,
    "start_time": "2021-06-22T08:30:39.964Z"
   },
   {
    "duration": 12,
    "start_time": "2021-06-22T08:30:39.978Z"
   },
   {
    "duration": 11,
    "start_time": "2021-06-22T08:30:39.992Z"
   },
   {
    "duration": 60,
    "start_time": "2021-06-22T08:30:40.006Z"
   },
   {
    "duration": 8,
    "start_time": "2021-06-22T08:30:40.069Z"
   },
   {
    "duration": 13,
    "start_time": "2021-06-22T08:30:40.079Z"
   },
   {
    "duration": 507,
    "start_time": "2021-06-22T08:30:53.637Z"
   },
   {
    "duration": 333,
    "start_time": "2021-06-22T08:31:20.533Z"
   },
   {
    "duration": 118,
    "start_time": "2021-06-22T08:31:39.210Z"
   },
   {
    "duration": 118,
    "start_time": "2021-06-22T08:31:57.952Z"
   },
   {
    "duration": 4503,
    "start_time": "2021-06-22T08:32:12.574Z"
   },
   {
    "duration": 32,
    "start_time": "2021-06-22T08:54:26.139Z"
   },
   {
    "duration": 18,
    "start_time": "2021-06-22T08:54:32.869Z"
   },
   {
    "duration": 2373,
    "start_time": "2021-06-22T08:55:47.868Z"
   },
   {
    "duration": 65,
    "start_time": "2021-06-22T08:55:50.244Z"
   },
   {
    "duration": 23,
    "start_time": "2021-06-22T08:55:50.312Z"
   },
   {
    "duration": 18,
    "start_time": "2021-06-22T08:55:50.338Z"
   },
   {
    "duration": 16,
    "start_time": "2021-06-22T08:55:50.359Z"
   },
   {
    "duration": 4,
    "start_time": "2021-06-22T08:55:50.378Z"
   },
   {
    "duration": 15,
    "start_time": "2021-06-22T08:55:50.385Z"
   },
   {
    "duration": 78,
    "start_time": "2021-06-22T08:55:50.406Z"
   },
   {
    "duration": 23,
    "start_time": "2021-06-22T08:55:50.487Z"
   },
   {
    "duration": 53,
    "start_time": "2021-06-22T08:55:50.513Z"
   },
   {
    "duration": 20,
    "start_time": "2021-06-22T08:55:50.568Z"
   },
   {
    "duration": 557,
    "start_time": "2021-06-22T08:55:50.591Z"
   },
   {
    "duration": 18,
    "start_time": "2021-06-22T08:55:51.150Z"
   },
   {
    "duration": 27,
    "start_time": "2021-06-22T08:55:51.171Z"
   },
   {
    "duration": 11,
    "start_time": "2021-06-22T08:55:51.201Z"
   },
   {
    "duration": 17,
    "start_time": "2021-06-22T08:55:51.215Z"
   },
   {
    "duration": 6,
    "start_time": "2021-06-22T08:55:51.262Z"
   },
   {
    "duration": 12,
    "start_time": "2021-06-22T08:55:51.271Z"
   },
   {
    "duration": 380,
    "start_time": "2021-06-22T08:55:51.286Z"
   },
   {
    "duration": 377,
    "start_time": "2021-06-22T08:59:41.247Z"
   },
   {
    "duration": 2665,
    "start_time": "2021-06-22T08:59:48.741Z"
   },
   {
    "duration": 64,
    "start_time": "2021-06-22T08:59:51.409Z"
   },
   {
    "duration": 23,
    "start_time": "2021-06-22T08:59:51.476Z"
   },
   {
    "duration": 17,
    "start_time": "2021-06-22T08:59:51.502Z"
   },
   {
    "duration": 47,
    "start_time": "2021-06-22T08:59:51.522Z"
   },
   {
    "duration": 4,
    "start_time": "2021-06-22T08:59:51.572Z"
   },
   {
    "duration": 21,
    "start_time": "2021-06-22T08:59:51.579Z"
   },
   {
    "duration": 79,
    "start_time": "2021-06-22T08:59:51.605Z"
   },
   {
    "duration": 21,
    "start_time": "2021-06-22T08:59:51.687Z"
   },
   {
    "duration": 64,
    "start_time": "2021-06-22T08:59:51.711Z"
   },
   {
    "duration": 23,
    "start_time": "2021-06-22T08:59:51.778Z"
   },
   {
    "duration": 587,
    "start_time": "2021-06-22T08:59:51.804Z"
   },
   {
    "duration": 13,
    "start_time": "2021-06-22T08:59:52.394Z"
   },
   {
    "duration": 12,
    "start_time": "2021-06-22T08:59:52.410Z"
   },
   {
    "duration": 41,
    "start_time": "2021-06-22T08:59:52.424Z"
   },
   {
    "duration": 18,
    "start_time": "2021-06-22T08:59:52.468Z"
   },
   {
    "duration": 17,
    "start_time": "2021-06-22T08:59:52.489Z"
   },
   {
    "duration": 27,
    "start_time": "2021-06-22T08:59:52.509Z"
   },
   {
    "duration": 574,
    "start_time": "2021-06-22T08:59:52.540Z"
   },
   {
    "duration": 312,
    "start_time": "2021-06-22T09:01:19.289Z"
   },
   {
    "duration": 15,
    "start_time": "2021-06-22T09:04:00.467Z"
   },
   {
    "duration": 19,
    "start_time": "2021-06-22T09:04:05.903Z"
   },
   {
    "duration": 478,
    "start_time": "2021-06-22T09:05:26.155Z"
   },
   {
    "duration": 665,
    "start_time": "2021-06-22T09:05:36.472Z"
   },
   {
    "duration": 1067,
    "start_time": "2021-06-22T09:07:24.602Z"
   },
   {
    "duration": 480,
    "start_time": "2021-06-22T09:07:36.600Z"
   },
   {
    "duration": 794,
    "start_time": "2021-06-22T09:08:44.155Z"
   },
   {
    "duration": 565,
    "start_time": "2021-06-22T09:09:22.115Z"
   },
   {
    "duration": 339,
    "start_time": "2021-06-22T09:18:32.088Z"
   },
   {
    "duration": 977,
    "start_time": "2021-06-22T09:18:40.962Z"
   },
   {
    "duration": 922,
    "start_time": "2021-06-22T09:18:49.720Z"
   },
   {
    "duration": 772,
    "start_time": "2021-06-22T09:18:52.608Z"
   },
   {
    "duration": 826,
    "start_time": "2021-06-22T09:20:08.059Z"
   },
   {
    "duration": 2180,
    "start_time": "2021-06-22T12:17:24.171Z"
   },
   {
    "duration": 71,
    "start_time": "2021-06-22T12:17:26.355Z"
   },
   {
    "duration": 20,
    "start_time": "2021-06-22T12:17:26.429Z"
   },
   {
    "duration": 25,
    "start_time": "2021-06-22T12:17:26.451Z"
   },
   {
    "duration": 26,
    "start_time": "2021-06-22T12:17:26.479Z"
   },
   {
    "duration": 4,
    "start_time": "2021-06-22T12:17:26.508Z"
   },
   {
    "duration": 15,
    "start_time": "2021-06-22T12:17:26.515Z"
   },
   {
    "duration": 46,
    "start_time": "2021-06-22T12:17:26.564Z"
   },
   {
    "duration": 18,
    "start_time": "2021-06-22T12:17:26.613Z"
   },
   {
    "duration": 57,
    "start_time": "2021-06-22T12:17:26.634Z"
   },
   {
    "duration": 20,
    "start_time": "2021-06-22T12:17:26.694Z"
   },
   {
    "duration": 581,
    "start_time": "2021-06-22T12:17:26.716Z"
   },
   {
    "duration": 10,
    "start_time": "2021-06-22T12:17:27.299Z"
   },
   {
    "duration": 12,
    "start_time": "2021-06-22T12:17:27.311Z"
   },
   {
    "duration": 10,
    "start_time": "2021-06-22T12:17:27.325Z"
   },
   {
    "duration": 27,
    "start_time": "2021-06-22T12:17:27.363Z"
   },
   {
    "duration": 12,
    "start_time": "2021-06-22T12:17:27.392Z"
   },
   {
    "duration": 12,
    "start_time": "2021-06-22T12:17:27.406Z"
   },
   {
    "duration": 372,
    "start_time": "2021-06-22T12:17:27.421Z"
   },
   {
    "duration": 323,
    "start_time": "2021-06-22T12:17:27.796Z"
   },
   {
    "duration": 19,
    "start_time": "2021-06-22T12:17:28.122Z"
   },
   {
    "duration": 846,
    "start_time": "2021-06-22T12:17:28.143Z"
   },
   {
    "duration": 1326,
    "start_time": "2021-06-22T12:19:25.575Z"
   },
   {
    "duration": 785,
    "start_time": "2021-06-22T12:19:54.082Z"
   },
   {
    "duration": 1188,
    "start_time": "2021-06-22T12:27:42.905Z"
   },
   {
    "duration": 908,
    "start_time": "2021-06-22T12:27:53.563Z"
   },
   {
    "duration": 1201,
    "start_time": "2021-06-22T12:30:26.549Z"
   },
   {
    "duration": 805,
    "start_time": "2021-06-22T12:30:36.870Z"
   },
   {
    "duration": 1099,
    "start_time": "2021-06-22T12:33:19.047Z"
   },
   {
    "duration": 1136,
    "start_time": "2021-06-22T12:33:29.663Z"
   },
   {
    "duration": 1088,
    "start_time": "2021-06-22T12:33:47.137Z"
   },
   {
    "duration": 826,
    "start_time": "2021-06-22T12:33:58.266Z"
   },
   {
    "duration": 373,
    "start_time": "2021-06-22T12:34:42.103Z"
   },
   {
    "duration": 968,
    "start_time": "2021-06-22T12:34:50.079Z"
   },
   {
    "duration": 839,
    "start_time": "2021-06-22T12:35:04.953Z"
   },
   {
    "duration": 816,
    "start_time": "2021-06-22T12:35:19.751Z"
   },
   {
    "duration": 845,
    "start_time": "2021-06-22T12:35:39.381Z"
   },
   {
    "duration": 1974,
    "start_time": "2021-06-22T12:40:07.937Z"
   },
   {
    "duration": 64,
    "start_time": "2021-06-22T12:40:09.914Z"
   },
   {
    "duration": 22,
    "start_time": "2021-06-22T12:40:09.982Z"
   },
   {
    "duration": 18,
    "start_time": "2021-06-22T12:40:10.007Z"
   },
   {
    "duration": 44,
    "start_time": "2021-06-22T12:40:10.028Z"
   },
   {
    "duration": 7,
    "start_time": "2021-06-22T12:40:10.076Z"
   },
   {
    "duration": 17,
    "start_time": "2021-06-22T12:40:10.086Z"
   },
   {
    "duration": 74,
    "start_time": "2021-06-22T12:40:10.109Z"
   },
   {
    "duration": 21,
    "start_time": "2021-06-22T12:40:10.188Z"
   },
   {
    "duration": 64,
    "start_time": "2021-06-22T12:40:10.212Z"
   },
   {
    "duration": 21,
    "start_time": "2021-06-22T12:40:10.294Z"
   },
   {
    "duration": 559,
    "start_time": "2021-06-22T12:40:10.318Z"
   },
   {
    "duration": 9,
    "start_time": "2021-06-22T12:40:10.879Z"
   },
   {
    "duration": 24,
    "start_time": "2021-06-22T12:40:10.891Z"
   },
   {
    "duration": 12,
    "start_time": "2021-06-22T12:40:10.917Z"
   },
   {
    "duration": 44,
    "start_time": "2021-06-22T12:40:10.931Z"
   },
   {
    "duration": 5,
    "start_time": "2021-06-22T12:40:10.978Z"
   },
   {
    "duration": 11,
    "start_time": "2021-06-22T12:40:10.986Z"
   },
   {
    "duration": 393,
    "start_time": "2021-06-22T12:40:11.000Z"
   },
   {
    "duration": 282,
    "start_time": "2021-06-22T12:40:11.395Z"
   },
   {
    "duration": 18,
    "start_time": "2021-06-22T12:40:11.680Z"
   },
   {
    "duration": 1151,
    "start_time": "2021-06-22T12:40:11.701Z"
   },
   {
    "duration": 842,
    "start_time": "2021-06-22T12:46:45.491Z"
   },
   {
    "duration": 2036,
    "start_time": "2021-06-22T12:46:52.013Z"
   },
   {
    "duration": 66,
    "start_time": "2021-06-22T12:46:54.052Z"
   },
   {
    "duration": 23,
    "start_time": "2021-06-22T12:46:54.121Z"
   },
   {
    "duration": 15,
    "start_time": "2021-06-22T12:46:54.148Z"
   },
   {
    "duration": 36,
    "start_time": "2021-06-22T12:46:54.165Z"
   },
   {
    "duration": 23,
    "start_time": "2021-06-22T12:46:54.204Z"
   },
   {
    "duration": 30,
    "start_time": "2021-06-22T12:46:54.230Z"
   },
   {
    "duration": 41,
    "start_time": "2021-06-22T12:46:54.262Z"
   },
   {
    "duration": 20,
    "start_time": "2021-06-22T12:46:54.307Z"
   },
   {
    "duration": 37,
    "start_time": "2021-06-22T12:46:54.330Z"
   },
   {
    "duration": 30,
    "start_time": "2021-06-22T12:46:54.370Z"
   },
   {
    "duration": 771,
    "start_time": "2021-06-22T12:46:54.403Z"
   },
   {
    "duration": 12,
    "start_time": "2021-06-22T12:46:55.177Z"
   },
   {
    "duration": 13,
    "start_time": "2021-06-22T12:46:55.192Z"
   },
   {
    "duration": 31,
    "start_time": "2021-06-22T12:46:55.208Z"
   },
   {
    "duration": 29,
    "start_time": "2021-06-22T12:46:55.241Z"
   },
   {
    "duration": 14,
    "start_time": "2021-06-22T12:46:55.276Z"
   },
   {
    "duration": 25,
    "start_time": "2021-06-22T12:46:55.292Z"
   },
   {
    "duration": 386,
    "start_time": "2021-06-22T12:46:55.319Z"
   },
   {
    "duration": 284,
    "start_time": "2021-06-22T12:46:55.708Z"
   },
   {
    "duration": 20,
    "start_time": "2021-06-22T12:46:55.995Z"
   },
   {
    "duration": 900,
    "start_time": "2021-06-22T12:46:56.017Z"
   },
   {
    "duration": 843,
    "start_time": "2021-06-22T12:51:07.691Z"
   },
   {
    "duration": 489,
    "start_time": "2021-06-22T13:02:57.183Z"
   },
   {
    "duration": 938,
    "start_time": "2021-06-22T13:04:43.573Z"
   },
   {
    "duration": 2194,
    "start_time": "2021-06-22T13:22:40.429Z"
   },
   {
    "duration": 65,
    "start_time": "2021-06-22T13:22:42.627Z"
   },
   {
    "duration": 21,
    "start_time": "2021-06-22T13:22:42.695Z"
   },
   {
    "duration": 14,
    "start_time": "2021-06-22T13:22:42.719Z"
   },
   {
    "duration": 26,
    "start_time": "2021-06-22T13:22:42.736Z"
   },
   {
    "duration": 9,
    "start_time": "2021-06-22T13:22:42.765Z"
   },
   {
    "duration": 15,
    "start_time": "2021-06-22T13:22:42.777Z"
   },
   {
    "duration": 70,
    "start_time": "2021-06-22T13:22:42.796Z"
   },
   {
    "duration": 26,
    "start_time": "2021-06-22T13:22:42.870Z"
   },
   {
    "duration": 26,
    "start_time": "2021-06-22T13:22:42.899Z"
   },
   {
    "duration": 60,
    "start_time": "2021-06-22T13:22:42.928Z"
   },
   {
    "duration": 568,
    "start_time": "2021-06-22T13:22:42.990Z"
   },
   {
    "duration": 14,
    "start_time": "2021-06-22T13:22:43.563Z"
   },
   {
    "duration": 13,
    "start_time": "2021-06-22T13:22:43.584Z"
   },
   {
    "duration": 13,
    "start_time": "2021-06-22T13:22:43.600Z"
   },
   {
    "duration": 57,
    "start_time": "2021-06-22T13:22:43.615Z"
   },
   {
    "duration": 9,
    "start_time": "2021-06-22T13:22:43.684Z"
   },
   {
    "duration": 12,
    "start_time": "2021-06-22T13:22:43.696Z"
   },
   {
    "duration": 408,
    "start_time": "2021-06-22T13:22:43.711Z"
   },
   {
    "duration": 277,
    "start_time": "2021-06-22T13:22:44.122Z"
   },
   {
    "duration": 19,
    "start_time": "2021-06-22T13:22:44.402Z"
   },
   {
    "duration": 868,
    "start_time": "2021-06-22T13:22:44.424Z"
   },
   {
    "duration": 860,
    "start_time": "2021-06-22T13:22:45.297Z"
   },
   {
    "duration": 1159,
    "start_time": "2021-06-22T13:22:46.160Z"
   },
   {
    "duration": 514,
    "start_time": "2021-06-22T13:26:07.524Z"
   },
   {
    "duration": 835,
    "start_time": "2021-06-22T13:28:31.123Z"
   },
   {
    "duration": 671,
    "start_time": "2021-06-22T13:33:21.763Z"
   },
   {
    "duration": 948,
    "start_time": "2021-06-22T13:40:59.256Z"
   },
   {
    "duration": 900,
    "start_time": "2021-06-22T13:41:14.291Z"
   },
   {
    "duration": 969,
    "start_time": "2021-06-22T13:41:53.425Z"
   },
   {
    "duration": 1908,
    "start_time": "2021-06-22T13:50:47.366Z"
   },
   {
    "duration": 63,
    "start_time": "2021-06-22T13:50:49.276Z"
   },
   {
    "duration": 22,
    "start_time": "2021-06-22T13:50:49.342Z"
   },
   {
    "duration": 30,
    "start_time": "2021-06-22T13:50:49.368Z"
   },
   {
    "duration": 37,
    "start_time": "2021-06-22T13:50:49.401Z"
   },
   {
    "duration": 28,
    "start_time": "2021-06-22T13:50:49.441Z"
   },
   {
    "duration": 22,
    "start_time": "2021-06-22T13:50:49.472Z"
   },
   {
    "duration": 48,
    "start_time": "2021-06-22T13:50:49.497Z"
   },
   {
    "duration": 30,
    "start_time": "2021-06-22T13:50:49.548Z"
   },
   {
    "duration": 25,
    "start_time": "2021-06-22T13:50:49.581Z"
   },
   {
    "duration": 36,
    "start_time": "2021-06-22T13:50:49.608Z"
   },
   {
    "duration": 576,
    "start_time": "2021-06-22T13:50:49.646Z"
   },
   {
    "duration": 10,
    "start_time": "2021-06-22T13:50:50.226Z"
   },
   {
    "duration": 26,
    "start_time": "2021-06-22T13:50:50.239Z"
   },
   {
    "duration": 41,
    "start_time": "2021-06-22T13:50:50.267Z"
   },
   {
    "duration": 34,
    "start_time": "2021-06-22T13:50:50.312Z"
   },
   {
    "duration": 17,
    "start_time": "2021-06-22T13:50:50.349Z"
   },
   {
    "duration": 26,
    "start_time": "2021-06-22T13:50:50.370Z"
   },
   {
    "duration": 527,
    "start_time": "2021-06-22T13:50:50.398Z"
   },
   {
    "duration": 315,
    "start_time": "2021-06-22T13:50:50.928Z"
   },
   {
    "duration": 35,
    "start_time": "2021-06-22T13:50:51.246Z"
   },
   {
    "duration": 1148,
    "start_time": "2021-06-22T13:50:51.284Z"
   },
   {
    "duration": 1110,
    "start_time": "2021-06-22T13:50:52.438Z"
   },
   {
    "duration": 949,
    "start_time": "2021-06-22T13:50:53.561Z"
   },
   {
    "duration": 1132,
    "start_time": "2021-06-22T13:50:54.512Z"
   },
   {
    "duration": 1001,
    "start_time": "2021-06-22T13:50:55.647Z"
   },
   {
    "duration": 403,
    "start_time": "2021-06-22T14:04:48.170Z"
   },
   {
    "duration": 752,
    "start_time": "2021-06-22T14:06:02.708Z"
   },
   {
    "duration": 256,
    "start_time": "2021-06-22T14:09:44.436Z"
   },
   {
    "duration": 194,
    "start_time": "2021-06-22T14:10:45.526Z"
   },
   {
    "duration": 687,
    "start_time": "2021-06-22T14:19:10.072Z"
   },
   {
    "duration": 629,
    "start_time": "2021-06-22T14:19:28.105Z"
   },
   {
    "duration": 102,
    "start_time": "2021-06-22T14:20:47.113Z"
   },
   {
    "duration": 480,
    "start_time": "2021-06-22T14:22:23.757Z"
   },
   {
    "duration": 423,
    "start_time": "2021-06-22T14:23:53.830Z"
   },
   {
    "duration": 610,
    "start_time": "2021-06-22T14:24:00.669Z"
   },
   {
    "duration": 540,
    "start_time": "2021-06-22T14:24:01.800Z"
   },
   {
    "duration": 6,
    "start_time": "2021-06-22T14:27:57.401Z"
   },
   {
    "duration": 527,
    "start_time": "2021-06-22T14:28:40.426Z"
   },
   {
    "duration": 1362,
    "start_time": "2021-06-23T08:44:38.655Z"
   },
   {
    "duration": 1592,
    "start_time": "2021-06-23T08:44:47.277Z"
   },
   {
    "duration": 161,
    "start_time": "2021-06-23T08:44:48.872Z"
   },
   {
    "duration": 21,
    "start_time": "2021-06-23T08:44:49.036Z"
   },
   {
    "duration": 15,
    "start_time": "2021-06-23T08:44:49.059Z"
   },
   {
    "duration": 13,
    "start_time": "2021-06-23T08:44:49.076Z"
   },
   {
    "duration": 4,
    "start_time": "2021-06-23T08:44:49.091Z"
   },
   {
    "duration": 13,
    "start_time": "2021-06-23T08:44:49.098Z"
   },
   {
    "duration": 66,
    "start_time": "2021-06-23T08:44:49.115Z"
   },
   {
    "duration": 19,
    "start_time": "2021-06-23T08:44:49.184Z"
   },
   {
    "duration": 20,
    "start_time": "2021-06-23T08:44:49.205Z"
   },
   {
    "duration": 54,
    "start_time": "2021-06-23T08:44:49.228Z"
   },
   {
    "duration": 540,
    "start_time": "2021-06-23T08:44:49.285Z"
   },
   {
    "duration": 9,
    "start_time": "2021-06-23T08:44:49.828Z"
   },
   {
    "duration": 30,
    "start_time": "2021-06-23T08:44:49.839Z"
   },
   {
    "duration": 9,
    "start_time": "2021-06-23T08:44:49.872Z"
   },
   {
    "duration": 14,
    "start_time": "2021-06-23T08:44:49.884Z"
   },
   {
    "duration": 5,
    "start_time": "2021-06-23T08:44:49.901Z"
   },
   {
    "duration": 9,
    "start_time": "2021-06-23T08:44:49.908Z"
   },
   {
    "duration": 372,
    "start_time": "2021-06-23T08:44:49.919Z"
   },
   {
    "duration": 255,
    "start_time": "2021-06-23T08:44:50.293Z"
   },
   {
    "duration": 26,
    "start_time": "2021-06-23T08:44:50.550Z"
   },
   {
    "duration": 850,
    "start_time": "2021-06-23T08:44:50.578Z"
   },
   {
    "duration": 807,
    "start_time": "2021-06-23T08:44:51.433Z"
   },
   {
    "duration": 924,
    "start_time": "2021-06-23T08:44:52.243Z"
   },
   {
    "duration": 827,
    "start_time": "2021-06-23T08:44:53.169Z"
   },
   {
    "duration": 924,
    "start_time": "2021-06-23T08:44:53.998Z"
   },
   {
    "duration": 249,
    "start_time": "2021-06-23T08:44:54.925Z"
   },
   {
    "duration": 562,
    "start_time": "2021-06-23T08:44:55.177Z"
   },
   {
    "duration": 578,
    "start_time": "2021-06-23T08:44:55.742Z"
   },
   {
    "duration": 7,
    "start_time": "2021-06-23T08:44:56.323Z"
   },
   {
    "duration": 765,
    "start_time": "2021-06-23T08:44:56.332Z"
   },
   {
    "duration": 580,
    "start_time": "2021-06-23T08:44:57.101Z"
   },
   {
    "duration": 6,
    "start_time": "2021-06-23T08:44:57.684Z"
   },
   {
    "duration": 594,
    "start_time": "2021-06-23T08:44:57.692Z"
   },
   {
    "duration": 263,
    "start_time": "2021-06-23T08:44:58.289Z"
   },
   {
    "duration": 13,
    "start_time": "2021-06-23T08:44:58.555Z"
   },
   {
    "duration": 8,
    "start_time": "2021-06-23T08:44:58.571Z"
   },
   {
    "duration": 16,
    "start_time": "2021-06-23T08:44:58.581Z"
   },
   {
    "duration": 7,
    "start_time": "2021-06-23T08:44:58.599Z"
   },
   {
    "duration": 15,
    "start_time": "2021-06-23T08:44:58.609Z"
   },
   {
    "duration": 45,
    "start_time": "2021-06-23T08:44:58.626Z"
   },
   {
    "duration": 12,
    "start_time": "2021-06-23T08:44:58.674Z"
   },
   {
    "duration": 14,
    "start_time": "2021-06-23T08:44:58.688Z"
   },
   {
    "duration": 14,
    "start_time": "2021-06-23T08:44:58.705Z"
   },
   {
    "duration": 47,
    "start_time": "2021-06-23T08:44:58.721Z"
   },
   {
    "duration": 16,
    "start_time": "2021-06-23T08:44:58.770Z"
   },
   {
    "duration": 15,
    "start_time": "2021-06-23T08:44:58.789Z"
   },
   {
    "duration": 524,
    "start_time": "2021-06-23T08:45:19.407Z"
   },
   {
    "duration": 425,
    "start_time": "2021-06-23T08:52:47.495Z"
   },
   {
    "duration": 18,
    "start_time": "2021-06-23T08:52:53.960Z"
   },
   {
    "duration": 17,
    "start_time": "2021-06-23T08:54:39.662Z"
   },
   {
    "duration": 21,
    "start_time": "2021-06-23T08:54:45.331Z"
   },
   {
    "duration": 277,
    "start_time": "2021-06-23T08:54:53.302Z"
   },
   {
    "duration": 20,
    "start_time": "2021-06-23T08:54:57.658Z"
   },
   {
    "duration": 14,
    "start_time": "2021-06-23T08:56:32.973Z"
   },
   {
    "duration": 19,
    "start_time": "2021-06-23T08:56:50.294Z"
   },
   {
    "duration": 19,
    "start_time": "2021-06-23T08:56:58.598Z"
   },
   {
    "duration": 10,
    "start_time": "2021-06-23T11:33:46.594Z"
   },
   {
    "duration": 15,
    "start_time": "2021-06-23T11:33:53.351Z"
   },
   {
    "duration": 7725,
    "start_time": "2021-06-23T11:35:02.305Z"
   },
   {
    "duration": 9092,
    "start_time": "2021-06-23T11:35:13.493Z"
   },
   {
    "duration": 1367,
    "start_time": "2021-06-23T11:36:08.117Z"
   },
   {
    "duration": 7680,
    "start_time": "2021-06-23T11:36:11.358Z"
   },
   {
    "duration": 17,
    "start_time": "2021-06-23T11:37:03.166Z"
   },
   {
    "duration": 15,
    "start_time": "2021-06-23T11:37:21.637Z"
   },
   {
    "duration": 16,
    "start_time": "2021-06-23T11:37:32.875Z"
   },
   {
    "duration": 298,
    "start_time": "2021-06-23T11:41:40.724Z"
   },
   {
    "duration": 13,
    "start_time": "2021-06-23T11:42:04.304Z"
   },
   {
    "duration": 23,
    "start_time": "2021-06-23T11:42:26.263Z"
   },
   {
    "duration": 7902,
    "start_time": "2021-06-23T11:43:12.697Z"
   },
   {
    "duration": 287,
    "start_time": "2021-06-23T11:43:45.627Z"
   },
   {
    "duration": 26,
    "start_time": "2021-06-23T11:44:40.013Z"
   },
   {
    "duration": 4,
    "start_time": "2021-06-23T11:46:57.128Z"
   },
   {
    "duration": 331,
    "start_time": "2021-06-23T11:47:08.697Z"
   },
   {
    "duration": 309,
    "start_time": "2021-06-23T11:47:24.762Z"
   },
   {
    "duration": 389,
    "start_time": "2021-06-23T11:48:23.569Z"
   },
   {
    "duration": 7,
    "start_time": "2021-06-23T11:56:10.355Z"
   },
   {
    "duration": 9,
    "start_time": "2021-06-23T11:56:23.068Z"
   },
   {
    "duration": 41,
    "start_time": "2021-06-23T12:13:10.446Z"
   },
   {
    "duration": 42,
    "start_time": "2021-06-23T12:13:30.687Z"
   },
   {
    "duration": 319,
    "start_time": "2021-06-23T12:13:56.723Z"
   },
   {
    "duration": 36,
    "start_time": "2021-06-23T12:14:13.842Z"
   },
   {
    "duration": 1177,
    "start_time": "2021-06-23T12:14:38.190Z"
   },
   {
    "duration": 7059,
    "start_time": "2021-06-23T12:14:57.610Z"
   },
   {
    "duration": 7512,
    "start_time": "2021-06-23T12:15:27.751Z"
   },
   {
    "duration": 35,
    "start_time": "2021-06-23T12:16:43.457Z"
   },
   {
    "duration": 91,
    "start_time": "2021-06-23T12:27:15.263Z"
   },
   {
    "duration": 330,
    "start_time": "2021-06-23T12:31:30.750Z"
   },
   {
    "duration": 39,
    "start_time": "2021-06-23T12:31:44.095Z"
   },
   {
    "duration": 318,
    "start_time": "2021-06-23T12:36:44.185Z"
   },
   {
    "duration": 334,
    "start_time": "2021-06-23T13:00:37.789Z"
   },
   {
    "duration": 37,
    "start_time": "2021-06-23T13:00:47.501Z"
   },
   {
    "duration": 8,
    "start_time": "2021-06-23T13:15:31.087Z"
   },
   {
    "duration": 1938,
    "start_time": "2021-06-23T13:19:30.334Z"
   },
   {
    "duration": 63,
    "start_time": "2021-06-23T13:19:32.275Z"
   },
   {
    "duration": 40,
    "start_time": "2021-06-23T13:19:32.341Z"
   },
   {
    "duration": 32,
    "start_time": "2021-06-23T13:19:32.384Z"
   },
   {
    "duration": 23,
    "start_time": "2021-06-23T13:19:32.418Z"
   },
   {
    "duration": 24,
    "start_time": "2021-06-23T13:19:32.443Z"
   },
   {
    "duration": 25,
    "start_time": "2021-06-23T13:19:32.470Z"
   },
   {
    "duration": 49,
    "start_time": "2021-06-23T13:19:32.498Z"
   },
   {
    "duration": 28,
    "start_time": "2021-06-23T13:19:32.550Z"
   },
   {
    "duration": 24,
    "start_time": "2021-06-23T13:19:32.581Z"
   },
   {
    "duration": 22,
    "start_time": "2021-06-23T13:19:32.608Z"
   },
   {
    "duration": 557,
    "start_time": "2021-06-23T13:19:32.633Z"
   },
   {
    "duration": 11,
    "start_time": "2021-06-23T13:19:33.193Z"
   },
   {
    "duration": 12,
    "start_time": "2021-06-23T13:19:33.207Z"
   },
   {
    "duration": 44,
    "start_time": "2021-06-23T13:19:33.222Z"
   },
   {
    "duration": 17,
    "start_time": "2021-06-23T13:19:33.269Z"
   },
   {
    "duration": 5,
    "start_time": "2021-06-23T13:19:33.289Z"
   },
   {
    "duration": 34,
    "start_time": "2021-06-23T13:19:33.297Z"
   },
   {
    "duration": 53,
    "start_time": "2021-06-23T13:19:33.366Z"
   },
   {
    "duration": 58,
    "start_time": "2021-06-23T13:19:33.422Z"
   },
   {
    "duration": 9,
    "start_time": "2021-06-23T13:19:33.484Z"
   },
   {
    "duration": 504,
    "start_time": "2021-06-23T13:19:33.496Z"
   },
   {
    "duration": 265,
    "start_time": "2021-06-23T13:19:34.005Z"
   },
   {
    "duration": 18,
    "start_time": "2021-06-23T13:19:34.273Z"
   },
   {
    "duration": 951,
    "start_time": "2021-06-23T13:19:34.294Z"
   },
   {
    "duration": 805,
    "start_time": "2021-06-23T13:19:35.247Z"
   },
   {
    "duration": 880,
    "start_time": "2021-06-23T13:19:36.054Z"
   },
   {
    "duration": 845,
    "start_time": "2021-06-23T13:19:36.936Z"
   },
   {
    "duration": 1006,
    "start_time": "2021-06-23T13:19:37.784Z"
   },
   {
    "duration": 290,
    "start_time": "2021-06-23T13:19:38.793Z"
   },
   {
    "duration": 584,
    "start_time": "2021-06-23T13:19:39.085Z"
   },
   {
    "duration": 518,
    "start_time": "2021-06-23T13:19:39.672Z"
   },
   {
    "duration": 6,
    "start_time": "2021-06-23T13:19:40.192Z"
   },
   {
    "duration": 747,
    "start_time": "2021-06-23T13:19:40.200Z"
   },
   {
    "duration": 588,
    "start_time": "2021-06-23T13:19:40.949Z"
   },
   {
    "duration": 6,
    "start_time": "2021-06-23T13:19:41.539Z"
   },
   {
    "duration": 613,
    "start_time": "2021-06-23T13:19:41.548Z"
   },
   {
    "duration": 315,
    "start_time": "2021-06-23T13:19:42.168Z"
   },
   {
    "duration": 9,
    "start_time": "2021-06-23T13:19:42.486Z"
   },
   {
    "duration": 11,
    "start_time": "2021-06-23T13:19:42.498Z"
   },
   {
    "duration": 10,
    "start_time": "2021-06-23T13:19:42.512Z"
   },
   {
    "duration": 5,
    "start_time": "2021-06-23T13:19:42.525Z"
   },
   {
    "duration": 46,
    "start_time": "2021-06-23T13:19:42.532Z"
   },
   {
    "duration": 13,
    "start_time": "2021-06-23T13:19:42.581Z"
   },
   {
    "duration": 16,
    "start_time": "2021-06-23T13:19:42.597Z"
   },
   {
    "duration": 13,
    "start_time": "2021-06-23T13:19:42.615Z"
   },
   {
    "duration": 41,
    "start_time": "2021-06-23T13:19:42.630Z"
   },
   {
    "duration": 7,
    "start_time": "2021-06-23T13:19:42.673Z"
   },
   {
    "duration": 14,
    "start_time": "2021-06-23T13:19:42.683Z"
   },
   {
    "duration": 14,
    "start_time": "2021-06-23T13:19:42.700Z"
   },
   {
    "duration": 1371,
    "start_time": "2021-06-25T08:22:13.263Z"
   },
   {
    "duration": 65,
    "start_time": "2021-06-25T08:22:14.636Z"
   },
   {
    "duration": 21,
    "start_time": "2021-06-25T08:22:14.705Z"
   },
   {
    "duration": 17,
    "start_time": "2021-06-25T08:22:14.728Z"
   },
   {
    "duration": 39,
    "start_time": "2021-06-25T08:22:14.748Z"
   },
   {
    "duration": 4,
    "start_time": "2021-06-25T08:22:14.789Z"
   },
   {
    "duration": 33,
    "start_time": "2021-06-25T08:22:14.795Z"
   },
   {
    "duration": 33,
    "start_time": "2021-06-25T08:22:14.830Z"
   },
   {
    "duration": 29,
    "start_time": "2021-06-25T08:22:14.867Z"
   },
   {
    "duration": 20,
    "start_time": "2021-06-25T08:22:14.899Z"
   },
   {
    "duration": 20,
    "start_time": "2021-06-25T08:22:14.921Z"
   },
   {
    "duration": 615,
    "start_time": "2021-06-25T08:22:14.983Z"
   },
   {
    "duration": 9,
    "start_time": "2021-06-25T08:22:15.601Z"
   },
   {
    "duration": 13,
    "start_time": "2021-06-25T08:22:15.612Z"
   },
   {
    "duration": 10,
    "start_time": "2021-06-25T08:22:15.628Z"
   },
   {
    "duration": 47,
    "start_time": "2021-06-25T08:22:15.640Z"
   },
   {
    "duration": 6,
    "start_time": "2021-06-25T08:22:15.690Z"
   },
   {
    "duration": 28,
    "start_time": "2021-06-25T08:22:15.699Z"
   },
   {
    "duration": 77,
    "start_time": "2021-06-25T08:22:15.730Z"
   },
   {
    "duration": 28,
    "start_time": "2021-06-25T08:22:15.810Z"
   },
   {
    "duration": 9,
    "start_time": "2021-06-25T08:22:15.841Z"
   },
   {
    "duration": 331,
    "start_time": "2021-06-25T08:22:15.885Z"
   },
   {
    "duration": 266,
    "start_time": "2021-06-25T08:22:16.218Z"
   },
   {
    "duration": 17,
    "start_time": "2021-06-25T08:22:16.487Z"
   },
   {
    "duration": 764,
    "start_time": "2021-06-25T08:22:16.506Z"
   },
   {
    "duration": 746,
    "start_time": "2021-06-25T08:22:17.272Z"
   },
   {
    "duration": 869,
    "start_time": "2021-06-25T08:22:18.023Z"
   },
   {
    "duration": 967,
    "start_time": "2021-06-25T08:22:18.895Z"
   },
   {
    "duration": 862,
    "start_time": "2021-06-25T08:22:19.865Z"
   },
   {
    "duration": 191,
    "start_time": "2021-06-25T08:22:20.730Z"
   },
   {
    "duration": 540,
    "start_time": "2021-06-25T08:22:20.924Z"
   },
   {
    "duration": 519,
    "start_time": "2021-06-25T08:22:21.467Z"
   },
   {
    "duration": 7,
    "start_time": "2021-06-25T08:22:21.988Z"
   },
   {
    "duration": 721,
    "start_time": "2021-06-25T08:22:21.997Z"
   },
   {
    "duration": 499,
    "start_time": "2021-06-25T08:22:22.720Z"
   },
   {
    "duration": 6,
    "start_time": "2021-06-25T08:22:23.221Z"
   },
   {
    "duration": 468,
    "start_time": "2021-06-25T08:22:23.229Z"
   },
   {
    "duration": 209,
    "start_time": "2021-06-25T08:22:23.699Z"
   },
   {
    "duration": 5,
    "start_time": "2021-06-25T08:22:23.911Z"
   },
   {
    "duration": 11,
    "start_time": "2021-06-25T08:22:23.918Z"
   },
   {
    "duration": 11,
    "start_time": "2021-06-25T08:22:23.931Z"
   },
   {
    "duration": 5,
    "start_time": "2021-06-25T08:22:23.945Z"
   },
   {
    "duration": 40,
    "start_time": "2021-06-25T08:22:23.952Z"
   },
   {
    "duration": 8,
    "start_time": "2021-06-25T08:22:23.994Z"
   },
   {
    "duration": 14,
    "start_time": "2021-06-25T08:22:24.004Z"
   },
   {
    "duration": 11,
    "start_time": "2021-06-25T08:22:24.021Z"
   },
   {
    "duration": 50,
    "start_time": "2021-06-25T08:22:24.035Z"
   },
   {
    "duration": 6,
    "start_time": "2021-06-25T08:22:24.088Z"
   },
   {
    "duration": 14,
    "start_time": "2021-06-25T08:22:24.096Z"
   },
   {
    "duration": 11,
    "start_time": "2021-06-25T08:22:24.113Z"
   },
   {
    "duration": 7260,
    "start_time": "2021-06-25T08:23:35.519Z"
   },
   {
    "duration": 10,
    "start_time": "2021-06-25T08:24:08.947Z"
   },
   {
    "duration": 10,
    "start_time": "2021-06-25T08:24:13.324Z"
   },
   {
    "duration": 23,
    "start_time": "2021-06-25T08:24:20.870Z"
   },
   {
    "duration": 19,
    "start_time": "2021-06-25T08:24:35.315Z"
   },
   {
    "duration": 301,
    "start_time": "2021-06-25T08:36:24.159Z"
   },
   {
    "duration": 11,
    "start_time": "2021-06-25T08:37:08.720Z"
   },
   {
    "duration": 14,
    "start_time": "2021-06-25T08:40:30.192Z"
   },
   {
    "duration": 12,
    "start_time": "2021-06-25T08:55:01.963Z"
   },
   {
    "duration": 36,
    "start_time": "2021-06-25T08:55:19.370Z"
   },
   {
    "duration": 14,
    "start_time": "2021-06-25T08:56:53.194Z"
   },
   {
    "duration": 31,
    "start_time": "2021-06-25T08:57:08.232Z"
   },
   {
    "duration": 14,
    "start_time": "2021-06-25T09:00:05.024Z"
   },
   {
    "duration": 16,
    "start_time": "2021-06-25T09:01:19.007Z"
   },
   {
    "duration": 22,
    "start_time": "2021-06-25T09:01:47.668Z"
   },
   {
    "duration": 8044,
    "start_time": "2021-06-25T09:02:32.025Z"
   },
   {
    "duration": 1416,
    "start_time": "2021-06-25T09:02:46.528Z"
   },
   {
    "duration": 68,
    "start_time": "2021-06-25T09:02:47.950Z"
   },
   {
    "duration": 22,
    "start_time": "2021-06-25T09:02:48.021Z"
   },
   {
    "duration": 17,
    "start_time": "2021-06-25T09:02:48.046Z"
   },
   {
    "duration": 33,
    "start_time": "2021-06-25T09:02:48.066Z"
   },
   {
    "duration": 5,
    "start_time": "2021-06-25T09:02:48.102Z"
   },
   {
    "duration": 21,
    "start_time": "2021-06-25T09:02:48.109Z"
   },
   {
    "duration": 63,
    "start_time": "2021-06-25T09:02:48.134Z"
   },
   {
    "duration": 18,
    "start_time": "2021-06-25T09:02:48.201Z"
   },
   {
    "duration": 21,
    "start_time": "2021-06-25T09:02:48.222Z"
   },
   {
    "duration": 62,
    "start_time": "2021-06-25T09:02:48.245Z"
   },
   {
    "duration": 536,
    "start_time": "2021-06-25T09:02:48.310Z"
   },
   {
    "duration": 8,
    "start_time": "2021-06-25T09:02:48.849Z"
   },
   {
    "duration": 31,
    "start_time": "2021-06-25T09:02:48.860Z"
   },
   {
    "duration": 18,
    "start_time": "2021-06-25T09:02:48.894Z"
   },
   {
    "duration": 7287,
    "start_time": "2021-06-25T09:02:48.915Z"
   },
   {
    "duration": 3959,
    "start_time": "2021-06-25T09:02:52.247Z"
   },
   {
    "duration": 3958,
    "start_time": "2021-06-25T09:02:52.250Z"
   },
   {
    "duration": 3956,
    "start_time": "2021-06-25T09:02:52.253Z"
   },
   {
    "duration": 3955,
    "start_time": "2021-06-25T09:02:52.256Z"
   },
   {
    "duration": 3950,
    "start_time": "2021-06-25T09:02:52.262Z"
   },
   {
    "duration": 3947,
    "start_time": "2021-06-25T09:02:52.266Z"
   },
   {
    "duration": 3945,
    "start_time": "2021-06-25T09:02:52.270Z"
   },
   {
    "duration": 3941,
    "start_time": "2021-06-25T09:02:52.275Z"
   },
   {
    "duration": 3939,
    "start_time": "2021-06-25T09:02:52.279Z"
   },
   {
    "duration": 3937,
    "start_time": "2021-06-25T09:02:52.282Z"
   },
   {
    "duration": 3935,
    "start_time": "2021-06-25T09:02:52.285Z"
   },
   {
    "duration": 3934,
    "start_time": "2021-06-25T09:02:52.288Z"
   },
   {
    "duration": 3932,
    "start_time": "2021-06-25T09:02:52.291Z"
   },
   {
    "duration": 3930,
    "start_time": "2021-06-25T09:02:52.294Z"
   },
   {
    "duration": 3929,
    "start_time": "2021-06-25T09:02:52.297Z"
   },
   {
    "duration": 3920,
    "start_time": "2021-06-25T09:02:52.307Z"
   },
   {
    "duration": 3918,
    "start_time": "2021-06-25T09:02:52.310Z"
   },
   {
    "duration": 3911,
    "start_time": "2021-06-25T09:02:52.318Z"
   },
   {
    "duration": 3908,
    "start_time": "2021-06-25T09:02:52.323Z"
   },
   {
    "duration": 3904,
    "start_time": "2021-06-25T09:02:52.328Z"
   },
   {
    "duration": 3902,
    "start_time": "2021-06-25T09:02:52.331Z"
   },
   {
    "duration": 3901,
    "start_time": "2021-06-25T09:02:52.334Z"
   },
   {
    "duration": 3899,
    "start_time": "2021-06-25T09:02:52.337Z"
   },
   {
    "duration": 3896,
    "start_time": "2021-06-25T09:02:52.341Z"
   },
   {
    "duration": 3895,
    "start_time": "2021-06-25T09:02:52.344Z"
   },
   {
    "duration": 3893,
    "start_time": "2021-06-25T09:02:52.347Z"
   },
   {
    "duration": 3887,
    "start_time": "2021-06-25T09:02:52.355Z"
   },
   {
    "duration": 3925,
    "start_time": "2021-06-25T09:02:52.358Z"
   },
   {
    "duration": 3924,
    "start_time": "2021-06-25T09:02:52.361Z"
   },
   {
    "duration": 3929,
    "start_time": "2021-06-25T09:02:52.365Z"
   },
   {
    "duration": 3933,
    "start_time": "2021-06-25T09:02:52.367Z"
   },
   {
    "duration": 3930,
    "start_time": "2021-06-25T09:02:52.372Z"
   },
   {
    "duration": 3929,
    "start_time": "2021-06-25T09:02:52.375Z"
   },
   {
    "duration": 6873,
    "start_time": "2021-06-25T09:03:22.441Z"
   },
   {
    "duration": 7698,
    "start_time": "2021-06-25T09:03:40.501Z"
   },
   {
    "duration": 1477,
    "start_time": "2021-06-25T09:04:11.031Z"
   },
   {
    "duration": 66,
    "start_time": "2021-06-25T09:04:12.511Z"
   },
   {
    "duration": 26,
    "start_time": "2021-06-25T09:04:12.580Z"
   },
   {
    "duration": 18,
    "start_time": "2021-06-25T09:04:12.609Z"
   },
   {
    "duration": 57,
    "start_time": "2021-06-25T09:04:12.630Z"
   },
   {
    "duration": 6,
    "start_time": "2021-06-25T09:04:12.691Z"
   },
   {
    "duration": 23,
    "start_time": "2021-06-25T09:04:12.700Z"
   },
   {
    "duration": 39,
    "start_time": "2021-06-25T09:04:12.726Z"
   },
   {
    "duration": 38,
    "start_time": "2021-06-25T09:04:12.768Z"
   },
   {
    "duration": 19,
    "start_time": "2021-06-25T09:04:12.808Z"
   },
   {
    "duration": 26,
    "start_time": "2021-06-25T09:04:12.830Z"
   },
   {
    "duration": 503,
    "start_time": "2021-06-25T09:04:12.896Z"
   },
   {
    "duration": 9,
    "start_time": "2021-06-25T09:04:13.401Z"
   },
   {
    "duration": 11,
    "start_time": "2021-06-25T09:04:13.413Z"
   },
   {
    "duration": 14,
    "start_time": "2021-06-25T09:04:13.426Z"
   },
   {
    "duration": 52,
    "start_time": "2021-06-25T09:04:13.443Z"
   },
   {
    "duration": 14,
    "start_time": "2021-06-25T09:04:13.498Z"
   },
   {
    "duration": 16,
    "start_time": "2021-06-25T09:04:13.514Z"
   },
   {
    "duration": 7,
    "start_time": "2021-06-25T09:04:13.532Z"
   },
   {
    "duration": 51,
    "start_time": "2021-06-25T09:04:13.542Z"
   },
   {
    "duration": 354,
    "start_time": "2021-06-25T09:04:13.595Z"
   },
   {
    "duration": 268,
    "start_time": "2021-06-25T09:04:13.952Z"
   },
   {
    "duration": 19,
    "start_time": "2021-06-25T09:04:14.225Z"
   },
   {
    "duration": 789,
    "start_time": "2021-06-25T09:04:14.247Z"
   },
   {
    "duration": 780,
    "start_time": "2021-06-25T09:04:15.039Z"
   },
   {
    "duration": 938,
    "start_time": "2021-06-25T09:04:15.822Z"
   },
   {
    "duration": 996,
    "start_time": "2021-06-25T09:04:16.763Z"
   },
   {
    "duration": 904,
    "start_time": "2021-06-25T09:04:17.761Z"
   },
   {
    "duration": 219,
    "start_time": "2021-06-25T09:04:18.668Z"
   },
   {
    "duration": 554,
    "start_time": "2021-06-25T09:04:18.890Z"
   },
   {
    "duration": 561,
    "start_time": "2021-06-25T09:04:19.447Z"
   },
   {
    "duration": 5,
    "start_time": "2021-06-25T09:04:20.011Z"
   },
   {
    "duration": 734,
    "start_time": "2021-06-25T09:04:20.019Z"
   },
   {
    "duration": 589,
    "start_time": "2021-06-25T09:04:20.756Z"
   },
   {
    "duration": 6,
    "start_time": "2021-06-25T09:04:21.347Z"
   },
   {
    "duration": 455,
    "start_time": "2021-06-25T09:04:21.355Z"
   },
   {
    "duration": 237,
    "start_time": "2021-06-25T09:04:21.812Z"
   },
   {
    "duration": 6,
    "start_time": "2021-06-25T09:04:22.051Z"
   },
   {
    "duration": 11,
    "start_time": "2021-06-25T09:04:22.059Z"
   },
   {
    "duration": 24,
    "start_time": "2021-06-25T09:04:22.072Z"
   },
   {
    "duration": 5,
    "start_time": "2021-06-25T09:04:22.098Z"
   },
   {
    "duration": 13,
    "start_time": "2021-06-25T09:04:22.106Z"
   },
   {
    "duration": 12,
    "start_time": "2021-06-25T09:04:22.121Z"
   },
   {
    "duration": 50,
    "start_time": "2021-06-25T09:04:22.135Z"
   },
   {
    "duration": 15,
    "start_time": "2021-06-25T09:04:22.189Z"
   },
   {
    "duration": 15,
    "start_time": "2021-06-25T09:04:22.207Z"
   },
   {
    "duration": 6,
    "start_time": "2021-06-25T09:04:22.225Z"
   },
   {
    "duration": 54,
    "start_time": "2021-06-25T09:04:22.234Z"
   },
   {
    "duration": 13,
    "start_time": "2021-06-25T09:04:22.291Z"
   },
   {
    "duration": 16,
    "start_time": "2021-06-25T09:05:10.720Z"
   },
   {
    "duration": 1373,
    "start_time": "2021-06-25T09:05:17.773Z"
   },
   {
    "duration": 67,
    "start_time": "2021-06-25T09:05:19.148Z"
   },
   {
    "duration": 20,
    "start_time": "2021-06-25T09:05:19.218Z"
   },
   {
    "duration": 15,
    "start_time": "2021-06-25T09:05:19.241Z"
   },
   {
    "duration": 13,
    "start_time": "2021-06-25T09:05:19.258Z"
   },
   {
    "duration": 8,
    "start_time": "2021-06-25T09:05:19.284Z"
   },
   {
    "duration": 15,
    "start_time": "2021-06-25T09:05:19.294Z"
   },
   {
    "duration": 31,
    "start_time": "2021-06-25T09:05:19.313Z"
   },
   {
    "duration": 56,
    "start_time": "2021-06-25T09:05:19.346Z"
   },
   {
    "duration": 20,
    "start_time": "2021-06-25T09:05:19.404Z"
   },
   {
    "duration": 19,
    "start_time": "2021-06-25T09:05:19.427Z"
   },
   {
    "duration": 547,
    "start_time": "2021-06-25T09:05:19.448Z"
   },
   {
    "duration": 9,
    "start_time": "2021-06-25T09:05:19.997Z"
   },
   {
    "duration": 14,
    "start_time": "2021-06-25T09:05:20.008Z"
   },
   {
    "duration": 15,
    "start_time": "2021-06-25T09:05:20.024Z"
   },
   {
    "duration": 8179,
    "start_time": "2021-06-25T09:05:20.042Z"
   },
   {
    "duration": 3907,
    "start_time": "2021-06-25T09:05:24.318Z"
   },
   {
    "duration": 3905,
    "start_time": "2021-06-25T09:05:24.322Z"
   },
   {
    "duration": 3903,
    "start_time": "2021-06-25T09:05:24.325Z"
   },
   {
    "duration": 3901,
    "start_time": "2021-06-25T09:05:24.328Z"
   },
   {
    "duration": 3899,
    "start_time": "2021-06-25T09:05:24.332Z"
   },
   {
    "duration": 3897,
    "start_time": "2021-06-25T09:05:24.335Z"
   },
   {
    "duration": 3896,
    "start_time": "2021-06-25T09:05:24.338Z"
   },
   {
    "duration": 3894,
    "start_time": "2021-06-25T09:05:24.341Z"
   },
   {
    "duration": 3892,
    "start_time": "2021-06-25T09:05:24.345Z"
   },
   {
    "duration": 3892,
    "start_time": "2021-06-25T09:05:24.347Z"
   },
   {
    "duration": 3891,
    "start_time": "2021-06-25T09:05:24.350Z"
   },
   {
    "duration": 3890,
    "start_time": "2021-06-25T09:05:24.353Z"
   },
   {
    "duration": 3889,
    "start_time": "2021-06-25T09:05:24.356Z"
   },
   {
    "duration": 3888,
    "start_time": "2021-06-25T09:05:24.359Z"
   },
   {
    "duration": 3887,
    "start_time": "2021-06-25T09:05:24.362Z"
   },
   {
    "duration": 3886,
    "start_time": "2021-06-25T09:05:24.365Z"
   },
   {
    "duration": 3885,
    "start_time": "2021-06-25T09:05:24.368Z"
   },
   {
    "duration": 3884,
    "start_time": "2021-06-25T09:05:24.371Z"
   },
   {
    "duration": 3883,
    "start_time": "2021-06-25T09:05:24.374Z"
   },
   {
    "duration": 3883,
    "start_time": "2021-06-25T09:05:24.377Z"
   },
   {
    "duration": 3902,
    "start_time": "2021-06-25T09:05:24.380Z"
   },
   {
    "duration": 3903,
    "start_time": "2021-06-25T09:05:24.382Z"
   },
   {
    "duration": 3900,
    "start_time": "2021-06-25T09:05:24.386Z"
   },
   {
    "duration": 3899,
    "start_time": "2021-06-25T09:05:24.389Z"
   },
   {
    "duration": 3898,
    "start_time": "2021-06-25T09:05:24.392Z"
   },
   {
    "duration": 3897,
    "start_time": "2021-06-25T09:05:24.395Z"
   },
   {
    "duration": 3895,
    "start_time": "2021-06-25T09:05:24.398Z"
   },
   {
    "duration": 3895,
    "start_time": "2021-06-25T09:05:24.401Z"
   },
   {
    "duration": 3895,
    "start_time": "2021-06-25T09:05:24.404Z"
   },
   {
    "duration": 3896,
    "start_time": "2021-06-25T09:05:24.407Z"
   },
   {
    "duration": 3889,
    "start_time": "2021-06-25T09:05:24.416Z"
   },
   {
    "duration": 3887,
    "start_time": "2021-06-25T09:05:24.419Z"
   },
   {
    "duration": 3886,
    "start_time": "2021-06-25T09:05:24.422Z"
   },
   {
    "duration": 7105,
    "start_time": "2021-06-25T09:06:59.760Z"
   },
   {
    "duration": 11,
    "start_time": "2021-06-25T09:07:25.218Z"
   },
   {
    "duration": 288,
    "start_time": "2021-06-25T09:08:04.247Z"
   },
   {
    "duration": 1417,
    "start_time": "2021-06-25T09:08:14.049Z"
   },
   {
    "duration": 71,
    "start_time": "2021-06-25T09:08:15.468Z"
   },
   {
    "duration": 23,
    "start_time": "2021-06-25T09:08:15.542Z"
   },
   {
    "duration": 22,
    "start_time": "2021-06-25T09:08:15.568Z"
   },
   {
    "duration": 17,
    "start_time": "2021-06-25T09:08:15.593Z"
   },
   {
    "duration": 4,
    "start_time": "2021-06-25T09:08:15.613Z"
   },
   {
    "duration": 16,
    "start_time": "2021-06-25T09:08:15.620Z"
   },
   {
    "duration": 75,
    "start_time": "2021-06-25T09:08:15.639Z"
   },
   {
    "duration": 18,
    "start_time": "2021-06-25T09:08:15.717Z"
   },
   {
    "duration": 20,
    "start_time": "2021-06-25T09:08:15.737Z"
   },
   {
    "duration": 26,
    "start_time": "2021-06-25T09:08:15.784Z"
   },
   {
    "duration": 546,
    "start_time": "2021-06-25T09:08:15.812Z"
   },
   {
    "duration": 9,
    "start_time": "2021-06-25T09:08:16.360Z"
   },
   {
    "duration": 15,
    "start_time": "2021-06-25T09:08:16.383Z"
   },
   {
    "duration": 24,
    "start_time": "2021-06-25T09:08:16.401Z"
   },
   {
    "duration": 10,
    "start_time": "2021-06-25T09:08:16.427Z"
   },
   {
    "duration": 56,
    "start_time": "2021-06-25T09:08:16.439Z"
   },
   {
    "duration": 8167,
    "start_time": "2021-06-25T09:08:16.498Z"
   },
   {
    "duration": 3919,
    "start_time": "2021-06-25T09:08:20.750Z"
   },
   {
    "duration": 3912,
    "start_time": "2021-06-25T09:08:20.758Z"
   },
   {
    "duration": 3905,
    "start_time": "2021-06-25T09:08:20.767Z"
   },
   {
    "duration": 3900,
    "start_time": "2021-06-25T09:08:20.774Z"
   },
   {
    "duration": 3894,
    "start_time": "2021-06-25T09:08:20.781Z"
   },
   {
    "duration": 3890,
    "start_time": "2021-06-25T09:08:20.786Z"
   },
   {
    "duration": 3886,
    "start_time": "2021-06-25T09:08:20.792Z"
   },
   {
    "duration": 3883,
    "start_time": "2021-06-25T09:08:20.796Z"
   },
   {
    "duration": 3880,
    "start_time": "2021-06-25T09:08:20.800Z"
   },
   {
    "duration": 3878,
    "start_time": "2021-06-25T09:08:20.804Z"
   },
   {
    "duration": 3868,
    "start_time": "2021-06-25T09:08:20.815Z"
   },
   {
    "duration": 3866,
    "start_time": "2021-06-25T09:08:20.819Z"
   },
   {
    "duration": 3864,
    "start_time": "2021-06-25T09:08:20.823Z"
   },
   {
    "duration": 3861,
    "start_time": "2021-06-25T09:08:20.827Z"
   },
   {
    "duration": 3860,
    "start_time": "2021-06-25T09:08:20.830Z"
   },
   {
    "duration": 3860,
    "start_time": "2021-06-25T09:08:20.834Z"
   },
   {
    "duration": 3858,
    "start_time": "2021-06-25T09:08:20.838Z"
   },
   {
    "duration": 3856,
    "start_time": "2021-06-25T09:08:20.842Z"
   },
   {
    "duration": 3853,
    "start_time": "2021-06-25T09:08:20.846Z"
   },
   {
    "duration": 3852,
    "start_time": "2021-06-25T09:08:20.849Z"
   },
   {
    "duration": 3851,
    "start_time": "2021-06-25T09:08:20.852Z"
   },
   {
    "duration": 3848,
    "start_time": "2021-06-25T09:08:20.856Z"
   },
   {
    "duration": 3846,
    "start_time": "2021-06-25T09:08:20.860Z"
   },
   {
    "duration": 3845,
    "start_time": "2021-06-25T09:08:20.863Z"
   },
   {
    "duration": 3835,
    "start_time": "2021-06-25T09:08:20.874Z"
   },
   {
    "duration": 3833,
    "start_time": "2021-06-25T09:08:20.877Z"
   },
   {
    "duration": 3831,
    "start_time": "2021-06-25T09:08:20.880Z"
   },
   {
    "duration": 3831,
    "start_time": "2021-06-25T09:08:20.882Z"
   },
   {
    "duration": 3829,
    "start_time": "2021-06-25T09:08:20.885Z"
   },
   {
    "duration": 3827,
    "start_time": "2021-06-25T09:08:20.888Z"
   },
   {
    "duration": 3826,
    "start_time": "2021-06-25T09:08:20.891Z"
   },
   {
    "duration": 8142,
    "start_time": "2021-06-25T09:11:57.496Z"
   },
   {
    "duration": 9,
    "start_time": "2021-06-25T09:12:28.645Z"
   },
   {
    "duration": 7661,
    "start_time": "2021-06-25T09:12:45.300Z"
   },
   {
    "duration": 12,
    "start_time": "2021-06-25T09:13:29.055Z"
   },
   {
    "duration": 6,
    "start_time": "2021-06-25T09:13:34.678Z"
   },
   {
    "duration": 318,
    "start_time": "2021-06-25T09:16:46.850Z"
   },
   {
    "duration": 278,
    "start_time": "2021-06-25T09:17:20.844Z"
   },
   {
    "duration": 304,
    "start_time": "2021-06-25T09:17:30.004Z"
   },
   {
    "duration": 1442,
    "start_time": "2021-06-25T09:17:44.378Z"
   },
   {
    "duration": 72,
    "start_time": "2021-06-25T09:17:45.823Z"
   },
   {
    "duration": 22,
    "start_time": "2021-06-25T09:17:45.899Z"
   },
   {
    "duration": 15,
    "start_time": "2021-06-25T09:17:45.924Z"
   },
   {
    "duration": 14,
    "start_time": "2021-06-25T09:17:45.941Z"
   },
   {
    "duration": 6,
    "start_time": "2021-06-25T09:17:45.987Z"
   },
   {
    "duration": 14,
    "start_time": "2021-06-25T09:17:45.997Z"
   },
   {
    "duration": 35,
    "start_time": "2021-06-25T09:17:46.015Z"
   },
   {
    "duration": 51,
    "start_time": "2021-06-25T09:17:46.052Z"
   },
   {
    "duration": 20,
    "start_time": "2021-06-25T09:17:46.106Z"
   },
   {
    "duration": 21,
    "start_time": "2021-06-25T09:17:46.128Z"
   },
   {
    "duration": 841,
    "start_time": "2021-06-25T09:17:46.151Z"
   },
   {
    "duration": 13,
    "start_time": "2021-06-25T09:17:46.995Z"
   },
   {
    "duration": 20,
    "start_time": "2021-06-25T09:17:47.011Z"
   },
   {
    "duration": 28,
    "start_time": "2021-06-25T09:17:47.084Z"
   },
   {
    "duration": 10,
    "start_time": "2021-06-25T09:17:47.114Z"
   },
   {
    "duration": 69,
    "start_time": "2021-06-25T09:17:47.126Z"
   },
   {
    "duration": 14,
    "start_time": "2021-06-25T09:17:47.200Z"
   },
   {
    "duration": 9,
    "start_time": "2021-06-25T09:17:47.216Z"
   },
   {
    "duration": 442,
    "start_time": "2021-06-25T09:17:47.227Z"
   },
   {
    "duration": 3905,
    "start_time": "2021-06-25T09:17:43.768Z"
   },
   {
    "duration": 3902,
    "start_time": "2021-06-25T09:17:43.772Z"
   },
   {
    "duration": 3900,
    "start_time": "2021-06-25T09:17:43.776Z"
   },
   {
    "duration": 3899,
    "start_time": "2021-06-25T09:17:43.778Z"
   },
   {
    "duration": 3896,
    "start_time": "2021-06-25T09:17:43.783Z"
   },
   {
    "duration": 3894,
    "start_time": "2021-06-25T09:17:43.786Z"
   },
   {
    "duration": 3888,
    "start_time": "2021-06-25T09:17:43.793Z"
   },
   {
    "duration": 3884,
    "start_time": "2021-06-25T09:17:43.799Z"
   },
   {
    "duration": 3880,
    "start_time": "2021-06-25T09:17:43.805Z"
   },
   {
    "duration": 3876,
    "start_time": "2021-06-25T09:17:43.811Z"
   },
   {
    "duration": 3874,
    "start_time": "2021-06-25T09:17:43.815Z"
   },
   {
    "duration": 3872,
    "start_time": "2021-06-25T09:17:43.820Z"
   },
   {
    "duration": 3868,
    "start_time": "2021-06-25T09:17:43.826Z"
   },
   {
    "duration": 3865,
    "start_time": "2021-06-25T09:17:43.831Z"
   },
   {
    "duration": 3863,
    "start_time": "2021-06-25T09:17:43.835Z"
   },
   {
    "duration": 3861,
    "start_time": "2021-06-25T09:17:43.838Z"
   },
   {
    "duration": 3860,
    "start_time": "2021-06-25T09:17:43.841Z"
   },
   {
    "duration": 3858,
    "start_time": "2021-06-25T09:17:43.844Z"
   },
   {
    "duration": 3857,
    "start_time": "2021-06-25T09:17:43.847Z"
   },
   {
    "duration": 3856,
    "start_time": "2021-06-25T09:17:43.849Z"
   },
   {
    "duration": 3854,
    "start_time": "2021-06-25T09:17:43.852Z"
   },
   {
    "duration": 3853,
    "start_time": "2021-06-25T09:17:43.854Z"
   },
   {
    "duration": 3852,
    "start_time": "2021-06-25T09:17:43.857Z"
   },
   {
    "duration": 3851,
    "start_time": "2021-06-25T09:17:43.859Z"
   },
   {
    "duration": 3850,
    "start_time": "2021-06-25T09:17:43.862Z"
   },
   {
    "duration": 3841,
    "start_time": "2021-06-25T09:17:43.872Z"
   },
   {
    "duration": 3838,
    "start_time": "2021-06-25T09:17:43.876Z"
   },
   {
    "duration": 3838,
    "start_time": "2021-06-25T09:17:43.878Z"
   },
   {
    "duration": 3836,
    "start_time": "2021-06-25T09:17:43.881Z"
   },
   {
    "duration": 1417,
    "start_time": "2021-06-25T09:19:44.620Z"
   },
   {
    "duration": 67,
    "start_time": "2021-06-25T09:19:46.040Z"
   },
   {
    "duration": 20,
    "start_time": "2021-06-25T09:19:46.110Z"
   },
   {
    "duration": 14,
    "start_time": "2021-06-25T09:19:46.132Z"
   },
   {
    "duration": 12,
    "start_time": "2021-06-25T09:19:46.149Z"
   },
   {
    "duration": 9,
    "start_time": "2021-06-25T09:19:46.186Z"
   },
   {
    "duration": 14,
    "start_time": "2021-06-25T09:19:46.200Z"
   },
   {
    "duration": 33,
    "start_time": "2021-06-25T09:19:46.217Z"
   },
   {
    "duration": 53,
    "start_time": "2021-06-25T09:19:46.253Z"
   },
   {
    "duration": 19,
    "start_time": "2021-06-25T09:19:46.309Z"
   },
   {
    "duration": 19,
    "start_time": "2021-06-25T09:19:46.331Z"
   },
   {
    "duration": 568,
    "start_time": "2021-06-25T09:19:46.352Z"
   },
   {
    "duration": 9,
    "start_time": "2021-06-25T09:19:46.922Z"
   },
   {
    "duration": 12,
    "start_time": "2021-06-25T09:19:46.933Z"
   },
   {
    "duration": 52,
    "start_time": "2021-06-25T09:19:46.947Z"
   },
   {
    "duration": 7178,
    "start_time": "2021-06-25T09:19:47.002Z"
   },
   {
    "duration": 3842,
    "start_time": "2021-06-25T09:19:50.342Z"
   },
   {
    "duration": 3836,
    "start_time": "2021-06-25T09:19:50.350Z"
   },
   {
    "duration": 3832,
    "start_time": "2021-06-25T09:19:50.355Z"
   },
   {
    "duration": 3827,
    "start_time": "2021-06-25T09:19:50.361Z"
   },
   {
    "duration": 3823,
    "start_time": "2021-06-25T09:19:50.366Z"
   },
   {
    "duration": 3818,
    "start_time": "2021-06-25T09:19:50.373Z"
   },
   {
    "duration": 3815,
    "start_time": "2021-06-25T09:19:50.379Z"
   },
   {
    "duration": 3812,
    "start_time": "2021-06-25T09:19:50.384Z"
   },
   {
    "duration": 3808,
    "start_time": "2021-06-25T09:19:50.390Z"
   },
   {
    "duration": 3805,
    "start_time": "2021-06-25T09:19:50.395Z"
   },
   {
    "duration": 3802,
    "start_time": "2021-06-25T09:19:50.399Z"
   },
   {
    "duration": 3800,
    "start_time": "2021-06-25T09:19:50.402Z"
   },
   {
    "duration": 3799,
    "start_time": "2021-06-25T09:19:50.405Z"
   },
   {
    "duration": 3799,
    "start_time": "2021-06-25T09:19:50.407Z"
   },
   {
    "duration": 3797,
    "start_time": "2021-06-25T09:19:50.410Z"
   },
   {
    "duration": 3797,
    "start_time": "2021-06-25T09:19:50.412Z"
   },
   {
    "duration": 3796,
    "start_time": "2021-06-25T09:19:50.415Z"
   },
   {
    "duration": 3795,
    "start_time": "2021-06-25T09:19:50.417Z"
   },
   {
    "duration": 3793,
    "start_time": "2021-06-25T09:19:50.420Z"
   },
   {
    "duration": 3793,
    "start_time": "2021-06-25T09:19:50.422Z"
   },
   {
    "duration": 3784,
    "start_time": "2021-06-25T09:19:50.432Z"
   },
   {
    "duration": 3782,
    "start_time": "2021-06-25T09:19:50.436Z"
   },
   {
    "duration": 3780,
    "start_time": "2021-06-25T09:19:50.439Z"
   },
   {
    "duration": 3778,
    "start_time": "2021-06-25T09:19:50.442Z"
   },
   {
    "duration": 3776,
    "start_time": "2021-06-25T09:19:50.446Z"
   },
   {
    "duration": 3772,
    "start_time": "2021-06-25T09:19:50.451Z"
   },
   {
    "duration": 3826,
    "start_time": "2021-06-25T09:19:50.457Z"
   },
   {
    "duration": 3824,
    "start_time": "2021-06-25T09:19:50.463Z"
   },
   {
    "duration": 3821,
    "start_time": "2021-06-25T09:19:50.468Z"
   },
   {
    "duration": 3821,
    "start_time": "2021-06-25T09:19:50.473Z"
   },
   {
    "duration": 3819,
    "start_time": "2021-06-25T09:19:50.477Z"
   },
   {
    "duration": 3818,
    "start_time": "2021-06-25T09:19:50.480Z"
   },
   {
    "duration": 3817,
    "start_time": "2021-06-25T09:19:50.483Z"
   },
   {
    "duration": 13,
    "start_time": "2021-06-25T09:20:06.585Z"
   },
   {
    "duration": 14,
    "start_time": "2021-06-25T09:20:25.298Z"
   },
   {
    "duration": 6,
    "start_time": "2021-06-25T09:20:27.857Z"
   },
   {
    "duration": 1143,
    "start_time": "2021-06-25T09:23:22.074Z"
   },
   {
    "duration": 1414,
    "start_time": "2021-06-25T09:23:39.324Z"
   },
   {
    "duration": 67,
    "start_time": "2021-06-25T09:23:40.741Z"
   },
   {
    "duration": 21,
    "start_time": "2021-06-25T09:23:40.811Z"
   },
   {
    "duration": 16,
    "start_time": "2021-06-25T09:23:40.835Z"
   },
   {
    "duration": 44,
    "start_time": "2021-06-25T09:23:40.853Z"
   },
   {
    "duration": 4,
    "start_time": "2021-06-25T09:23:40.900Z"
   },
   {
    "duration": 21,
    "start_time": "2021-06-25T09:23:40.907Z"
   },
   {
    "duration": 53,
    "start_time": "2021-06-25T09:23:40.932Z"
   },
   {
    "duration": 24,
    "start_time": "2021-06-25T09:23:40.989Z"
   },
   {
    "duration": 21,
    "start_time": "2021-06-25T09:23:41.016Z"
   },
   {
    "duration": 60,
    "start_time": "2021-06-25T09:23:41.039Z"
   },
   {
    "duration": 535,
    "start_time": "2021-06-25T09:23:41.101Z"
   },
   {
    "duration": 9,
    "start_time": "2021-06-25T09:23:41.639Z"
   },
   {
    "duration": 16,
    "start_time": "2021-06-25T09:23:41.651Z"
   },
   {
    "duration": 29,
    "start_time": "2021-06-25T09:23:41.686Z"
   },
   {
    "duration": 11,
    "start_time": "2021-06-25T09:23:41.717Z"
   },
   {
    "duration": 10,
    "start_time": "2021-06-25T09:23:41.730Z"
   },
   {
    "duration": 57,
    "start_time": "2021-06-25T09:23:41.742Z"
   },
   {
    "duration": 8,
    "start_time": "2021-06-25T09:23:41.801Z"
   },
   {
    "duration": 8,
    "start_time": "2021-06-25T09:23:41.812Z"
   },
   {
    "duration": 369,
    "start_time": "2021-06-25T09:23:41.822Z"
   },
   {
    "duration": 267,
    "start_time": "2021-06-25T09:23:42.194Z"
   },
   {
    "duration": 34,
    "start_time": "2021-06-25T09:23:42.466Z"
   },
   {
    "duration": 814,
    "start_time": "2021-06-25T09:23:42.503Z"
   },
   {
    "duration": 871,
    "start_time": "2021-06-25T09:23:43.319Z"
   },
   {
    "duration": 1149,
    "start_time": "2021-06-25T09:23:44.200Z"
   },
   {
    "duration": 782,
    "start_time": "2021-06-25T09:23:45.352Z"
   },
   {
    "duration": 1026,
    "start_time": "2021-06-25T09:23:46.136Z"
   },
   {
    "duration": 238,
    "start_time": "2021-06-25T09:23:47.164Z"
   },
   {
    "duration": 598,
    "start_time": "2021-06-25T09:23:47.405Z"
   },
   {
    "duration": 542,
    "start_time": "2021-06-25T09:23:48.005Z"
   },
   {
    "duration": 6,
    "start_time": "2021-06-25T09:23:48.549Z"
   },
   {
    "duration": 765,
    "start_time": "2021-06-25T09:23:48.557Z"
   },
   {
    "duration": 528,
    "start_time": "2021-06-25T09:23:49.325Z"
   },
   {
    "duration": 6,
    "start_time": "2021-06-25T09:23:49.856Z"
   },
   {
    "duration": 466,
    "start_time": "2021-06-25T09:23:49.864Z"
   },
   {
    "duration": 259,
    "start_time": "2021-06-25T09:23:50.333Z"
   },
   {
    "duration": 8,
    "start_time": "2021-06-25T09:23:50.600Z"
   },
   {
    "duration": 11,
    "start_time": "2021-06-25T09:23:50.610Z"
   },
   {
    "duration": 19,
    "start_time": "2021-06-25T09:23:50.624Z"
   },
   {
    "duration": 6,
    "start_time": "2021-06-25T09:23:50.646Z"
   },
   {
    "duration": 40,
    "start_time": "2021-06-25T09:23:50.654Z"
   },
   {
    "duration": 12,
    "start_time": "2021-06-25T09:23:50.698Z"
   },
   {
    "duration": 16,
    "start_time": "2021-06-25T09:23:50.713Z"
   },
   {
    "duration": 16,
    "start_time": "2021-06-25T09:23:50.732Z"
   },
   {
    "duration": 12,
    "start_time": "2021-06-25T09:23:50.791Z"
   },
   {
    "duration": 6,
    "start_time": "2021-06-25T09:23:50.806Z"
   },
   {
    "duration": 16,
    "start_time": "2021-06-25T09:23:50.815Z"
   },
   {
    "duration": 57,
    "start_time": "2021-06-25T09:23:50.834Z"
   },
   {
    "duration": 1327,
    "start_time": "2021-06-25T09:26:00.223Z"
   },
   {
    "duration": 1451,
    "start_time": "2021-06-25T09:26:15.191Z"
   },
   {
    "duration": 68,
    "start_time": "2021-06-25T09:26:16.644Z"
   },
   {
    "duration": 21,
    "start_time": "2021-06-25T09:26:16.716Z"
   },
   {
    "duration": 16,
    "start_time": "2021-06-25T09:26:16.740Z"
   },
   {
    "duration": 41,
    "start_time": "2021-06-25T09:26:16.758Z"
   },
   {
    "duration": 8,
    "start_time": "2021-06-25T09:26:16.801Z"
   },
   {
    "duration": 17,
    "start_time": "2021-06-25T09:26:16.811Z"
   },
   {
    "duration": 53,
    "start_time": "2021-06-25T09:26:16.832Z"
   },
   {
    "duration": 20,
    "start_time": "2021-06-25T09:26:16.893Z"
   },
   {
    "duration": 20,
    "start_time": "2021-06-25T09:26:16.916Z"
   },
   {
    "duration": 57,
    "start_time": "2021-06-25T09:26:16.939Z"
   },
   {
    "duration": 522,
    "start_time": "2021-06-25T09:26:17.000Z"
   },
   {
    "duration": 10,
    "start_time": "2021-06-25T09:26:17.524Z"
   },
   {
    "duration": 12,
    "start_time": "2021-06-25T09:26:17.537Z"
   },
   {
    "duration": 52,
    "start_time": "2021-06-25T09:26:17.551Z"
   },
   {
    "duration": 10,
    "start_time": "2021-06-25T09:26:17.606Z"
   },
   {
    "duration": 13,
    "start_time": "2021-06-25T09:26:17.619Z"
   },
   {
    "duration": 13,
    "start_time": "2021-06-25T09:26:17.635Z"
   },
   {
    "duration": 7,
    "start_time": "2021-06-25T09:26:17.691Z"
   },
   {
    "duration": 11,
    "start_time": "2021-06-25T09:26:17.701Z"
   },
   {
    "duration": 355,
    "start_time": "2021-06-25T09:26:17.714Z"
   },
   {
    "duration": 239,
    "start_time": "2021-06-25T09:26:18.071Z"
   },
   {
    "duration": 20,
    "start_time": "2021-06-25T09:26:18.315Z"
   },
   {
    "duration": 959,
    "start_time": "2021-06-25T09:26:18.338Z"
   },
   {
    "duration": 1063,
    "start_time": "2021-06-25T09:26:19.300Z"
   },
   {
    "duration": 862,
    "start_time": "2021-06-25T09:26:20.366Z"
   },
   {
    "duration": 800,
    "start_time": "2021-06-25T09:26:21.230Z"
   },
   {
    "duration": 928,
    "start_time": "2021-06-25T09:26:22.033Z"
   },
   {
    "duration": 257,
    "start_time": "2021-06-25T09:26:22.964Z"
   },
   {
    "duration": 580,
    "start_time": "2021-06-25T09:26:23.223Z"
   },
   {
    "duration": 532,
    "start_time": "2021-06-25T09:26:23.806Z"
   },
   {
    "duration": 6,
    "start_time": "2021-06-25T09:26:24.341Z"
   },
   {
    "duration": 748,
    "start_time": "2021-06-25T09:26:24.349Z"
   },
   {
    "duration": 545,
    "start_time": "2021-06-25T09:26:25.100Z"
   },
   {
    "duration": 6,
    "start_time": "2021-06-25T09:26:25.648Z"
   },
   {
    "duration": 443,
    "start_time": "2021-06-25T09:26:25.657Z"
   },
   {
    "duration": 230,
    "start_time": "2021-06-25T09:26:26.103Z"
   },
   {
    "duration": 6,
    "start_time": "2021-06-25T09:26:26.336Z"
   },
   {
    "duration": 8,
    "start_time": "2021-06-25T09:26:26.345Z"
   },
   {
    "duration": 40,
    "start_time": "2021-06-25T09:26:26.356Z"
   },
   {
    "duration": 6,
    "start_time": "2021-06-25T09:26:26.399Z"
   },
   {
    "duration": 12,
    "start_time": "2021-06-25T09:26:26.408Z"
   },
   {
    "duration": 11,
    "start_time": "2021-06-25T09:26:26.423Z"
   },
   {
    "duration": 65,
    "start_time": "2021-06-25T09:26:26.437Z"
   },
   {
    "duration": 11,
    "start_time": "2021-06-25T09:26:26.505Z"
   },
   {
    "duration": 13,
    "start_time": "2021-06-25T09:26:26.518Z"
   },
   {
    "duration": 6,
    "start_time": "2021-06-25T09:26:26.533Z"
   },
   {
    "duration": 50,
    "start_time": "2021-06-25T09:26:26.541Z"
   },
   {
    "duration": 20,
    "start_time": "2021-06-25T09:26:26.594Z"
   },
   {
    "duration": 1256,
    "start_time": "2021-06-25T09:27:34.304Z"
   },
   {
    "duration": 1484,
    "start_time": "2021-06-25T09:27:40.870Z"
   },
   {
    "duration": 66,
    "start_time": "2021-06-25T09:27:42.357Z"
   },
   {
    "duration": 20,
    "start_time": "2021-06-25T09:27:42.427Z"
   },
   {
    "duration": 18,
    "start_time": "2021-06-25T09:27:42.450Z"
   },
   {
    "duration": 25,
    "start_time": "2021-06-25T09:27:42.471Z"
   },
   {
    "duration": 6,
    "start_time": "2021-06-25T09:27:42.500Z"
   },
   {
    "duration": 21,
    "start_time": "2021-06-25T09:27:42.508Z"
   },
   {
    "duration": 58,
    "start_time": "2021-06-25T09:27:42.533Z"
   },
   {
    "duration": 22,
    "start_time": "2021-06-25T09:27:42.596Z"
   },
   {
    "duration": 26,
    "start_time": "2021-06-25T09:27:42.620Z"
   },
   {
    "duration": 52,
    "start_time": "2021-06-25T09:27:42.650Z"
   },
   {
    "duration": 549,
    "start_time": "2021-06-25T09:27:42.705Z"
   },
   {
    "duration": 10,
    "start_time": "2021-06-25T09:27:43.257Z"
   },
   {
    "duration": 13,
    "start_time": "2021-06-25T09:27:43.292Z"
   },
   {
    "duration": 28,
    "start_time": "2021-06-25T09:27:43.308Z"
   },
   {
    "duration": 54,
    "start_time": "2021-06-25T09:27:43.339Z"
   },
   {
    "duration": 12,
    "start_time": "2021-06-25T09:27:43.396Z"
   },
   {
    "duration": 12,
    "start_time": "2021-06-25T09:27:43.411Z"
   },
   {
    "duration": 9,
    "start_time": "2021-06-25T09:27:43.425Z"
   },
   {
    "duration": 13,
    "start_time": "2021-06-25T09:27:43.436Z"
   },
   {
    "duration": 359,
    "start_time": "2021-06-25T09:27:43.451Z"
   },
   {
    "duration": 251,
    "start_time": "2021-06-25T09:27:43.812Z"
   },
   {
    "duration": 37,
    "start_time": "2021-06-25T09:27:44.068Z"
   },
   {
    "duration": 812,
    "start_time": "2021-06-25T09:27:44.109Z"
   },
   {
    "duration": 828,
    "start_time": "2021-06-25T09:27:44.924Z"
   },
   {
    "duration": 979,
    "start_time": "2021-06-25T09:27:45.754Z"
   },
   {
    "duration": 870,
    "start_time": "2021-06-25T09:27:46.735Z"
   },
   {
    "duration": 911,
    "start_time": "2021-06-25T09:27:47.608Z"
   },
   {
    "duration": 237,
    "start_time": "2021-06-25T09:27:48.521Z"
   },
   {
    "duration": 599,
    "start_time": "2021-06-25T09:27:48.761Z"
   },
   {
    "duration": 952,
    "start_time": "2021-06-25T09:27:49.362Z"
   },
   {
    "duration": 6,
    "start_time": "2021-06-25T09:27:50.316Z"
   },
   {
    "duration": 798,
    "start_time": "2021-06-25T09:27:50.324Z"
   },
   {
    "duration": 635,
    "start_time": "2021-06-25T09:27:51.125Z"
   },
   {
    "duration": 6,
    "start_time": "2021-06-25T09:27:51.762Z"
   },
   {
    "duration": 475,
    "start_time": "2021-06-25T09:27:51.771Z"
   },
   {
    "duration": 265,
    "start_time": "2021-06-25T09:27:52.249Z"
   },
   {
    "duration": 6,
    "start_time": "2021-06-25T09:27:52.517Z"
   },
   {
    "duration": 14,
    "start_time": "2021-06-25T09:27:52.525Z"
   },
   {
    "duration": 16,
    "start_time": "2021-06-25T09:27:52.542Z"
   },
   {
    "duration": 36,
    "start_time": "2021-06-25T09:27:52.560Z"
   },
   {
    "duration": 13,
    "start_time": "2021-06-25T09:27:52.599Z"
   },
   {
    "duration": 30,
    "start_time": "2021-06-25T09:27:52.614Z"
   },
   {
    "duration": 22,
    "start_time": "2021-06-25T09:27:52.647Z"
   },
   {
    "duration": 33,
    "start_time": "2021-06-25T09:27:52.672Z"
   },
   {
    "duration": 41,
    "start_time": "2021-06-25T09:27:52.708Z"
   },
   {
    "duration": 14,
    "start_time": "2021-06-25T09:27:52.751Z"
   },
   {
    "duration": 38,
    "start_time": "2021-06-25T09:27:52.767Z"
   },
   {
    "duration": 30,
    "start_time": "2021-06-25T09:27:52.808Z"
   },
   {
    "duration": 1466,
    "start_time": "2021-06-25T09:29:44.680Z"
   },
   {
    "duration": 68,
    "start_time": "2021-06-25T09:29:46.149Z"
   },
   {
    "duration": 24,
    "start_time": "2021-06-25T09:29:46.221Z"
   },
   {
    "duration": 20,
    "start_time": "2021-06-25T09:29:46.249Z"
   },
   {
    "duration": 33,
    "start_time": "2021-06-25T09:29:46.271Z"
   },
   {
    "duration": 6,
    "start_time": "2021-06-25T09:29:46.306Z"
   },
   {
    "duration": 17,
    "start_time": "2021-06-25T09:29:46.314Z"
   },
   {
    "duration": 74,
    "start_time": "2021-06-25T09:29:46.335Z"
   },
   {
    "duration": 18,
    "start_time": "2021-06-25T09:29:46.412Z"
   },
   {
    "duration": 56,
    "start_time": "2021-06-25T09:29:46.433Z"
   },
   {
    "duration": 28,
    "start_time": "2021-06-25T09:29:46.493Z"
   },
   {
    "duration": 541,
    "start_time": "2021-06-25T09:29:46.524Z"
   },
   {
    "duration": 25,
    "start_time": "2021-06-25T09:29:47.067Z"
   },
   {
    "duration": 15,
    "start_time": "2021-06-25T09:29:47.096Z"
   },
   {
    "duration": 25,
    "start_time": "2021-06-25T09:29:47.114Z"
   },
   {
    "duration": 10,
    "start_time": "2021-06-25T09:29:47.142Z"
   },
   {
    "duration": 49,
    "start_time": "2021-06-25T09:29:47.155Z"
   },
   {
    "duration": 15,
    "start_time": "2021-06-25T09:29:47.207Z"
   },
   {
    "duration": 6,
    "start_time": "2021-06-25T09:29:47.225Z"
   },
   {
    "duration": 10,
    "start_time": "2021-06-25T09:29:47.233Z"
   },
   {
    "duration": 365,
    "start_time": "2021-06-25T09:29:47.245Z"
   },
   {
    "duration": 284,
    "start_time": "2021-06-25T09:29:47.613Z"
   },
   {
    "duration": 21,
    "start_time": "2021-06-25T09:29:47.903Z"
   },
   {
    "duration": 800,
    "start_time": "2021-06-25T09:29:47.928Z"
   },
   {
    "duration": 768,
    "start_time": "2021-06-25T09:29:48.731Z"
   },
   {
    "duration": 1241,
    "start_time": "2021-06-25T09:29:49.502Z"
   },
   {
    "duration": 769,
    "start_time": "2021-06-25T09:29:50.746Z"
   },
   {
    "duration": 921,
    "start_time": "2021-06-25T09:29:51.518Z"
   },
   {
    "duration": 218,
    "start_time": "2021-06-25T09:29:52.442Z"
   },
   {
    "duration": 595,
    "start_time": "2021-06-25T09:29:52.663Z"
   },
   {
    "duration": 559,
    "start_time": "2021-06-25T09:29:53.260Z"
   },
   {
    "duration": 6,
    "start_time": "2021-06-25T09:29:53.821Z"
   },
   {
    "duration": 739,
    "start_time": "2021-06-25T09:29:53.830Z"
   },
   {
    "duration": 552,
    "start_time": "2021-06-25T09:29:54.572Z"
   },
   {
    "duration": 5,
    "start_time": "2021-06-25T09:29:55.126Z"
   },
   {
    "duration": 466,
    "start_time": "2021-06-25T09:29:55.134Z"
   },
   {
    "duration": 219,
    "start_time": "2021-06-25T09:29:55.602Z"
   },
   {
    "duration": 6,
    "start_time": "2021-06-25T09:29:55.824Z"
   },
   {
    "duration": 20,
    "start_time": "2021-06-25T09:29:55.832Z"
   },
   {
    "duration": 14,
    "start_time": "2021-06-25T09:29:55.854Z"
   },
   {
    "duration": 16,
    "start_time": "2021-06-25T09:29:55.870Z"
   },
   {
    "duration": 17,
    "start_time": "2021-06-25T09:29:55.889Z"
   },
   {
    "duration": 20,
    "start_time": "2021-06-25T09:29:55.909Z"
   },
   {
    "duration": 19,
    "start_time": "2021-06-25T09:29:55.931Z"
   },
   {
    "duration": 44,
    "start_time": "2021-06-25T09:29:55.952Z"
   },
   {
    "duration": 9,
    "start_time": "2021-06-25T09:29:55.999Z"
   },
   {
    "duration": 5,
    "start_time": "2021-06-25T09:29:56.011Z"
   },
   {
    "duration": 17,
    "start_time": "2021-06-25T09:29:56.019Z"
   },
   {
    "duration": 14,
    "start_time": "2021-06-25T09:29:56.039Z"
   },
   {
    "duration": 1478,
    "start_time": "2021-06-25T09:43:55.871Z"
   },
   {
    "duration": 67,
    "start_time": "2021-06-25T09:43:57.352Z"
   },
   {
    "duration": 34,
    "start_time": "2021-06-25T09:43:57.423Z"
   },
   {
    "duration": 17,
    "start_time": "2021-06-25T09:43:57.460Z"
   },
   {
    "duration": 32,
    "start_time": "2021-06-25T09:43:57.488Z"
   },
   {
    "duration": 27,
    "start_time": "2021-06-25T09:43:57.522Z"
   },
   {
    "duration": 20,
    "start_time": "2021-06-25T09:43:57.552Z"
   },
   {
    "duration": 44,
    "start_time": "2021-06-25T09:43:57.578Z"
   },
   {
    "duration": 61,
    "start_time": "2021-06-25T09:43:57.626Z"
   },
   {
    "duration": 30,
    "start_time": "2021-06-25T09:43:57.692Z"
   },
   {
    "duration": 22,
    "start_time": "2021-06-25T09:43:57.724Z"
   },
   {
    "duration": 715,
    "start_time": "2021-06-25T09:43:57.749Z"
   },
   {
    "duration": 23,
    "start_time": "2021-06-25T09:43:58.467Z"
   },
   {
    "duration": 12,
    "start_time": "2021-06-25T09:43:58.500Z"
   },
   {
    "duration": 26,
    "start_time": "2021-06-25T09:43:58.515Z"
   },
   {
    "duration": 53,
    "start_time": "2021-06-25T09:43:58.544Z"
   },
   {
    "duration": 12,
    "start_time": "2021-06-25T09:43:58.603Z"
   },
   {
    "duration": 21,
    "start_time": "2021-06-25T09:43:58.617Z"
   },
   {
    "duration": 5,
    "start_time": "2021-06-25T09:43:58.641Z"
   },
   {
    "duration": 39,
    "start_time": "2021-06-25T09:43:58.650Z"
   },
   {
    "duration": 414,
    "start_time": "2021-06-25T09:43:58.694Z"
   },
   {
    "duration": 263,
    "start_time": "2021-06-25T09:43:59.110Z"
   },
   {
    "duration": 24,
    "start_time": "2021-06-25T09:43:59.378Z"
   },
   {
    "duration": 1003,
    "start_time": "2021-06-25T09:43:59.405Z"
   },
   {
    "duration": 1605,
    "start_time": "2021-06-25T09:44:00.410Z"
   },
   {
    "duration": 1025,
    "start_time": "2021-06-25T09:44:02.017Z"
   },
   {
    "duration": 837,
    "start_time": "2021-06-25T09:44:03.046Z"
   },
   {
    "duration": 929,
    "start_time": "2021-06-25T09:44:03.886Z"
   },
   {
    "duration": 217,
    "start_time": "2021-06-25T09:44:04.818Z"
   },
   {
    "duration": 616,
    "start_time": "2021-06-25T09:44:05.037Z"
   },
   {
    "duration": 584,
    "start_time": "2021-06-25T09:44:05.656Z"
   },
   {
    "duration": 6,
    "start_time": "2021-06-25T09:44:06.242Z"
   },
   {
    "duration": 911,
    "start_time": "2021-06-25T09:44:06.251Z"
   },
   {
    "duration": 640,
    "start_time": "2021-06-25T09:44:07.165Z"
   },
   {
    "duration": 7,
    "start_time": "2021-06-25T09:44:07.808Z"
   },
   {
    "duration": 498,
    "start_time": "2021-06-25T09:44:07.818Z"
   },
   {
    "duration": 201,
    "start_time": "2021-06-25T09:44:08.318Z"
   },
   {
    "duration": 7,
    "start_time": "2021-06-25T09:44:08.522Z"
   },
   {
    "duration": 9,
    "start_time": "2021-06-25T09:44:08.532Z"
   },
   {
    "duration": 12,
    "start_time": "2021-06-25T09:44:08.544Z"
   },
   {
    "duration": 13,
    "start_time": "2021-06-25T09:44:08.584Z"
   },
   {
    "duration": 11,
    "start_time": "2021-06-25T09:44:08.600Z"
   },
   {
    "duration": 11,
    "start_time": "2021-06-25T09:44:08.614Z"
   },
   {
    "duration": 19,
    "start_time": "2021-06-25T09:44:08.628Z"
   },
   {
    "duration": 17,
    "start_time": "2021-06-25T09:44:08.685Z"
   },
   {
    "duration": 11,
    "start_time": "2021-06-25T09:44:08.704Z"
   },
   {
    "duration": 6,
    "start_time": "2021-06-25T09:44:08.718Z"
   },
   {
    "duration": 64,
    "start_time": "2021-06-25T09:44:08.727Z"
   },
   {
    "duration": 17,
    "start_time": "2021-06-25T09:44:08.794Z"
   },
   {
    "duration": 9,
    "start_time": "2021-06-25T09:51:02.629Z"
   },
   {
    "duration": 1498,
    "start_time": "2021-06-25T12:10:18.829Z"
   },
   {
    "duration": 57,
    "start_time": "2021-06-25T12:10:20.330Z"
   },
   {
    "duration": 24,
    "start_time": "2021-06-25T12:10:20.390Z"
   },
   {
    "duration": 18,
    "start_time": "2021-06-25T12:10:20.418Z"
   },
   {
    "duration": 37,
    "start_time": "2021-06-25T12:10:20.439Z"
   },
   {
    "duration": 5,
    "start_time": "2021-06-25T12:10:20.478Z"
   },
   {
    "duration": 15,
    "start_time": "2021-06-25T12:10:20.485Z"
   },
   {
    "duration": 73,
    "start_time": "2021-06-25T12:10:20.503Z"
   },
   {
    "duration": 18,
    "start_time": "2021-06-25T12:10:20.579Z"
   },
   {
    "duration": 27,
    "start_time": "2021-06-25T12:10:20.600Z"
   },
   {
    "duration": 22,
    "start_time": "2021-06-25T12:10:20.662Z"
   },
   {
    "duration": 554,
    "start_time": "2021-06-25T12:10:20.688Z"
   },
   {
    "duration": 20,
    "start_time": "2021-06-25T12:10:21.245Z"
   },
   {
    "duration": 9,
    "start_time": "2021-06-25T12:10:21.268Z"
   },
   {
    "duration": 26,
    "start_time": "2021-06-25T12:10:21.279Z"
   },
   {
    "duration": 10,
    "start_time": "2021-06-25T12:10:21.308Z"
   },
   {
    "duration": 51,
    "start_time": "2021-06-25T12:10:21.320Z"
   },
   {
    "duration": 14,
    "start_time": "2021-06-25T12:10:21.373Z"
   },
   {
    "duration": 13,
    "start_time": "2021-06-25T12:10:21.390Z"
   },
   {
    "duration": 9,
    "start_time": "2021-06-25T12:10:21.406Z"
   },
   {
    "duration": 378,
    "start_time": "2021-06-25T12:10:21.417Z"
   },
   {
    "duration": 273,
    "start_time": "2021-06-25T12:10:21.798Z"
   },
   {
    "duration": 19,
    "start_time": "2021-06-25T12:10:22.077Z"
   },
   {
    "duration": 843,
    "start_time": "2021-06-25T12:10:22.099Z"
   },
   {
    "duration": 811,
    "start_time": "2021-06-25T12:10:22.944Z"
   },
   {
    "duration": 882,
    "start_time": "2021-06-25T12:10:23.762Z"
   },
   {
    "duration": 1049,
    "start_time": "2021-06-25T12:10:24.646Z"
   },
   {
    "duration": 1194,
    "start_time": "2021-06-25T12:10:25.697Z"
   },
   {
    "duration": 276,
    "start_time": "2021-06-25T12:10:26.894Z"
   },
   {
    "duration": 634,
    "start_time": "2021-06-25T12:10:27.172Z"
   },
   {
    "duration": 556,
    "start_time": "2021-06-25T12:10:27.809Z"
   },
   {
    "duration": 7,
    "start_time": "2021-06-25T12:10:28.368Z"
   },
   {
    "duration": 758,
    "start_time": "2021-06-25T12:10:28.377Z"
   },
   {
    "duration": 552,
    "start_time": "2021-06-25T12:10:29.138Z"
   },
   {
    "duration": 5,
    "start_time": "2021-06-25T12:10:29.692Z"
   },
   {
    "duration": 469,
    "start_time": "2021-06-25T12:10:29.700Z"
   },
   {
    "duration": 212,
    "start_time": "2021-06-25T12:10:30.172Z"
   },
   {
    "duration": 6,
    "start_time": "2021-06-25T12:10:30.386Z"
   },
   {
    "duration": 16,
    "start_time": "2021-06-25T12:10:30.394Z"
   },
   {
    "duration": 16,
    "start_time": "2021-06-25T12:10:30.412Z"
   },
   {
    "duration": 16,
    "start_time": "2021-06-25T12:10:30.430Z"
   },
   {
    "duration": 24,
    "start_time": "2021-06-25T12:10:30.448Z"
   },
   {
    "duration": 33,
    "start_time": "2021-06-25T12:10:30.475Z"
   },
   {
    "duration": 17,
    "start_time": "2021-06-25T12:10:30.511Z"
   },
   {
    "duration": 15,
    "start_time": "2021-06-25T12:10:30.531Z"
   },
   {
    "duration": 31,
    "start_time": "2021-06-25T12:10:30.548Z"
   },
   {
    "duration": 31,
    "start_time": "2021-06-25T12:10:30.582Z"
   },
   {
    "duration": 25,
    "start_time": "2021-06-25T12:10:30.615Z"
   },
   {
    "duration": 42,
    "start_time": "2021-06-25T12:10:30.643Z"
   },
   {
    "duration": 10,
    "start_time": "2021-06-25T12:13:02.249Z"
   },
   {
    "duration": 11,
    "start_time": "2021-06-25T12:14:40.656Z"
   },
   {
    "duration": 10,
    "start_time": "2021-06-25T12:16:24.396Z"
   },
   {
    "duration": 10,
    "start_time": "2021-06-25T12:16:41.750Z"
   },
   {
    "duration": 16,
    "start_time": "2021-06-25T12:16:57.421Z"
   },
   {
    "duration": 13,
    "start_time": "2021-06-25T12:18:21.352Z"
   },
   {
    "duration": 11,
    "start_time": "2021-06-25T12:18:25.944Z"
   },
   {
    "duration": 1593,
    "start_time": "2021-06-25T12:18:42.246Z"
   },
   {
    "duration": 60,
    "start_time": "2021-06-25T12:18:43.842Z"
   },
   {
    "duration": 30,
    "start_time": "2021-06-25T12:18:43.906Z"
   },
   {
    "duration": 19,
    "start_time": "2021-06-25T12:18:43.940Z"
   },
   {
    "duration": 17,
    "start_time": "2021-06-25T12:18:43.963Z"
   },
   {
    "duration": 6,
    "start_time": "2021-06-25T12:18:43.983Z"
   },
   {
    "duration": 16,
    "start_time": "2021-06-25T12:18:43.991Z"
   },
   {
    "duration": 76,
    "start_time": "2021-06-25T12:18:44.012Z"
   },
   {
    "duration": 18,
    "start_time": "2021-06-25T12:18:44.091Z"
   },
   {
    "duration": 57,
    "start_time": "2021-06-25T12:18:44.112Z"
   },
   {
    "duration": 23,
    "start_time": "2021-06-25T12:18:44.171Z"
   },
   {
    "duration": 555,
    "start_time": "2021-06-25T12:18:44.197Z"
   },
   {
    "duration": 10,
    "start_time": "2021-06-25T12:18:44.763Z"
   },
   {
    "duration": 13,
    "start_time": "2021-06-25T12:18:44.776Z"
   },
   {
    "duration": 27,
    "start_time": "2021-06-25T12:18:44.792Z"
   },
   {
    "duration": 47,
    "start_time": "2021-06-25T12:18:44.821Z"
   },
   {
    "duration": 15,
    "start_time": "2021-06-25T12:18:44.870Z"
   },
   {
    "duration": 14,
    "start_time": "2021-06-25T12:18:44.887Z"
   },
   {
    "duration": 9,
    "start_time": "2021-06-25T12:18:44.903Z"
   },
   {
    "duration": 8,
    "start_time": "2021-06-25T12:18:44.914Z"
   },
   {
    "duration": 376,
    "start_time": "2021-06-25T12:18:44.924Z"
   },
   {
    "duration": 266,
    "start_time": "2021-06-25T12:18:45.302Z"
   },
   {
    "duration": 19,
    "start_time": "2021-06-25T12:18:45.573Z"
   },
   {
    "duration": 810,
    "start_time": "2021-06-25T12:18:45.595Z"
   },
   {
    "duration": 791,
    "start_time": "2021-06-25T12:18:46.408Z"
   },
   {
    "duration": 867,
    "start_time": "2021-06-25T12:18:47.201Z"
   },
   {
    "duration": 773,
    "start_time": "2021-06-25T12:18:48.070Z"
   },
   {
    "duration": 912,
    "start_time": "2021-06-25T12:18:48.845Z"
   },
   {
    "duration": 210,
    "start_time": "2021-06-25T12:18:49.762Z"
   },
   {
    "duration": 604,
    "start_time": "2021-06-25T12:18:49.974Z"
   },
   {
    "duration": 552,
    "start_time": "2021-06-25T12:18:50.580Z"
   },
   {
    "duration": 6,
    "start_time": "2021-06-25T12:18:51.136Z"
   },
   {
    "duration": 771,
    "start_time": "2021-06-25T12:18:51.145Z"
   },
   {
    "duration": 587,
    "start_time": "2021-06-25T12:18:51.919Z"
   },
   {
    "duration": 7,
    "start_time": "2021-06-25T12:18:52.509Z"
   },
   {
    "duration": 467,
    "start_time": "2021-06-25T12:18:52.519Z"
   },
   {
    "duration": 242,
    "start_time": "2021-06-25T12:18:52.989Z"
   },
   {
    "duration": 6,
    "start_time": "2021-06-25T12:18:53.234Z"
   },
   {
    "duration": 22,
    "start_time": "2021-06-25T12:18:53.242Z"
   },
   {
    "duration": 13,
    "start_time": "2021-06-25T12:18:53.267Z"
   },
   {
    "duration": 6,
    "start_time": "2021-06-25T12:18:53.282Z"
   },
   {
    "duration": 12,
    "start_time": "2021-06-25T12:18:53.292Z"
   },
   {
    "duration": 61,
    "start_time": "2021-06-25T12:18:53.307Z"
   },
   {
    "duration": 15,
    "start_time": "2021-06-25T12:18:53.371Z"
   },
   {
    "duration": 14,
    "start_time": "2021-06-25T12:18:53.389Z"
   },
   {
    "duration": 12,
    "start_time": "2021-06-25T12:18:53.405Z"
   },
   {
    "duration": 45,
    "start_time": "2021-06-25T12:18:53.419Z"
   },
   {
    "duration": 14,
    "start_time": "2021-06-25T12:18:53.466Z"
   },
   {
    "duration": 13,
    "start_time": "2021-06-25T12:18:53.483Z"
   },
   {
    "duration": 887,
    "start_time": "2021-06-25T12:19:33.891Z"
   },
   {
    "duration": 910,
    "start_time": "2021-06-25T12:19:45.140Z"
   },
   {
    "duration": 917,
    "start_time": "2021-06-25T12:19:49.834Z"
   },
   {
    "duration": 13,
    "start_time": "2021-06-25T12:24:20.736Z"
   },
   {
    "duration": 12,
    "start_time": "2021-06-25T12:24:38.204Z"
   },
   {
    "duration": 9,
    "start_time": "2021-06-25T12:24:40.989Z"
   },
   {
    "duration": 6,
    "start_time": "2021-06-25T12:24:48.058Z"
   },
   {
    "duration": 13,
    "start_time": "2021-06-25T12:25:07.566Z"
   },
   {
    "duration": 12,
    "start_time": "2021-06-25T12:25:14.321Z"
   },
   {
    "duration": 1504,
    "start_time": "2021-06-25T12:35:49.547Z"
   },
   {
    "duration": 59,
    "start_time": "2021-06-25T12:35:51.054Z"
   },
   {
    "duration": 40,
    "start_time": "2021-06-25T12:35:51.116Z"
   },
   {
    "duration": 32,
    "start_time": "2021-06-25T12:35:51.159Z"
   },
   {
    "duration": 28,
    "start_time": "2021-06-25T12:35:51.194Z"
   },
   {
    "duration": 6,
    "start_time": "2021-06-25T12:35:51.225Z"
   },
   {
    "duration": 30,
    "start_time": "2021-06-25T12:35:51.233Z"
   },
   {
    "duration": 37,
    "start_time": "2021-06-25T12:35:51.268Z"
   },
   {
    "duration": 19,
    "start_time": "2021-06-25T12:35:51.309Z"
   },
   {
    "duration": 30,
    "start_time": "2021-06-25T12:35:51.363Z"
   },
   {
    "duration": 30,
    "start_time": "2021-06-25T12:35:51.396Z"
   },
   {
    "duration": 765,
    "start_time": "2021-06-25T12:35:51.429Z"
   },
   {
    "duration": 12,
    "start_time": "2021-06-25T12:35:52.197Z"
   },
   {
    "duration": 17,
    "start_time": "2021-06-25T12:35:52.212Z"
   },
   {
    "duration": 61,
    "start_time": "2021-06-25T12:35:52.232Z"
   },
   {
    "duration": 14,
    "start_time": "2021-06-25T12:35:52.296Z"
   },
   {
    "duration": 14,
    "start_time": "2021-06-25T12:35:52.313Z"
   },
   {
    "duration": 18,
    "start_time": "2021-06-25T12:35:52.364Z"
   },
   {
    "duration": 16,
    "start_time": "2021-06-25T12:35:52.385Z"
   },
   {
    "duration": 17,
    "start_time": "2021-06-25T12:35:52.404Z"
   },
   {
    "duration": 538,
    "start_time": "2021-06-25T12:35:52.424Z"
   },
   {
    "duration": 388,
    "start_time": "2021-06-25T12:35:52.965Z"
   },
   {
    "duration": 26,
    "start_time": "2021-06-25T12:35:53.366Z"
   },
   {
    "duration": 1117,
    "start_time": "2021-06-25T12:35:53.396Z"
   },
   {
    "duration": 1100,
    "start_time": "2021-06-25T12:35:54.517Z"
   },
   {
    "duration": 963,
    "start_time": "2021-06-25T12:35:55.620Z"
   },
   {
    "duration": 798,
    "start_time": "2021-06-25T12:35:56.586Z"
   },
   {
    "duration": 1136,
    "start_time": "2021-06-25T12:35:57.387Z"
   },
   {
    "duration": 197,
    "start_time": "2021-06-25T12:35:58.525Z"
   },
   {
    "duration": 622,
    "start_time": "2021-06-25T12:35:58.725Z"
   },
   {
    "duration": 570,
    "start_time": "2021-06-25T12:35:59.349Z"
   },
   {
    "duration": 7,
    "start_time": "2021-06-25T12:35:59.926Z"
   },
   {
    "duration": 759,
    "start_time": "2021-06-25T12:35:59.936Z"
   },
   {
    "duration": 533,
    "start_time": "2021-06-25T12:36:00.697Z"
   },
   {
    "duration": 6,
    "start_time": "2021-06-25T12:36:01.232Z"
   },
   {
    "duration": 474,
    "start_time": "2021-06-25T12:36:01.240Z"
   },
   {
    "duration": 274,
    "start_time": "2021-06-25T12:36:01.717Z"
   },
   {
    "duration": 5,
    "start_time": "2021-06-25T12:36:01.994Z"
   },
   {
    "duration": 23,
    "start_time": "2021-06-25T12:36:02.002Z"
   },
   {
    "duration": 34,
    "start_time": "2021-06-25T12:36:02.028Z"
   },
   {
    "duration": 6,
    "start_time": "2021-06-25T12:36:02.064Z"
   },
   {
    "duration": 19,
    "start_time": "2021-06-25T12:36:02.073Z"
   },
   {
    "duration": 12,
    "start_time": "2021-06-25T12:36:02.096Z"
   },
   {
    "duration": 24,
    "start_time": "2021-06-25T12:36:02.111Z"
   },
   {
    "duration": 35,
    "start_time": "2021-06-25T12:36:02.137Z"
   },
   {
    "duration": 16,
    "start_time": "2021-06-25T12:36:02.175Z"
   },
   {
    "duration": 8,
    "start_time": "2021-06-25T12:36:02.195Z"
   },
   {
    "duration": 57,
    "start_time": "2021-06-25T12:36:02.207Z"
   },
   {
    "duration": 12,
    "start_time": "2021-06-25T12:36:02.267Z"
   },
   {
    "duration": 892,
    "start_time": "2021-10-27T08:01:08.396Z"
   },
   {
    "duration": 48,
    "start_time": "2021-10-27T08:01:09.290Z"
   },
   {
    "duration": 638,
    "start_time": "2021-10-27T08:01:09.341Z"
   },
   {
    "duration": 70,
    "start_time": "2021-10-27T08:01:09.982Z"
   },
   {
    "duration": 143,
    "start_time": "2021-10-27T08:01:10.055Z"
   },
   {
    "duration": 72,
    "start_time": "2021-10-27T08:01:10.201Z"
   },
   {
    "duration": 76,
    "start_time": "2021-10-27T08:01:10.275Z"
   },
   {
    "duration": 69,
    "start_time": "2021-10-27T08:01:10.354Z"
   },
   {
    "duration": 111,
    "start_time": "2021-10-27T08:02:04.414Z"
   },
   {
    "duration": 472,
    "start_time": "2021-10-27T08:39:38.511Z"
   },
   {
    "duration": 898,
    "start_time": "2021-10-27T08:39:46.735Z"
   },
   {
    "duration": 51,
    "start_time": "2021-10-27T08:39:47.636Z"
   },
   {
    "duration": 178,
    "start_time": "2021-10-27T08:39:47.691Z"
   },
   {
    "duration": 14,
    "start_time": "2021-10-27T08:39:47.873Z"
   },
   {
    "duration": 41,
    "start_time": "2021-10-27T08:39:47.890Z"
   },
   {
    "duration": 30,
    "start_time": "2021-10-27T08:39:47.934Z"
   },
   {
    "duration": 22,
    "start_time": "2021-10-27T08:39:47.967Z"
   },
   {
    "duration": 14,
    "start_time": "2021-10-27T08:39:47.992Z"
   }
  ],
  "kernelspec": {
   "display_name": "Python 3",
   "language": "python",
   "name": "python3"
  },
  "language_info": {
   "codemirror_mode": {
    "name": "ipython",
    "version": 3
   },
   "file_extension": ".py",
   "mimetype": "text/x-python",
   "name": "python",
   "nbconvert_exporter": "python",
   "pygments_lexer": "ipython3",
   "version": "3.8.5"
  },
  "toc": {
   "base_numbering": 1,
   "nav_menu": {},
   "number_sections": false,
   "sideBar": true,
   "skip_h1_title": true,
   "title_cell": "Table of Contents",
   "title_sidebar": "Contents",
   "toc_cell": false,
   "toc_position": {
    "height": "calc(100% - 180px)",
    "left": "10px",
    "top": "150px",
    "width": "366.391px"
   },
   "toc_section_display": true,
   "toc_window_display": false
  }
 },
 "nbformat": 4,
 "nbformat_minor": 2
}
